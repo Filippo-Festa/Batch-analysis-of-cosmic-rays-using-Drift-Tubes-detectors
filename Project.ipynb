{
 "cells": [
  {
   "cell_type": "code",
   "execution_count": 1,
   "id": "bc0a0913",
   "metadata": {},
   "outputs": [],
   "source": [
    "import struct\n",
    "from pyspark.sql import SparkSession, Window\n",
    "import pyspark.sql.functions as f\n",
    "from pyspark.sql.functions import when, col, lag, lit\n",
    "import matplotlib.pyplot as plt\n",
    "from math import log\n",
    "import numpy as np\n",
    "from scipy.optimize import curve_fit\n",
    "from IPython.display import display, Math, Markdown, Latex\n",
    "from itertools import product\n",
    "\n",
    "import numpy\n",
    "import itertools"
   ]
  },
  {
   "cell_type": "markdown",
   "id": "3b906a94",
   "metadata": {},
   "source": [
    "# Setting"
   ]
  },
  {
   "cell_type": "code",
   "execution_count": 2,
   "id": "dc7c95a6",
   "metadata": {},
   "outputs": [],
   "source": [
    "#.config('spark.worker.cleanup.interval',1) \\\n",
    "#.config(\"spark.executor.cores\", 2)\\\n",
    "#           .config(\"spark.executor.cores\", 1)\\\n",
    "#           .config('spark.executor.instances', 4) \\"
   ]
  },
  {
   "cell_type": "code",
   "execution_count": 3,
   "id": "21105637",
   "metadata": {},
   "outputs": [
    {
     "name": "stderr",
     "output_type": "stream",
     "text": [
      "Warning: Ignoring non-Spark config property: com.amazonaws.sdk.disableCertChecking\n"
     ]
    },
    {
     "name": "stdout",
     "output_type": "stream",
     "text": [
      ":: loading settings :: url = jar:file:/usr/local/spark/jars/ivy-2.5.0.jar!/org/apache/ivy/core/settings/ivysettings.xml\n"
     ]
    }
   ],
   "source": [
    "spark = SparkSession.builder \\\n",
    "            .master(\"spark://10.67.22.4:7077\") \\\n",
    "            .appName(\"Project\") \\\n",
    "            .config('spark.worker.cleanup.enabled',\"true\") \\\n",
    "            .config('spark.jars.packages', 'org.apache.hadoop:hadoop-common:3.2.0')\\\n",
    "            .config('spark.jars.packages', 'org.apache.hadoop:hadoop-aws:3.2.0')\\\n",
    "            .config('spark.jars.packages', 'com.amazonaws:aws-java-sdk:1.11.375')\\\n",
    "            .config(\"spark.executor.memory\", \"3g\")\\\n",
    "            .config('spark.executor.instances', 6) \\\n",
    "            .config(\"spark.sql.execution.arrow.pyspark.enabled\", \"true\")\\\n",
    "            .config(\"spark.sql.execution.arrow.pyspark.fallback.enabled\", \"false\")\\\n",
    "            .config('spark.hadoop.fs.s3a.aws.credentials.provider', 'org.apache.hadoop.fs.s3a.SimpleAWSCredentialsProvider')\\\n",
    "            .config('spark.hadoop.fs.s3a.access.key', '2186eedc366545058b0896dadf79d288')\\\n",
    "            .config('spark.hadoop.fs.s3a.secret.key', 'de147ce2e90741cdb9bae8f53ee5466e')\\\n",
    "            .config('spark.hadoop.fs.s3a.endpoint', 'https://cloud-areapd.pd.infn.it:5210')\\\n",
    "            .config(\"spark.hadoop.fs.s3a.impl\", \"org.apache.hadoop.fs.s3a.S3AFileSystem\") \\\n",
    "            .config(\"spark.hadoop.fs.s3a.metadatastore.impl\", \"org.apache.hadoop.fs.s3a.s3guard.NullMetadataStore\") \\\n",
    "            .config(\"spark.hadoop.fs.s3a.path.style.access\", \"true\") \\\n",
    "            .config(\"spark.hadoop.fs.s3a.connection.ssl.enabled\",\"false\") \\\n",
    "            .config(\"com.amazonaws.sdk.disableCertChecking\",\"true\") \\\n",
    "            .getOrCreate()"
   ]
  },
  {
   "cell_type": "code",
   "execution_count": 4,
   "id": "0a95186b",
   "metadata": {},
   "outputs": [
    {
     "data": {
      "text/html": [
       "\n",
       "            <div>\n",
       "                <p><b>SparkSession - in-memory</b></p>\n",
       "                \n",
       "        <div>\n",
       "            <p><b>SparkContext</b></p>\n",
       "\n",
       "            <p><a href=\"http://master:4040\">Spark UI</a></p>\n",
       "\n",
       "            <dl>\n",
       "              <dt>Version</dt>\n",
       "                <dd><code>v3.2.1</code></dd>\n",
       "              <dt>Master</dt>\n",
       "                <dd><code>spark://10.67.22.4:7077</code></dd>\n",
       "              <dt>AppName</dt>\n",
       "                <dd><code>Project</code></dd>\n",
       "            </dl>\n",
       "        </div>\n",
       "        \n",
       "            </div>\n",
       "        "
      ],
      "text/plain": [
       "<pyspark.sql.session.SparkSession at 0x7ffb25ef3400>"
      ]
     },
     "execution_count": 4,
     "metadata": {},
     "output_type": "execute_result"
    }
   ],
   "source": [
    "spark"
   ]
  },
  {
   "cell_type": "code",
   "execution_count": 5,
   "id": "e4201404",
   "metadata": {},
   "outputs": [
    {
     "data": {
      "text/html": [
       "\n",
       "        <div>\n",
       "            <p><b>SparkContext</b></p>\n",
       "\n",
       "            <p><a href=\"http://master:4040\">Spark UI</a></p>\n",
       "\n",
       "            <dl>\n",
       "              <dt>Version</dt>\n",
       "                <dd><code>v3.2.1</code></dd>\n",
       "              <dt>Master</dt>\n",
       "                <dd><code>spark://10.67.22.4:7077</code></dd>\n",
       "              <dt>AppName</dt>\n",
       "                <dd><code>Project</code></dd>\n",
       "            </dl>\n",
       "        </div>\n",
       "        "
      ],
      "text/plain": [
       "<SparkContext master=spark://10.67.22.4:7077 appName=Project>"
      ]
     },
     "execution_count": 5,
     "metadata": {},
     "output_type": "execute_result"
    }
   ],
   "source": [
    "sc = spark.sparkContext\n",
    "sc"
   ]
  },
  {
   "cell_type": "markdown",
   "id": "c0047420",
   "metadata": {},
   "source": [
    "# Preprocessing data"
   ]
  },
  {
   "cell_type": "markdown",
   "id": "2dac5617",
   "metadata": {},
   "source": [
    "### Load data"
   ]
  },
  {
   "cell_type": "code",
   "execution_count": 6,
   "id": "59ec0265",
   "metadata": {},
   "outputs": [],
   "source": [
    "raw = spark.read.format(\"binaryFile\").load('s3a://mapd-minidt-batch/data_*.dat')\n",
    "raw = raw.select(\"content\").rdd.flatMap(lambda el: el)"
   ]
  },
  {
   "cell_type": "markdown",
   "id": "bf6070fc",
   "metadata": {},
   "source": [
    "### Unpack data"
   ]
  },
  {
   "cell_type": "code",
   "execution_count": 7,
   "id": "7dd8e546",
   "metadata": {},
   "outputs": [],
   "source": [
    "def unpack(file_content):\n",
    "    ppd = []\n",
    "    word_counter=0\n",
    "    word_size = 8                                             # size of the word in bytes\n",
    "    for i in range(0, len(file_content), word_size):\n",
    "        word_counter+=1\n",
    "        thisInt = struct.unpack('<q', file_content[i:i+word_size])[0]\n",
    "        head = (thisInt >> 61) & 0x7\n",
    "        \n",
    "        if head == 2:\n",
    "            fpga = (thisInt >> 58) & 0x7\n",
    "            chan = (thisInt >> 49) & 0x1FF\n",
    "            orbit = (thisInt >> 17) & 0xFFFFFFFF\n",
    "            bx = (thisInt >> 5 ) & 0xFFF\n",
    "            tdc = (thisInt >> 0 ) & 0x1F\n",
    "            ppd.append([fpga, chan, orbit, bx, tdc])\n",
    "    return ppd"
   ]
  },
  {
   "cell_type": "code",
   "execution_count": 8,
   "id": "bd0ac389",
   "metadata": {},
   "outputs": [],
   "source": [
    "data = raw.flatMap(lambda file_content: unpack(file_content)).toDF(('FPGA','CHAN','ORBIT','BX','TDC'))\n",
    "#data = data.persist()"
   ]
  },
  {
   "cell_type": "markdown",
   "id": "fdc209af",
   "metadata": {},
   "source": [
    "### Locate chamber"
   ]
  },
  {
   "cell_type": "code",
   "execution_count": 9,
   "id": "410826ab",
   "metadata": {},
   "outputs": [],
   "source": [
    "data = data.withColumn(\"CHAMBER\", when((data.FPGA==0) & (data.CHAN < 63), 0)\\\n",
    "                                    .when((data.FPGA==0) & (data.CHAN > 63) & (data.CHAN < 128), 1)\\\n",
    "                                    .when((data.FPGA==1) & (data.CHAN < 63), 2)\\\n",
    "                                    .when((data.FPGA==1) & (data.CHAN > 63) & (data.CHAN < 128), 3)\\\n",
    "                                    .when((data.FPGA==1) & (data.CHAN == 128), 4))\n",
    "data = data.where(data.CHAMBER.isNotNull())"
   ]
  },
  {
   "cell_type": "code",
   "execution_count": 10,
   "id": "228bbb33",
   "metadata": {},
   "outputs": [],
   "source": [
    "#data = data.persist()"
   ]
  },
  {
   "cell_type": "code",
   "execution_count": 11,
   "id": "b2371028",
   "metadata": {},
   "outputs": [],
   "source": [
    "#data.show(5)"
   ]
  },
  {
   "cell_type": "code",
   "execution_count": 12,
   "id": "5600558d",
   "metadata": {},
   "outputs": [],
   "source": [
    "#data = data.unpersist()"
   ]
  },
  {
   "cell_type": "markdown",
   "id": "86cdd910",
   "metadata": {},
   "source": [
    "### Time information"
   ]
  },
  {
   "cell_type": "code",
   "execution_count": 13,
   "id": "61047de6",
   "metadata": {},
   "outputs": [],
   "source": [
    "data = data.withColumn('T_HIT_ns', (25 * (col('ORBIT') * 3564 + col('BX') + col('TDC')/30)))"
   ]
  },
  {
   "cell_type": "code",
   "execution_count": 14,
   "id": "6177c759",
   "metadata": {},
   "outputs": [],
   "source": [
    "#data = data.persist()"
   ]
  },
  {
   "cell_type": "code",
   "execution_count": 15,
   "id": "f59bd69f",
   "metadata": {},
   "outputs": [],
   "source": [
    "#data.show(5)"
   ]
  },
  {
   "cell_type": "code",
   "execution_count": 16,
   "id": "b07f1388",
   "metadata": {},
   "outputs": [],
   "source": [
    "#data = data.unpersist()"
   ]
  },
  {
   "cell_type": "markdown",
   "id": "ccde282f",
   "metadata": {},
   "source": [
    "#### Time corrections"
   ]
  },
  {
   "cell_type": "code",
   "execution_count": 17,
   "id": "70a2b7cc",
   "metadata": {},
   "outputs": [],
   "source": [
    "data = data.withColumn(\"T_HIT_ns\", when(data['CHAMBER']==0, data[\"T_HIT_ns\"]+93.9)\\\n",
    "                                        .when(data['CHAMBER']==1, data[\"T_HIT_ns\"]+101.4)\\\n",
    "                                        .when(data['CHAMBER']==2, data[\"T_HIT_ns\"]+95.5)\\\n",
    "                                        .when(data['CHAMBER']==3, data[\"T_HIT_ns\"]+92.4)\\\n",
    "                                        .when(data['CHAMBER']==4, data[\"T_HIT_ns\"]))"
   ]
  },
  {
   "cell_type": "code",
   "execution_count": 18,
   "id": "d6ccd78a",
   "metadata": {},
   "outputs": [],
   "source": [
    "#data = data.persist()"
   ]
  },
  {
   "cell_type": "code",
   "execution_count": 19,
   "id": "70c25557",
   "metadata": {},
   "outputs": [],
   "source": [
    "#data.show(5)"
   ]
  },
  {
   "cell_type": "code",
   "execution_count": 20,
   "id": "3b451c14",
   "metadata": {},
   "outputs": [],
   "source": [
    "#data = data.unpersist()"
   ]
  },
  {
   "cell_type": "markdown",
   "id": "19bc2c44",
   "metadata": {},
   "source": [
    "# Evaluating the probability distribution of the muon's arrival time"
   ]
  },
  {
   "cell_type": "code",
   "execution_count": 21,
   "id": "4db5cd45",
   "metadata": {},
   "outputs": [
    {
     "data": {
      "text/plain": [
       "'# save data to run cells in appendix section\\ndata_appendix = data\\n\\n# select only t0 arrival times\\ntimes_dist = data.filter(data.CHAMBER==4).select(col(\"T_HIT_ns\"))\\ntimes_dist.count()'"
      ]
     },
     "execution_count": 21,
     "metadata": {},
     "output_type": "execute_result"
    }
   ],
   "source": [
    "'''# save data to run cells in appendix section\n",
    "data_appendix = data\n",
    "\n",
    "# select only t0 arrival times\n",
    "times_dist = data.filter(data.CHAMBER==4).select(col(\"T_HIT_ns\"))\n",
    "times_dist.count()'''"
   ]
  },
  {
   "cell_type": "markdown",
   "id": "5d811f43",
   "metadata": {},
   "source": [
    "Since the dataset containing all the muons' arrival times contains \"only\" about 53 thousands records, we can import it locally on the master node to speed up the computation task. Others consideration about this choice can be found in the Appendix section."
   ]
  },
  {
   "cell_type": "code",
   "execution_count": 22,
   "id": "7123be82",
   "metadata": {},
   "outputs": [
    {
     "data": {
      "text/plain": [
       "\"times_data = times_dist.toPandas()\\n\\n# sort dataframe\\ntimes_data = times_data.sort_values('T_HIT_ns')\\n\\n# compute the time difference between the arrival time of two different muons\\ntimes_data['diff_time'] = times_data.diff()\\n\\n# filter the dataframe in order to delete one NaN and one outsider value\\ntimes_data = times_data[times_data.diff_time < 1e10]\\n\\ntimes_data.head()\""
      ]
     },
     "execution_count": 22,
     "metadata": {},
     "output_type": "execute_result"
    }
   ],
   "source": [
    "'''times_data = times_dist.toPandas()\n",
    "\n",
    "# sort dataframe\n",
    "times_data = times_data.sort_values('T_HIT_ns')\n",
    "\n",
    "# compute the time difference between the arrival time of two different muons\n",
    "times_data['diff_time'] = times_data.diff()\n",
    "\n",
    "# filter the dataframe in order to delete one NaN and one outsider value\n",
    "times_data = times_data[times_data.diff_time < 1e10]\n",
    "\n",
    "times_data.head()'''"
   ]
  },
  {
   "cell_type": "markdown",
   "id": "59eeb0ed",
   "metadata": {},
   "source": [
    "We know that the time between the arrival of two different muons follows an exponential distribution, here we fit the density distribution of t0 variable with an exponential function."
   ]
  },
  {
   "cell_type": "code",
   "execution_count": 23,
   "id": "77edf0aa",
   "metadata": {},
   "outputs": [
    {
     "data": {
      "text/plain": [
       "'# convert from ns to s\\ntimes_data.diff_time = times_data.diff_time.apply(lambda t: 1e-9*t)'"
      ]
     },
     "execution_count": 23,
     "metadata": {},
     "output_type": "execute_result"
    }
   ],
   "source": [
    "'''# convert from ns to s\n",
    "times_data.diff_time = times_data.diff_time.apply(lambda t: 1e-9*t)'''"
   ]
  },
  {
   "cell_type": "code",
   "execution_count": 24,
   "id": "ae768832",
   "metadata": {},
   "outputs": [
    {
     "data": {
      "text/plain": [
       "'# fit\\ndef exponential(x,A,gamma):\\n    return A*np.exp(-gamma*x)\\n\\nhist_val, bin_edges = np.histogram(times_data.diff_time.dropna(), bins=25)\\nmiddle_edges = [(bin_edges[i]+bin_edges[i+1])/2 for i in range(len(bin_edges)-1)]\\n\\npar, cov = curve_fit(exponential, middle_edges, hist_val, p0=(1000,1e-9))\\n\\n# print results\\nprint(\\'Fit function :\\')\\ndisplay(Math(r\\'f(t) = A e^{-\\\\lambda t}\\'))\\ndisplay(Math(fr\\'\\'))\\nprint(\\'Fit parameters :\\')\\ndisplay(Math(fr\\'A = ({par[0]*1e-3:.1f} \\\\pm {np.sqrt(cov[0,0])*1e-3:.1f}) \\\\cdot 10^3 \\'))\\ndisplay(Math(fr\\'\\\\gamma = ({par[1]:.3f} \\\\pm {np.sqrt(cov[1,1]):.3f} ) \\\\quad Hz\\'))\\nprint(\\'Mean time between two muons :\\')\\ndisplay(Math(fr\\'\\\\Delta T = ({1/(par[1]):.3f} \\\\pm {np.sqrt(cov[1,1])/(par[1]):.3f} ) \\\\quad s\\'))\\n\\n# plot results\\nx_plot = np.linspace(0.13,15,500)\\ny_plot = exponential(x_plot,*par)\\n\\nplt.figure(figsize=(14,7))\\nplt.hist(times_data.diff_time, bins=25, color=\\'darkslategray\\', label=\\'Experimental data\\')\\nplt.plot(x_plot, y_plot, \\'brown\\', label=\\'Fit function\\')\\nplt.title(\"Muon\\'s arrival time distribution\")\\nplt.xlabel(\\'Time  [s]\\')\\nplt.ylabel(\\'Counts\\')\\nplt.xticks(ticks=bin_edges)\\nplt.xlim(-0.1,5)\\nplt.legend()\\nplt.show()'"
      ]
     },
     "execution_count": 24,
     "metadata": {},
     "output_type": "execute_result"
    }
   ],
   "source": [
    "'''# fit\n",
    "def exponential(x,A,gamma):\n",
    "    return A*np.exp(-gamma*x)\n",
    "\n",
    "hist_val, bin_edges = np.histogram(times_data.diff_time.dropna(), bins=25)\n",
    "middle_edges = [(bin_edges[i]+bin_edges[i+1])/2 for i in range(len(bin_edges)-1)]\n",
    "\n",
    "par, cov = curve_fit(exponential, middle_edges, hist_val, p0=(1000,1e-9))\n",
    "\n",
    "# print results\n",
    "print('Fit function :')\n",
    "display(Math(r'f(t) = A e^{-\\lambda t}'))\n",
    "display(Math(fr''))\n",
    "print('Fit parameters :')\n",
    "display(Math(fr'A = ({par[0]*1e-3:.1f} \\pm {np.sqrt(cov[0,0])*1e-3:.1f}) \\cdot 10^3 '))\n",
    "display(Math(fr'\\gamma = ({par[1]:.3f} \\pm {np.sqrt(cov[1,1]):.3f} ) \\quad Hz'))\n",
    "print('Mean time between two muons :')\n",
    "display(Math(fr'\\Delta T = ({1/(par[1]):.3f} \\pm {np.sqrt(cov[1,1])/(par[1]):.3f} ) \\quad s'))\n",
    "\n",
    "# plot results\n",
    "x_plot = np.linspace(0.13,15,500)\n",
    "y_plot = exponential(x_plot,*par)\n",
    "\n",
    "plt.figure(figsize=(14,7))\n",
    "plt.hist(times_data.diff_time, bins=25, color='darkslategray', label='Experimental data')\n",
    "plt.plot(x_plot, y_plot, 'brown', label='Fit function')\n",
    "plt.title(\"Muon's arrival time distribution\")\n",
    "plt.xlabel('Time  [s]')\n",
    "plt.ylabel('Counts')\n",
    "plt.xticks(ticks=bin_edges)\n",
    "plt.xlim(-0.1,5)\n",
    "plt.legend()\n",
    "plt.show()'''"
   ]
  },
  {
   "cell_type": "markdown",
   "id": "6b140583",
   "metadata": {},
   "source": [
    "### Filter orbits with only one t0"
   ]
  },
  {
   "cell_type": "code",
   "execution_count": 25,
   "id": "900316c1",
   "metadata": {},
   "outputs": [],
   "source": [
    "data.createOrReplaceTempView(\"data_table\")\n",
    "data = spark.sql(\"SELECT * \\\n",
    "                    FROM (SELECT * FROM data_table WHERE ORBIT IN (SELECT DISTINCT ORBIT FROM data_table WHERE CHAMBER==4)) \\\n",
    "                    WHERE ORBIT IN (SELECT DISTINCT ORBIT \\\n",
    "                                    FROM (SELECT ORBIT, COUNT(*) AS COUNT \\\n",
    "                                           FROM data_table \\\n",
    "                                           GROUP BY (ORBIT) \\\n",
    "                                           HAVING count < 15))\")\n",
    "spark.catalog.dropTempView(\"data_table\")"
   ]
  },
  {
   "cell_type": "code",
   "execution_count": 26,
   "id": "a6f4a455",
   "metadata": {},
   "outputs": [],
   "source": [
    "data.createOrReplaceTempView(\"data_table\")\n",
    "data = spark.sql(\"SELECT * \\\n",
    "                  FROM data_table \\\n",
    "                  WHERE ORBIT IN (SELECT DISTINCT ORBIT \\\n",
    "                                  FROM (SELECT ORBIT, SUM(CASE WHEN CHAMBER = 4 THEN 1 ELSE 0 END) AS COUNT \\\n",
    "                                        FROM data_table \\\n",
    "                                        GROUP BY ORBIT \\\n",
    "                                        HAVING COUNT = 1))\")\n",
    "spark.catalog.dropTempView(\"data_table\")"
   ]
  },
  {
   "cell_type": "markdown",
   "id": "8d850879",
   "metadata": {},
   "source": [
    "### Add x_hit feature"
   ]
  },
  {
   "cell_type": "code",
   "execution_count": 27,
   "id": "254e42a7",
   "metadata": {},
   "outputs": [],
   "source": [
    "data.createOrReplaceTempView(\"data_table\")\n",
    "                             \n",
    "data2 = spark.sql(\"SELECT * \\\n",
    "                   FROM data_table \\\n",
    "                   WHERE CHAMBER = 4\")\n",
    "\n",
    "data2.createOrReplaceTempView(\"data_table2\")"
   ]
  },
  {
   "cell_type": "code",
   "execution_count": 28,
   "id": "0424ef34",
   "metadata": {},
   "outputs": [],
   "source": [
    "data = spark.sql(\"SELECT data_table.CHAMBER, data_table.CHAN, data_table.ORBIT, \\\n",
    "                  53.8*(data_table.T_HIT_ns - data_table2.T_HIT_ns) AS x_hit \\\n",
    "                  FROM data_table \\\n",
    "                  INNER JOIN data_table2 ON data_table.ORBIT = data_table2.ORBIT \\\n",
    "                  WHERE data_table.CHAMBER != 4\")"
   ]
  },
  {
   "cell_type": "code",
   "execution_count": 29,
   "id": "ddc4ef32",
   "metadata": {},
   "outputs": [],
   "source": [
    "spark.catalog.dropTempView(\"data_table\")\n",
    "spark.catalog.dropTempView(\"data_table2\")"
   ]
  },
  {
   "cell_type": "code",
   "execution_count": 30,
   "id": "e8f5cc49",
   "metadata": {},
   "outputs": [
    {
     "data": {
      "text/plain": [
       "'data = data.persist()\\ndata.show()\\ndata = data.unpersist()'"
      ]
     },
     "execution_count": 30,
     "metadata": {},
     "output_type": "execute_result"
    }
   ],
   "source": [
    "'''data = data.persist()\n",
    "data.show()\n",
    "data = data.unpersist()'''"
   ]
  },
  {
   "cell_type": "code",
   "execution_count": 31,
   "id": "5cf5137b",
   "metadata": {},
   "outputs": [
    {
     "data": {
      "text/plain": [
       "'\\nOrlandino version => same result!\\n\\nw = Window.partitionBy(\"ORBIT\")\\n\\nresult = data.withColumn(\\n    \"diff\",\\n    f.col(\"T_HIT_ns\") -\\n    f.first(f.when(f.col(\"CHAMBER\") == 4, f.col(\"T_HIT_ns\")), True).over(w)\\n)\\n\\nresult.show()\\n'"
      ]
     },
     "execution_count": 31,
     "metadata": {},
     "output_type": "execute_result"
    }
   ],
   "source": [
    "'''\n",
    "Orlandino version => same result!\n",
    "\n",
    "w = Window.partitionBy(\"ORBIT\")\n",
    "\n",
    "result = data.withColumn(\n",
    "    \"diff\",\n",
    "    f.col(\"T_HIT_ns\") -\n",
    "    f.first(f.when(f.col(\"CHAMBER\") == 4, f.col(\"T_HIT_ns\")), True).over(w)\n",
    ")\n",
    "\n",
    "result.show()\n",
    "'''"
   ]
  },
  {
   "cell_type": "markdown",
   "id": "5f3b135c",
   "metadata": {},
   "source": [
    "### Compute position inside each chamber"
   ]
  },
  {
   "cell_type": "code",
   "execution_count": 32,
   "id": "c2081f3d",
   "metadata": {},
   "outputs": [],
   "source": [
    "data.createOrReplaceTempView(\"data_table\")\n",
    "data = spark.sql(\"SELECT CHAMBER, CHAN, ORBIT, \\\n",
    "              CASE \\\n",
    "                  WHEN (((CHAMBER = 0) OR (CHAMBER = 2)) AND ((CHAN%4 = 0) OR (CHAN%4 = 1))) THEN 42000*(CHAN DIV 4) + 21000 - x_hit \\\n",
    "                  WHEN (((CHAMBER = 0) OR (CHAMBER = 2)) AND ((CHAN%4 = 2) OR (CHAN%4 = 3))) THEN 42000*(CHAN DIV 4) + 42000 - x_hit \\\n",
    "                  WHEN (((CHAMBER = 1) OR (CHAMBER = 3)) AND ((CHAN%4 = 0) OR (CHAN%4 = 1))) THEN 42000*((CHAN-64) DIV 4) + 21000 - x_hit \\\n",
    "                  WHEN (((CHAMBER = 1) OR (CHAMBER = 3)) AND ((CHAN%4 = 2) OR (CHAN%4 = 3))) THEN 42000*((CHAN-64) DIV 4) + 42000 - x_hit \\\n",
    "              END AS x_L, \\\n",
    "              CASE \\\n",
    "                  WHEN (((CHAMBER = 0) OR (CHAMBER = 2)) AND ((CHAN%4 = 0) OR (CHAN%4 = 1))) THEN 42000*(CHAN DIV 4) + 21000 + x_hit \\\n",
    "                  WHEN (((CHAMBER = 0) OR (CHAMBER = 2)) AND ((CHAN%4 = 2) OR (CHAN%4 = 3))) THEN 42000*(CHAN DIV 4) + 42000 + x_hit \\\n",
    "                  WHEN (((CHAMBER = 1) OR (CHAMBER = 3)) AND ((CHAN%4 = 0) OR (CHAN%4 = 1))) THEN 42000*((CHAN-64) DIV 4) + 21000 + x_hit \\\n",
    "                  WHEN (((CHAMBER = 1) OR (CHAMBER = 3)) AND ((CHAN%4 = 2) OR (CHAN%4 = 3))) THEN 42000*((CHAN-64) DIV 4) + 42000 + x_hit \\\n",
    "              END AS x_R \\\n",
    "          FROM data_table\")"
   ]
  },
  {
   "cell_type": "code",
   "execution_count": 33,
   "id": "53c90f84",
   "metadata": {},
   "outputs": [
    {
     "data": {
      "text/plain": [
       "'data = data.persist()\\ndata.show()\\ndata = data.unpersist()'"
      ]
     },
     "execution_count": 33,
     "metadata": {},
     "output_type": "execute_result"
    }
   ],
   "source": [
    "'''data = data.persist()\n",
    "data.show()\n",
    "data = data.unpersist()'''"
   ]
  },
  {
   "cell_type": "code",
   "execution_count": 34,
   "id": "461962b4",
   "metadata": {},
   "outputs": [],
   "source": [
    "spark.catalog.dropTempView(\"data_table\")\n",
    "data.createOrReplaceTempView(\"data_table\")\n",
    "\n",
    "data = spark.sql(\"SELECT CHAMBER, CHAN, ORBIT, x_L, x_R, \\\n",
    "                  CASE \\\n",
    "                      WHEN ((CHAMBER==0) AND (CHAN % 4 = 0)) THEN (219.8 + 19.5)*100 \\\n",
    "                      WHEN ((CHAMBER==0) AND (CHAN % 4 = 1)) THEN (219.8 - 6.5)*100 \\\n",
    "                      WHEN ((CHAMBER==0) AND (CHAN % 4 = 2)) THEN (219.8 + 6.5)*100 \\\n",
    "                      WHEN ((CHAMBER==0) AND (CHAN % 4 = 3)) THEN (219.8 - 19.5)*100 \\\n",
    "                      WHEN ((CHAMBER==1) AND (CHAN % 4 = 0)) THEN (977.3 + 19.5)*100 \\\n",
    "                      WHEN ((CHAMBER==1) AND (CHAN % 4 = 1)) THEN (977.3 - 6.5)*100 \\\n",
    "                      WHEN ((CHAMBER==1) AND (CHAN % 4 = 2)) THEN (977.3 + 6.5)*100 \\\n",
    "                      WHEN ((CHAMBER==1) AND (CHAN % 4 = 3)) THEN (977.3 - 19.5)*100 \\\n",
    "                      WHEN ((CHAMBER==2) AND (CHAN % 4 = 0)) THEN (1035.6 + 19.5)*100 \\\n",
    "                      WHEN ((CHAMBER==2) AND (CHAN % 4 = 1)) THEN (1035.6 - 6.5)*100 \\\n",
    "                      WHEN ((CHAMBER==2) AND (CHAN % 4 = 2)) THEN (1035.6 + 6.5)*100 \\\n",
    "                      WHEN ((CHAMBER==2) AND (CHAN % 4 = 3)) THEN (1035.6 - 19.5)*100 \\\n",
    "                      WHEN ((CHAMBER==3) AND (CHAN % 4 = 0)) THEN (1819.8 + 19.5)*100 \\\n",
    "                      WHEN ((CHAMBER==3) AND (CHAN % 4 = 1)) THEN (1819.8 - 6.5)*100 \\\n",
    "                      WHEN ((CHAMBER==3) AND (CHAN % 4 = 2)) THEN (1819.8 + 6.5)*100 \\\n",
    "                      WHEN ((CHAMBER==3) AND (CHAN % 4 = 3)) THEN (1819.8 - 19.5)*100 \\\n",
    "                  END AS z \\\n",
    "              FROM data_table\")"
   ]
  },
  {
   "cell_type": "code",
   "execution_count": 35,
   "id": "ac12e13e",
   "metadata": {},
   "outputs": [
    {
     "data": {
      "text/plain": [
       "'data = data.persist()\\ndata.show(15)\\ndata = data.unpersist()'"
      ]
     },
     "execution_count": 35,
     "metadata": {},
     "output_type": "execute_result"
    }
   ],
   "source": [
    "'''data = data.persist()\n",
    "data.show(15)\n",
    "data = data.unpersist()'''"
   ]
  },
  {
   "cell_type": "markdown",
   "id": "48b152e6",
   "metadata": {},
   "source": [
    "# Track reconstruction"
   ]
  },
  {
   "cell_type": "code",
   "execution_count": 36,
   "id": "1f086fb1",
   "metadata": {},
   "outputs": [],
   "source": [
    "def recast(X):\n",
    "    if (type(X[0])==float):\n",
    "        shuffled = []\n",
    "        for x in X: shuffled+=x\n",
    "        L, R, Z = [], [], []\n",
    "        for i in range(len(shuffled)):\n",
    "            if i%3==0: L.append(shuffled[i])\n",
    "            if i%3==1: R.append(shuffled[i])\n",
    "            if i%3==2: Z.append(shuffled[i])\n",
    "        return [L,R,Z]\n",
    "    else:\n",
    "        return X\n",
    "\n",
    "def best_fit(x):\n",
    "    comb_RL = list(itertools.product(*[[a,b] for a,b in zip(x[0],x[1])]))\n",
    "\n",
    "    comb_fit = []\n",
    "    for i in range(len(comb_RL)):  \n",
    "        p, res, _,_,_ = np.polyfit(comb_RL[i], x[2], 1, full=True)\n",
    "        comb_fit.append([list(res)+list(p), list(comb_RL[i])])    \n",
    "    \n",
    "    idxmin = np.argmin(np.array([el[0][0] for el in comb_fit]))\n",
    "    return [comb_fit[idxmin][0][1:], comb_fit[idxmin][1], x[2]]"
   ]
  },
  {
   "cell_type": "code",
   "execution_count": 37,
   "id": "84320985",
   "metadata": {
    "scrolled": true
   },
   "outputs": [],
   "source": [
    "rdd = data.rdd.map(lambda x: ((x[0], x[2]), [x[3], x[4], float(x[5])])) \\\n",
    "              .combineByKey((lambda x: [[x[0]], [x[1]], [x[2]]]), \\\n",
    "                         (lambda x,y: [x[0]+[y[0]], x[1]+[y[1]], x[2]+[y[2]]]), \\\n",
    "                         (lambda x,y: [x[0]+y[0], x[1]+y[1], x[2]+y[2]])) \\\n",
    "              .filter(lambda x: len(x[1][0]) > 2) \\\n",
    "              .mapValues(lambda x: best_fit(x))"
   ]
  },
  {
   "cell_type": "code",
   "execution_count": 38,
   "id": "72670046",
   "metadata": {},
   "outputs": [],
   "source": [
    "#rdd.persist()"
   ]
  },
  {
   "cell_type": "markdown",
   "id": "b56cb9a5",
   "metadata": {},
   "source": [
    "The RDD created is structured as a list of items (key, value), where key=(CHAMBER, ORBIT) and value=[angular coefficient, intercept] "
   ]
  },
  {
   "cell_type": "code",
   "execution_count": 39,
   "id": "a24ce944",
   "metadata": {
    "scrolled": true
   },
   "outputs": [
    {
     "data": {
      "text/plain": [
       "[((3, 14490784),\n",
       "  [[0.5436831709639035, -161717.90827550093],\n",
       "   [634074.4437011719, 635224.0562988281, 630785.5562988281],\n",
       "   [182630.0, 183930.0, 181330.0]]),\n",
       " ((1, 20292680),\n",
       "  [[-0.18679300829786316, 193249.94915182385],\n",
       "   [507348.14370117185,\n",
       "    517392.6721191406,\n",
       "    519766.9857910156,\n",
       "    500963.81474609376],\n",
       "   [98380.0, 97080.0, 95780.0, 99680.0]]),\n",
       " ((1, 49952604),\n",
       "  [[0.001553087473530135, 96746.9278345869],\n",
       "   [1113048.7115234374,\n",
       "    456634.3431640625,\n",
       "    488634.6568359375,\n",
       "    473599.3431640625],\n",
       "   [98380.0, 95780.0, 99680.0, 97080.0]]),\n",
       " ((2, 54870618),\n",
       "  [[-1.080843095579339, 650112.3913344657],\n",
       "   [505237.4, 507658.4, 504008.9, 505784.4158203125],\n",
       "   [104210.0, 101610.0, 105510.0, 102910.0]]),\n",
       " ((1, 57106879),\n",
       "  [[-0.6879323487230832, 515359.4999629648],\n",
       "   [607534.8431640625, 603948.1064453125, 609480.6064453125, 607353.709375],\n",
       "   [97080.0, 99680.0, 95780.0, 98380.0]])]"
      ]
     },
     "execution_count": 39,
     "metadata": {},
     "output_type": "execute_result"
    }
   ],
   "source": [
    "rdd.take(5)"
   ]
  },
  {
   "cell_type": "code",
   "execution_count": 40,
   "id": "b5ca2fbd",
   "metadata": {
    "scrolled": true
   },
   "outputs": [],
   "source": [
    "#We should use the collect() on smaller dataset usually after filter(), group(), count() e.t.c.\n",
    "#Retrieving on larger dataset results in out of memory.\n",
    "#rdd.collect()"
   ]
  },
  {
   "cell_type": "markdown",
   "id": "bd2fba4b",
   "metadata": {},
   "source": [
    "# PLOT"
   ]
  },
  {
   "cell_type": "markdown",
   "id": "7ee3fa83",
   "metadata": {},
   "source": [
    "### Local track"
   ]
  },
  {
   "cell_type": "code",
   "execution_count": 41,
   "id": "d7aa14a4",
   "metadata": {},
   "outputs": [],
   "source": [
    "def plot(x, m, b):\n",
    "    plt.figure(figsize=(15, 10))\n",
    "    plt.scatter(x[0], x[2])                 \n",
    "    plt.scatter(x[1], x[2]) \n",
    "    \n",
    "    Xmin = int(min(x[0]+x[1]))\n",
    "    Xmax = int(max(x[0]+x[1]))\n",
    "    X = np.arange(Xmin, Xmax)\n",
    "    plt.plot(X, m*X+b, '-')\n",
    "    plt.show()"
   ]
  },
  {
   "cell_type": "code",
   "execution_count": 42,
   "id": "29bcbd4f",
   "metadata": {
    "scrolled": true
   },
   "outputs": [],
   "source": [
    "Orb = 1118948\n",
    "Ch = 2\n",
    "\n",
    "x_L = data.rdd \\\n",
    "          .filter(lambda x: (x[0]==Ch)&(x[2]==Orb)) \\\n",
    "          .map(lambda x: ((x[0], x[2]), [x[3], x[4], float(x[5])])) \\\n",
    "          .combineByKey((lambda x: [[x[0]], [x[1]], [x[2]]]), \\\n",
    "                     (lambda x,y: [x[0]+[y[0]], x[1]+[y[1]], x[2]+[y[2]]]), \\\n",
    "                     (lambda x,y: [x[0]+y[0], x[1]+y[1], x[2]+y[2]])) \\\n",
    "          .reduce(lambda x: x) "
   ]
  },
  {
   "cell_type": "code",
   "execution_count": 43,
   "id": "1b9adc1d",
   "metadata": {
    "scrolled": true
   },
   "outputs": [],
   "source": [
    "# coeff_L = [m_L, b_L]\n",
    "coeff_L = data.rdd \\\n",
    "            .filter(lambda x: (x[0]==Ch)&(x[2]==Orb)) \\\n",
    "            .map(lambda x: ((x[0], x[2]), [x[3], x[4], float(x[5])])) \\\n",
    "            .combineByKey((lambda x: [[x[0]], [x[1]], [x[2]]]), \\\n",
    "                     (lambda x,y: [x[0]+[y[0]], x[1]+[y[1]], x[2]+[y[2]]]), \\\n",
    "                     (lambda x,y: [x[0]+y[0], x[1]+y[1], x[2]+y[2]])) \\\n",
    "            .mapValues(lambda x: best_fit(x)) \\\n",
    "            .reduce(lambda x: x)"
   ]
  },
  {
   "cell_type": "code",
   "execution_count": 44,
   "id": "fa7f9fa3",
   "metadata": {},
   "outputs": [
    {
     "data": {
      "text/plain": [
       "[[-0.3651498178454165, 283728.69338967284],\n",
       " [498368.9330596924, 488451.7338806152, 490881.7669403076, 495938.9],\n",
       " [101610.0, 105510.0, 104210.0, 102910.0]]"
      ]
     },
     "execution_count": 44,
     "metadata": {},
     "output_type": "execute_result"
    }
   ],
   "source": [
    "coeff_L[1]"
   ]
  },
  {
   "cell_type": "code",
   "execution_count": 45,
   "id": "96754ac5",
   "metadata": {},
   "outputs": [
    {
     "data": {
      "text/plain": [
       "[[498368.9330596924, 477548.2661193848, 490881.7669403076, 470061.1],\n",
       " [509631.0669403076, 488451.7338806152, 517118.2330596924, 495938.9],\n",
       " [101610.0, 105510.0, 104210.0, 102910.0]]"
      ]
     },
     "execution_count": 45,
     "metadata": {},
     "output_type": "execute_result"
    }
   ],
   "source": [
    "x_L[1]"
   ]
  },
  {
   "cell_type": "code",
   "execution_count": 46,
   "id": "0d80931f",
   "metadata": {
    "scrolled": false
   },
   "outputs": [
    {
     "data": {
      "image/png": "[encoded data removed]",
      "text/plain": [
       "<Figure size 1080x720 with 1 Axes>"
      ]
     },
     "metadata": {
      "needs_background": "light"
     },
     "output_type": "display_data"
    }
   ],
   "source": [
    "plot(x_L[1], coeff_L[1][0][0], coeff_L[1][0][1])"
   ]
  },
  {
   "cell_type": "markdown",
   "id": "39d56bac",
   "metadata": {},
   "source": [
    "### Global track"
   ]
  },
  {
   "cell_type": "code",
   "execution_count": 47,
   "id": "bb8826cf",
   "metadata": {},
   "outputs": [
    {
     "data": {
      "text/plain": [
       "'def recast3(X):\\n    L, R, Z = [], [], []\\n    for i in range(len(X)):\\n        if i%3==0: L.append(X[i])\\n        if i%3==1: R.append(X[i])\\n        if i%3==2: Z.append(X[i])\\n    return [L,R,Z]'"
      ]
     },
     "execution_count": 47,
     "metadata": {},
     "output_type": "execute_result"
    }
   ],
   "source": [
    "'''def recast3(X):\n",
    "    L, R, Z = [], [], []\n",
    "    for i in range(len(X)):\n",
    "        if i%3==0: L.append(X[i])\n",
    "        if i%3==1: R.append(X[i])\n",
    "        if i%3==2: Z.append(X[i])\n",
    "    return [L,R,Z]'''"
   ]
  },
  {
   "cell_type": "code",
   "execution_count": 48,
   "id": "89024aac",
   "metadata": {},
   "outputs": [
    {
     "data": {
      "text/plain": [
       "'def recast2(x):\\n    X, Z = [], []\\n    for i in x:\\n        X+=i[0]\\n        Z+=i[1]\\n    return [X,Z]'"
      ]
     },
     "execution_count": 48,
     "metadata": {},
     "output_type": "execute_result"
    }
   ],
   "source": [
    "'''def recast2(x):\n",
    "    X, Z = [], []\n",
    "    for i in x:\n",
    "        X+=i[0]\n",
    "        Z+=i[1]\n",
    "    return [X,Z]'''"
   ]
  },
  {
   "cell_type": "code",
   "execution_count": 49,
   "id": "67bb9c8b",
   "metadata": {},
   "outputs": [
    {
     "data": {
      "text/plain": [
       "'rdd_global = data.rdd     .filter(lambda x: x[0]!=1)    .map(lambda x: ((x[0], x[2]), [x[3], x[4], float(x[5])]))     .reduceByKey(lambda x,y: x+y)     .mapValues(lambda x: recast3(x))     .mapValues(lambda x: best_fit(x))     .map(lambda x: (x[0][1], [x[1][1], x[1][2]]))    .reduceByKey(lambda x, y: recast2([x,y]))'"
      ]
     },
     "execution_count": 49,
     "metadata": {},
     "output_type": "execute_result"
    }
   ],
   "source": [
    "'''rdd_global = data.rdd \\\n",
    "    .filter(lambda x: x[0]!=1)\\\n",
    "    .map(lambda x: ((x[0], x[2]), [x[3], x[4], float(x[5])])) \\\n",
    "    .reduceByKey(lambda x,y: x+y) \\\n",
    "    .mapValues(lambda x: recast3(x)) \\\n",
    "    .mapValues(lambda x: best_fit(x)) \\\n",
    "    .map(lambda x: (x[0][1], [x[1][1], x[1][2]]))\\\n",
    "    .reduceByKey(lambda x, y: recast2([x,y]))'''"
   ]
  },
  {
   "cell_type": "code",
   "execution_count": 50,
   "id": "38fa12f9",
   "metadata": {},
   "outputs": [
    {
     "data": {
      "text/plain": [
       "'rdd_global = rdd_global.unpersist()'"
      ]
     },
     "execution_count": 50,
     "metadata": {},
     "output_type": "execute_result"
    }
   ],
   "source": [
    "'''rdd_global = rdd_global.unpersist()'''"
   ]
  },
  {
   "cell_type": "code",
   "execution_count": 51,
   "id": "f45b3b81",
   "metadata": {
    "scrolled": true
   },
   "outputs": [
    {
     "data": {
      "text/plain": [
       "'rdd_global.take(1)'"
      ]
     },
     "execution_count": 51,
     "metadata": {},
     "output_type": "execute_result"
    }
   ],
   "source": [
    "'''rdd_global.take(1)'''"
   ]
  },
  {
   "cell_type": "code",
   "execution_count": 52,
   "id": "1ebe03a9",
   "metadata": {},
   "outputs": [
    {
     "data": {
      "text/plain": [
       "'    .reduceByKey(lambda x, y: recast2([x,y]))'"
      ]
     },
     "execution_count": 52,
     "metadata": {},
     "output_type": "execute_result"
    }
   ],
   "source": [
    "'''\\\n",
    "    .reduceByKey(lambda x, y: recast2([x,y]))'''"
   ]
  },
  {
   "cell_type": "code",
   "execution_count": 53,
   "id": "ff212c08",
   "metadata": {},
   "outputs": [
    {
     "data": {
      "text/plain": [
       "'rdd_global = rdd_global.groupByKey()     .mapValues(lambda x: recast2(x))     .filter(lambda x: len(x[1][0]) > 2)     .mapValues(lambda x: [list(np.polyfit(x[0], x[1], 1)), x[0], x[1]])'"
      ]
     },
     "execution_count": 53,
     "metadata": {},
     "output_type": "execute_result"
    }
   ],
   "source": [
    "'''rdd_global = rdd_global.groupByKey() \\\n",
    "    .mapValues(lambda x: recast2(x)) \\\n",
    "    .filter(lambda x: len(x[1][0]) > 2) \\\n",
    "    .mapValues(lambda x: [list(np.polyfit(x[0], x[1], 1)), x[0], x[1]])'''"
   ]
  },
  {
   "cell_type": "code",
   "execution_count": 54,
   "id": "07c1eeb1",
   "metadata": {
    "scrolled": true
   },
   "outputs": [
    {
     "data": {
      "text/plain": [
       "'rdd_global.take(5)'"
      ]
     },
     "execution_count": 54,
     "metadata": {},
     "output_type": "execute_result"
    }
   ],
   "source": [
    "'''rdd_global.take(5)'''"
   ]
  },
  {
   "cell_type": "code",
   "execution_count": 55,
   "id": "324a4dc0",
   "metadata": {},
   "outputs": [
    {
     "data": {
      "text/plain": [
       "'         .groupByKey() \\n    .mapValues(lambda x: recast2(x))     .filter(lambda x: len(x[1][0]) > 2)     .mapValues(lambda x: [list(np.polyfit(x[0], x[1], 1)), x[0], x[1]])'"
      ]
     },
     "execution_count": 55,
     "metadata": {},
     "output_type": "execute_result"
    }
   ],
   "source": [
    "'''     \\\n",
    "    .groupByKey() \n",
    "    .mapValues(lambda x: recast2(x)) \\\n",
    "    .filter(lambda x: len(x[1][0]) > 2) \\\n",
    "    .mapValues(lambda x: [list(np.polyfit(x[0], x[1], 1)), x[0], x[1]])'''"
   ]
  },
  {
   "cell_type": "code",
   "execution_count": 56,
   "id": "d393fee6",
   "metadata": {},
   "outputs": [],
   "source": [
    "def recast2(x):\n",
    "    X, Z = [], []\n",
    "    for i in x:\n",
    "        X+=i[0]\n",
    "        Z+=i[1]\n",
    "    return [X,Z]"
   ]
  },
  {
   "cell_type": "code",
   "execution_count": 57,
   "id": "4cd88c9b",
   "metadata": {},
   "outputs": [],
   "source": [
    "def plot(x, m, b):\n",
    "    plt.figure(figsize=(15, 10))\n",
    "    plt.scatter(x[0], x[1])                 \n",
    "    \n",
    "    Xmin = int(min(x[0]))\n",
    "    Xmax = int(max(x[0]))\n",
    "    X = range(Xmin, Xmax)\n",
    "    plt.plot(X, m*X+b, '-')\n",
    "    plt.show()"
   ]
  },
  {
   "cell_type": "code",
   "execution_count": 58,
   "id": "951ffe90",
   "metadata": {
    "scrolled": true
   },
   "outputs": [],
   "source": [
    "G = data.rdd \\\n",
    "        .filter(lambda x: ((x[2]==Orb)&(x[0]!=1))) \\\n",
    "        .map(lambda x: ((x[0], x[2]), [x[3], x[4], float(x[5])])) \\\n",
    "        .combineByKey((lambda x: [[x[0]], [x[1]], [x[2]]]), \\\n",
    "                     (lambda x,y: [x[0]+[y[0]], x[1]+[y[1]], x[2]+[y[2]]]), \\\n",
    "                     (lambda x,y: [x[0]+y[0], x[1]+y[1], x[2]+y[2]])) \\\n",
    "        .mapValues(lambda x: best_fit(x)) \\\n",
    "        .map(lambda x: (x[0][1], [x[1][1], x[1][2]])) \\\n",
    "        .reduceByKey(lambda x, y: recast2([x,y])) \\\n",
    "        .mapValues(lambda x: [list(np.polyfit(x[0], x[1], 1)), x[0], x[1]]) \\\n",
    "        .reduce(lambda x: x)"
   ]
  },
  {
   "cell_type": "code",
   "execution_count": 59,
   "id": "5e394fd8",
   "metadata": {
    "scrolled": false
   },
   "outputs": [
    {
     "data": {
      "image/png": "[encoded data removed]",
      "text/plain": [
       "<Figure size 1080x720 with 1 Axes>"
      ]
     },
     "metadata": {
      "needs_background": "light"
     },
     "output_type": "display_data"
    }
   ],
   "source": [
    "plot([G[1][1], G[1][2]], G[1][0][0], G[1][0][1])"
   ]
  },
  {
   "cell_type": "markdown",
   "id": "d2c9a2e8",
   "metadata": {},
   "source": [
    "# Angular resolution"
   ]
  },
  {
   "cell_type": "code",
   "execution_count": 60,
   "id": "bad650a1",
   "metadata": {},
   "outputs": [],
   "source": [
    "def recast2(x):\n",
    "    X, Z = [], []\n",
    "    for i in x:\n",
    "        X+=i[0]\n",
    "        Z+=i[1]\n",
    "    return [X,Z]"
   ]
  },
  {
   "cell_type": "code",
   "execution_count": 61,
   "id": "800d1c02",
   "metadata": {},
   "outputs": [],
   "source": [
    "rdd_global = data.rdd \\\n",
    "                 .filter(lambda x: x[0]!=1) \\\n",
    "                 .map(lambda x: ((x[0], x[2]), [x[3], x[4], float(x[5])])) \\\n",
    "                 .combineByKey((lambda x: [[x[0]], [x[1]], [x[2]]]), \\\n",
    "                               (lambda x,y: [x[0]+[y[0]], x[1]+[y[1]], x[2]+[y[2]]]), \\\n",
    "                               (lambda x,y: [x[0]+y[0], x[1]+y[1], x[2]+y[2]])) \\\n",
    "                 .mapValues(lambda x: best_fit(x)) \\\n",
    "                 .map(lambda x: (x[0][1], [x[1][1], x[1][2]])) \\\n",
    "                 .reduceByKey(lambda x, y: recast2([x,y])) \\\n",
    "                 .filter(lambda x: len(x[1][0]) > 2) \\\n",
    "                 .mapValues(lambda x: [list(np.polyfit(x[0], x[1], 1)), x[0], x[1]])"
   ]
  },
  {
   "cell_type": "code",
   "execution_count": 62,
   "id": "33c7e870",
   "metadata": {
    "scrolled": true
   },
   "outputs": [
    {
     "data": {
      "text/plain": [
       "[(259792768,\n",
       "  [[-0.6226203505175261, 378847.5614055865],\n",
       "   [438910.83671875, 443716.9, 444846.83671875],\n",
       "   [105510.0, 102910.0, 101610.0]]),\n",
       " (142809696,\n",
       "  [[-1.477261819264305, 720401.924854469],\n",
       "   [417686.705078125,\n",
       "    419390.33671875,\n",
       "    415749.66328125,\n",
       "    417453.294921875,\n",
       "    473375.2640625,\n",
       "    471669.604296875,\n",
       "    474269.97265625,\n",
       "    471761.2640625],\n",
       "   [104210.0,\n",
       "    101610.0,\n",
       "    105510.0,\n",
       "    102910.0,\n",
       "    21330.0,\n",
       "    22630.0,\n",
       "    20030.0,\n",
       "    23930.0]]),\n",
       " (221841489,\n",
       "  [[0.9315732290342914, -331709.55600820365],\n",
       "   [379375.2625,\n",
       "    381078.99921875,\n",
       "    379332.7375,\n",
       "    468662.16328125,\n",
       "    465434.16328125,\n",
       "    469030.0734375,\n",
       "    465757.1],\n",
       "   [22630.0, 20030.0, 23930.0, 104210.0, 101610.0, 105510.0, 102910.0]]),\n",
       " (377651195,\n",
       "  [[-0.7234710419782472, 445253.435317661],\n",
       "   [361164.24609375,\n",
       "    364481.77265625,\n",
       "    366662.70078125,\n",
       "    363300.20078125,\n",
       "    473244.33671875,\n",
       "    471621.3734375,\n",
       "    474804.18984375,\n",
       "    469523.31015625],\n",
       "   [183930.0,\n",
       "    181330.0,\n",
       "    180030.0,\n",
       "    182630.0,\n",
       "    102910.0,\n",
       "    104210.0,\n",
       "    101610.0,\n",
       "    105510.0]]),\n",
       " (244244480,\n",
       "  [[0.4475276911866323, -124994.75566420783],\n",
       "   [318168.7359375,\n",
       "    327003.00078125,\n",
       "    344100.2625,\n",
       "    506223.66328125,\n",
       "    512276.16328125,\n",
       "    513944.31015625,\n",
       "    507802.0734375],\n",
       "   [23930.0, 22630.0, 20030.0, 101610.0, 104210.0, 105510.0, 102910.0]])]"
      ]
     },
     "execution_count": 62,
     "metadata": {},
     "output_type": "execute_result"
    }
   ],
   "source": [
    "rdd_global.take(5)"
   ]
  },
  {
   "cell_type": "code",
   "execution_count": 63,
   "id": "7880b50a",
   "metadata": {},
   "outputs": [],
   "source": [
    "from pyspark.sql.types import StructType, StructField, IntegerType, DoubleType, FloatType"
   ]
  },
  {
   "cell_type": "code",
   "execution_count": 64,
   "id": "64fb3188",
   "metadata": {},
   "outputs": [],
   "source": [
    "schema_global = StructType(\n",
    "    [\n",
    "        StructField('ORBIT', IntegerType(), False),\n",
    "        StructField('m_g', DoubleType(), True),\n",
    "    ]\n",
    ")\n",
    "data_global = rdd_global.map(lambda x: [x[0]]+[float(x[1][0][0])]).toDF(schema_global)\n",
    "\n",
    "schema_local = StructType(\n",
    "    [\n",
    "        StructField('CHAMBER', IntegerType(), True),\n",
    "        StructField('ORBIT', IntegerType(), False),\n",
    "        StructField('m_l', DoubleType(), True),\n",
    "    ]\n",
    ")\n",
    "data_local = rdd.map(lambda x: [x[0][0],x[0][1]]+[float(x[1][0][0])]).toDF(schema_local)"
   ]
  },
  {
   "cell_type": "code",
   "execution_count": 65,
   "id": "75f2e35f",
   "metadata": {
    "scrolled": true
   },
   "outputs": [
    {
     "name": "stdout",
     "output_type": "stream",
     "text": [
      "+---------+-------+--------------------+--------------------+--------------------+\n",
      "|    ORBIT|CHAMBER|                 m_l|                 m_g|               theta|\n",
      "+---------+-------+--------------------+--------------------+--------------------+\n",
      "|169832527|      2| -0.6610244095281372| -0.6610244095281372|                 0.0|\n",
      "|138713984|      2|  1.1751205808547966|  1.0404534693686647|-0.06051433513736...|\n",
      "| 81108102|      2|-0.02753094908739538| -0.8224525711171491| -0.6607583887157871|\n",
      "|129578980|      2| 0.05550010867016464|   1.021224763005107|  0.7404554901529031|\n",
      "|172414775|      2| 0.07589387379196448| 0.07589387379196448|                 0.0|\n",
      "|247674014|      2|  0.3573193816922412|  1.3804689729506545|   0.600706610678903|\n",
      "| 46188862|      2| 0.09160441496561784|  1.2663862641716146|  0.8110497616679058|\n",
      "| 36447650|      2|  0.5149015826193043|  0.5262082447917449|0.008896026050837922|\n",
      "|292767857|      2|-0.05618929587446288|-0.05618929587446288|                 0.0|\n",
      "|144809384|      2| 0.48697941397486705| 0.48697941397486705|                 0.0|\n",
      "| 28134284|      2| 0.43916754715422557| 0.44086112244206244|0.001418865005031...|\n",
      "|135698288|      2| 0.36941158884158404| 0.36941158884158404|                 0.0|\n",
      "|143347796|      2|-0.25723138056183725| -0.6586853274076353|-0.33068368511852747|\n",
      "|189016642|      2| 0.07586685947549202| 0.07586685947549202|                 0.0|\n",
      "|128887374|      2| 0.08408227513209161| 0.08408227513209161|                 0.0|\n",
      "|380915170|      2|  -1.065426367067399|  -1.065426367067399|                 0.0|\n",
      "|378625430|      2|  0.2717457032885421|  0.3281203065496978|0.051713308886095107|\n",
      "|175729324|      2|-0.24001534770949212| -0.2551616855400877|-0.01427129650659037|\n",
      "|364666133|      2| -0.2118952850221806| -0.2118952850221806|                 0.0|\n",
      "|384950266|      2|    0.43865844886681|    0.43865844886681|                 0.0|\n",
      "+---------+-------+--------------------+--------------------+--------------------+\n",
      "only showing top 20 rows\n",
      "\n"
     ]
    }
   ],
   "source": [
    "from pyspark.sql.functions import atan\n",
    "\n",
    "ang_res = data_local[data_local['CHAMBER']==2]  \\\n",
    "                    .join(data_global, \"ORBIT\") \\\n",
    "                    .withColumn(\"theta\", atan((col('m_g') - col('m_l'))/(1 + col('m_g')*col('m_l'))))\n",
    "ang_res.show()"
   ]
  },
  {
   "cell_type": "code",
   "execution_count": 68,
   "id": "5551434b",
   "metadata": {},
   "outputs": [],
   "source": [
    "theta = ang_res.select('theta').rdd.flatMap(lambda x: x).collect()  "
   ]
  },
  {
   "cell_type": "code",
   "execution_count": 77,
   "id": "fa1c7885",
   "metadata": {},
   "outputs": [
    {
     "data": {
      "image/png": "[encoded data removed]",
      "text/plain": [
       "<Figure size 720x576 with 1 Axes>"
      ]
     },
     "metadata": {
      "needs_background": "light"
     },
     "output_type": "display_data"
    }
   ],
   "source": [
    "plt.figure(figsize=(10, 8))\n",
    "plt.hist(theta, bins=100, edgecolor='k') \n",
    "#plt.suptitle('Theta', fontsize = 13)\n",
    "plt.show()"
   ]
  },
  {
   "cell_type": "markdown",
   "id": "802f544b",
   "metadata": {},
   "source": [
    "# Total Plot"
   ]
  },
  {
   "cell_type": "code",
   "execution_count": 66,
   "id": "285655a8",
   "metadata": {},
   "outputs": [],
   "source": [
    "def mult_plot(L, G, m_L, b_L, m_G, b_G):\n",
    "    plt.figure(figsize=(15, 10))\n",
    "    plt.scatter(G[0], G[1])                 \n",
    "    \n",
    "    Gmin = int(min(G[0]))\n",
    "    Gmax = int(max(G[0]))\n",
    "    X = range(Gmin, Gmax)\n",
    "    plt.plot(X, m_L*X+b_L, '-', label='Regression Chamber2')\n",
    "    plt.plot(X, m_G*X+b_G, '-', label='Global Regression')\n",
    "    plt.legend(prop={'size': 12})\n",
    "    plt.show()"
   ]
  },
  {
   "cell_type": "code",
   "execution_count": 67,
   "id": "e3a17428",
   "metadata": {},
   "outputs": [
    {
     "data": {
      "image/png": "[encoded data removed]",
      "text/plain": [
       "<Figure size 1080x720 with 1 Axes>"
      ]
     },
     "metadata": {
      "needs_background": "light"
     },
     "output_type": "display_data"
    }
   ],
   "source": [
    "mult_plot(x_L[1], [G[1][1],G[1][2]], coeff_L[1][0][0], coeff_L[1][0][1], G[1][0][0], G[1][0][1])"
   ]
  },
  {
   "cell_type": "markdown",
   "id": "9369a97b",
   "metadata": {},
   "source": [
    "# STOP"
   ]
  },
  {
   "cell_type": "code",
   "execution_count": null,
   "id": "50e0e256",
   "metadata": {},
   "outputs": [],
   "source": [
    "sc.stop()\n",
    "spark.stop()"
   ]
  },
  {
   "cell_type": "markdown",
   "id": "38261f41",
   "metadata": {},
   "source": [
    "# BATARIA"
   ]
  },
  {
   "cell_type": "code",
   "execution_count": null,
   "id": "a176d5e6",
   "metadata": {},
   "outputs": [],
   "source": [
    "for (id, rdd) in sc._jsc.getPersistentRDDs().items():\n",
    "    rdd.unpersist()\n",
    "    print(\"Un {}\".format)"
   ]
  },
  {
   "cell_type": "code",
   "execution_count": null,
   "id": "4dc52456",
   "metadata": {},
   "outputs": [],
   "source": [
    "data.createOrReplaceTempView(\"data_table\")\n",
    "data = spark.sql(\"SELECT * \\\n",
    "                    FROM (SELECT * FROM data_table WHERE ORBIT IN (SELECT DISTINCT ORBIT FROM data_table WHERE CHAMBER==4)) \\\n",
    "                    WHERE ORBIT IN (SELECT DISTINCT ORBIT \\\n",
    "                                    FROM (SELECT ORBIT, COUNT(*) AS COUNT \\\n",
    "                                           FROM data_table \\\n",
    "                                           GROUP BY (ORBIT) \\\n",
    "                                           HAVING count < 15))\")"
   ]
  },
  {
   "cell_type": "markdown",
   "id": "ccc41c8b",
   "metadata": {},
   "source": [
    "# Appendix"
   ]
  },
  {
   "cell_type": "markdown",
   "id": "0416763f",
   "metadata": {},
   "source": [
    "### Computing the distribution of the muons' arrival time in parallel"
   ]
  },
  {
   "cell_type": "markdown",
   "id": "40a48779",
   "metadata": {},
   "source": [
    "In the next cell it is reported the code which aim to obtain the results found in Chapter ."
   ]
  },
  {
   "cell_type": "code",
   "execution_count": null,
   "id": "7543a55c",
   "metadata": {},
   "outputs": [],
   "source": [
    "# manipulate the dataframe\n",
    "b = data_appendix\n",
    "b = data.filter(data.CHAMBER==4).select(col(\"T_HIT_ns\"), col('TDC'))\n",
    "w = Window.partitionBy('TDC').orderBy('T_HIT_ns')\n",
    "# create a column with shifted data\n",
    "c = b.withColumn('lead', f.lag('T_HIT_ns', 1).over(w)) \\\n",
    "     .withColumn('t0_diff', f.when(f.col('lead').isNotNull(), f.col('T_HIT_ns') - f.col('lead')).otherwise(f.lit(None))) \\\n",
    "     .withColumn('t0_diff', col('t0_diff')*1e-9)              # compute the between-muons' time and convert in seconds\n",
    "d = c.select(\"t0_diff\").toPandas()                            # move datat to a Pandas dataframe\n",
    "\n",
    "# executing the fit\n",
    "hist_val, bin_edges = np.histogram(d.t0_diff.dropna(), bins=25)#, density=True)\n",
    "middle_edges = [(bin_edges[i]+bin_edges[i+1])/2 for i in range(len(bin_edges)-1)]\n",
    "def exponential(x,A,gamma):\n",
    "    return A*np.exp(-gamma*x)\n",
    "par, cov = curve_fit(exponential, middle_edges, hist_val, p0=(25000,1.5e-9), method='lm')\n",
    "\n",
    "# print results\n",
    "print('Fit parameters :')\n",
    "display(Math(fr'A = ({par[0]*1e-3:.1f} \\pm {np.sqrt(cov[0,0])*1e-3:.1f}) \\cdot 10^3 '))\n",
    "display(Math(fr'\\gamma = ({par[1]:.3f} \\pm {np.sqrt(cov[1,1]):.3f} ) \\quad Hz'))\n",
    "print('Mean time between two muons :')\n",
    "display(Math(fr'\\Delta T = ({1/(par[1]):.3f} \\pm {np.sqrt(cov[1,1])/(par[1]):.3f} ) \\quad s'))\n",
    "\n",
    "# plot results\n",
    "plt.figure(figsize=(14,7))\n",
    "x_plot = np.linspace(3,200,500)\n",
    "y_plot = exponential(x_plot,*par)\n",
    "plt.hist(d.t0_diff, bins=25, color='darkslategray', label='Experimental data')\n",
    "plt.plot(x_plot, y_plot, 'brown', label='Fit function')\n",
    "plt.title(\"Muon's arrival time distribution exploiting parallel computing\")\n",
    "plt.xlabel('Time  [s]')\n",
    "plt.ylabel('Counts')\n",
    "plt.xticks(ticks=bin_edges)\n",
    "plt.xlim(-1,160)\n",
    "plt.legend()\n",
    "plt.show()"
   ]
  },
  {
   "cell_type": "markdown",
   "id": "08d3ff6d",
   "metadata": {},
   "source": [
    "We can note that the histogram and the $\\gamma$ parameter obtained are sensibly different from the ones obtained executing the computation only on the master resources. This is caused by the line \"w = Window.partitionBy('TDC').orderBy('T_HIT_ns')\", where we impose a data partiton based on the TDC channel. Consequently, when sorting arrival times and computing the difference between them, the difference are not computed between consequent muons (because their information stands in different partitions) and this results in greater between-muons arrival time, which causes the histogram to be scaled in the x-axis.\n",
    "\n",
    "Note that executing the partition on a different column, like FPGA, CHAN or CHAMBER will results in allocate all data informations on a single partition. Providing no column to the partitionBy() function also causes Spark to save every record in a single virtual machine, thus losing all the advantages of exploiting a computing cluster."
   ]
  }
 ],
 "metadata": {
  "kernelspec": {
   "display_name": "Python 3 (ipykernel)",
   "language": "python",
   "name": "python3"
  },
  "language_info": {
   "codemirror_mode": {
    "name": "ipython",
    "version": 3
   },
   "file_extension": ".py",
   "mimetype": "text/x-python",
   "name": "python",
   "nbconvert_exporter": "python",
   "pygments_lexer": "ipython3",
   "version": "3.8.10"
  }
 },
 "nbformat": 4,
 "nbformat_minor": 5
}

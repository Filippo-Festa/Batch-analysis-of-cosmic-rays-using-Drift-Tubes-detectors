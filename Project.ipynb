{
 "cells": [
  {
   "cell_type": "code",
   "execution_count": 1,
   "id": "bc0a0913",
   "metadata": {},
   "outputs": [],
   "source": [
    "import struct\n",
    "from pyspark.sql import SparkSession\n",
    "from pyspark.sql.functions import when, col"
   ]
  },
  {
   "cell_type": "markdown",
   "id": "3b906a94",
   "metadata": {},
   "source": [
    "# Setting"
   ]
  },
  {
   "cell_type": "code",
   "execution_count": 2,
   "id": "21105637",
   "metadata": {},
   "outputs": [
    {
     "name": "stderr",
     "output_type": "stream",
     "text": [
      "Warning: Ignoring non-Spark config property: com.amazonaws.sdk.disableCertChecking\n",
      "WARNING: An illegal reflective access operation has occurred\n",
      "WARNING: Illegal reflective access by org.apache.spark.unsafe.Platform (file:/usr/local/spark/jars/spark-unsafe_2.12-3.2.1.jar) to constructor java.nio.DirectByteBuffer(long,int)\n",
      "WARNING: Please consider reporting this to the maintainers of org.apache.spark.unsafe.Platform\n",
      "WARNING: Use --illegal-access=warn to enable warnings of further illegal reflective access operations\n",
      "WARNING: All illegal access operations will be denied in a future release\n"
     ]
    },
    {
     "name": "stdout",
     "output_type": "stream",
     "text": [
      ":: loading settings :: url = jar:file:/usr/local/spark/jars/ivy-2.5.0.jar!/org/apache/ivy/core/settings/ivysettings.xml\n"
     ]
    },
    {
     "name": "stderr",
     "output_type": "stream",
     "text": [
      "Ivy Default Cache set to: /root/.ivy2/cache\n",
      "The jars for the packages stored in: /root/.ivy2/jars\n",
      "com.amazonaws#aws-java-sdk added as a dependency\n",
      ":: resolving dependencies :: org.apache.spark#spark-submit-parent-e2be70cf-b12d-46e2-b82f-b79ecae23017;1.0\n",
      "\tconfs: [default]\n",
      "\tfound com.amazonaws#aws-java-sdk;1.11.375 in central\n",
      "\tfound com.amazonaws#aws-java-sdk-dlm;1.11.375 in central\n",
      "\tfound com.amazonaws#aws-java-sdk-core;1.11.375 in central\n",
      "\tfound commons-logging#commons-logging;1.1.3 in central\n",
      "\tfound org.apache.httpcomponents#httpclient;4.5.5 in central\n",
      "\tfound org.apache.httpcomponents#httpcore;4.4.9 in central\n",
      "\tfound commons-codec#commons-codec;1.10 in central\n",
      "\tfound software.amazon.ion#ion-java;1.0.2 in central\n",
      "\tfound com.fasterxml.jackson.core#jackson-databind;2.6.7.1 in central\n",
      "\tfound com.fasterxml.jackson.core#jackson-annotations;2.6.0 in central\n",
      "\tfound com.fasterxml.jackson.core#jackson-core;2.6.7 in central\n",
      "\tfound com.fasterxml.jackson.dataformat#jackson-dataformat-cbor;2.6.7 in central\n",
      "\tfound joda-time#joda-time;2.8.1 in central\n",
      "\tfound com.amazonaws#jmespath-java;1.11.375 in central\n",
      "\tfound com.amazonaws#aws-java-sdk-macie;1.11.375 in central\n",
      "\tfound com.amazonaws#aws-java-sdk-eks;1.11.375 in central\n",
      "\tfound com.amazonaws#aws-java-sdk-mediatailor;1.11.375 in central\n",
      "\tfound com.amazonaws#aws-java-sdk-neptune;1.11.375 in central\n",
      "\tfound com.amazonaws#aws-java-sdk-pi;1.11.375 in central\n",
      "\tfound com.amazonaws#aws-java-sdk-iot1clickprojects;1.11.375 in central\n",
      "\tfound com.amazonaws#aws-java-sdk-iot1clickdevices;1.11.375 in central\n",
      "\tfound com.amazonaws#aws-java-sdk-iotanalytics;1.11.375 in central\n",
      "\tfound com.amazonaws#aws-java-sdk-acmpca;1.11.375 in central\n",
      "\tfound com.amazonaws#aws-java-sdk-secretsmanager;1.11.375 in central\n",
      "\tfound com.amazonaws#aws-java-sdk-fms;1.11.375 in central\n",
      "\tfound com.amazonaws#aws-java-sdk-connect;1.11.375 in central\n",
      "\tfound com.amazonaws#aws-java-sdk-transcribe;1.11.375 in central\n",
      "\tfound com.amazonaws#aws-java-sdk-autoscalingplans;1.11.375 in central\n",
      "\tfound com.amazonaws#aws-java-sdk-workmail;1.11.375 in central\n",
      "\tfound com.amazonaws#aws-java-sdk-servicediscovery;1.11.375 in central\n",
      "\tfound com.amazonaws#aws-java-sdk-cloud9;1.11.375 in central\n",
      "\tfound com.amazonaws#aws-java-sdk-serverlessapplicationrepository;1.11.375 in central\n",
      "\tfound com.amazonaws#aws-java-sdk-alexaforbusiness;1.11.375 in central\n",
      "\tfound com.amazonaws#aws-java-sdk-resourcegroups;1.11.375 in central\n",
      "\tfound com.amazonaws#aws-java-sdk-comprehend;1.11.375 in central\n",
      "\tfound com.amazonaws#aws-java-sdk-translate;1.11.375 in central\n",
      "\tfound com.amazonaws#aws-java-sdk-sagemaker;1.11.375 in central\n",
      "\tfound com.amazonaws#aws-java-sdk-iotjobsdataplane;1.11.375 in central\n",
      "\tfound com.amazonaws#aws-java-sdk-sagemakerruntime;1.11.375 in central\n",
      "\tfound com.amazonaws#aws-java-sdk-kinesisvideo;1.11.375 in central\n",
      "\tfound io.netty#netty-codec-http;4.1.17.Final in central\n",
      "\tfound io.netty#netty-codec;4.1.17.Final in central\n",
      "\tfound io.netty#netty-transport;4.1.17.Final in central\n",
      "\tfound io.netty#netty-buffer;4.1.17.Final in central\n",
      "\tfound io.netty#netty-common;4.1.17.Final in central\n",
      "\tfound io.netty#netty-resolver;4.1.17.Final in central\n",
      "\tfound io.netty#netty-handler;4.1.17.Final in central\n",
      "\tfound com.amazonaws#aws-java-sdk-appsync;1.11.375 in central\n",
      "\tfound com.amazonaws#aws-java-sdk-guardduty;1.11.375 in central\n",
      "\tfound com.amazonaws#aws-java-sdk-mq;1.11.375 in central\n",
      "\tfound com.amazonaws#aws-java-sdk-mediaconvert;1.11.375 in central\n",
      "\tfound com.amazonaws#aws-java-sdk-mediastore;1.11.375 in central\n",
      "\tfound com.amazonaws#aws-java-sdk-mediastoredata;1.11.375 in central\n",
      "\tfound com.amazonaws#aws-java-sdk-medialive;1.11.375 in central\n",
      "\tfound com.amazonaws#aws-java-sdk-mediapackage;1.11.375 in central\n",
      "\tfound com.amazonaws#aws-java-sdk-costexplorer;1.11.375 in central\n",
      "\tfound com.amazonaws#aws-java-sdk-pricing;1.11.375 in central\n",
      "\tfound com.amazonaws#aws-java-sdk-mobile;1.11.375 in central\n",
      "\tfound com.amazonaws#aws-java-sdk-cloudhsmv2;1.11.375 in central\n",
      "\tfound com.amazonaws#aws-java-sdk-glue;1.11.375 in central\n",
      "\tfound com.amazonaws#aws-java-sdk-migrationhub;1.11.375 in central\n",
      "\tfound com.amazonaws#aws-java-sdk-dax;1.11.375 in central\n",
      "\tfound com.amazonaws#aws-java-sdk-greengrass;1.11.375 in central\n",
      "\tfound com.amazonaws#aws-java-sdk-athena;1.11.375 in central\n",
      "\tfound com.amazonaws#aws-java-sdk-marketplaceentitlement;1.11.375 in central\n",
      "\tfound com.amazonaws#aws-java-sdk-codestar;1.11.375 in central\n",
      "\tfound com.amazonaws#aws-java-sdk-lexmodelbuilding;1.11.375 in central\n",
      "\tfound com.amazonaws#aws-java-sdk-resourcegroupstaggingapi;1.11.375 in central\n",
      "\tfound com.amazonaws#aws-java-sdk-pinpoint;1.11.375 in central\n",
      "\tfound com.amazonaws#aws-java-sdk-xray;1.11.375 in central\n",
      "\tfound com.amazonaws#aws-java-sdk-opsworkscm;1.11.375 in central\n",
      "\tfound com.amazonaws#aws-java-sdk-support;1.11.375 in central\n",
      "\tfound com.amazonaws#aws-java-sdk-simpledb;1.11.375 in central\n",
      "\tfound com.amazonaws#aws-java-sdk-servicecatalog;1.11.375 in central\n",
      "\tfound com.amazonaws#aws-java-sdk-servermigration;1.11.375 in central\n",
      "\tfound com.amazonaws#aws-java-sdk-simpleworkflow;1.11.375 in central\n",
      "\tfound com.amazonaws#aws-java-sdk-storagegateway;1.11.375 in central\n",
      "\tfound com.amazonaws#aws-java-sdk-route53;1.11.375 in central\n",
      "\tfound com.amazonaws#aws-java-sdk-s3;1.11.375 in central\n",
      "\tfound com.amazonaws#aws-java-sdk-kms;1.11.375 in central\n",
      "\tfound com.amazonaws#aws-java-sdk-importexport;1.11.375 in central\n",
      "\tfound com.amazonaws#aws-java-sdk-sts;1.11.375 in central\n",
      "\tfound com.amazonaws#aws-java-sdk-sqs;1.11.375 in central\n",
      "\tfound com.amazonaws#aws-java-sdk-rds;1.11.375 in central\n",
      "\tfound com.amazonaws#aws-java-sdk-redshift;1.11.375 in central\n",
      "\tfound com.amazonaws#aws-java-sdk-elasticbeanstalk;1.11.375 in central\n",
      "\tfound com.amazonaws#aws-java-sdk-glacier;1.11.375 in central\n",
      "\tfound com.amazonaws#aws-java-sdk-sns;1.11.375 in central\n",
      "\tfound com.amazonaws#aws-java-sdk-iam;1.11.375 in central\n",
      "\tfound com.amazonaws#aws-java-sdk-datapipeline;1.11.375 in central\n",
      "\tfound com.amazonaws#aws-java-sdk-elasticloadbalancing;1.11.375 in central\n",
      "\tfound com.amazonaws#aws-java-sdk-elasticloadbalancingv2;1.11.375 in central\n",
      "\tfound com.amazonaws#aws-java-sdk-emr;1.11.375 in central\n",
      "\tfound com.amazonaws#aws-java-sdk-elasticache;1.11.375 in central\n",
      "\tfound com.amazonaws#aws-java-sdk-elastictranscoder;1.11.375 in central\n",
      "\tfound com.amazonaws#aws-java-sdk-ec2;1.11.375 in central\n",
      "\tfound com.amazonaws#aws-java-sdk-dynamodb;1.11.375 in central\n",
      "\tfound com.amazonaws#aws-java-sdk-budgets;1.11.375 in central\n",
      "\tfound com.amazonaws#aws-java-sdk-cloudtrail;1.11.375 in central\n",
      "\tfound com.amazonaws#aws-java-sdk-cloudwatch;1.11.375 in central\n",
      "\tfound com.amazonaws#aws-java-sdk-logs;1.11.375 in central\n",
      "\tfound com.amazonaws#aws-java-sdk-events;1.11.375 in central\n",
      "\tfound com.amazonaws#aws-java-sdk-cognitoidentity;1.11.375 in central\n",
      "\tfound com.amazonaws#aws-java-sdk-cognitosync;1.11.375 in central\n",
      "\tfound com.amazonaws#aws-java-sdk-directconnect;1.11.375 in central\n",
      "\tfound com.amazonaws#aws-java-sdk-cloudformation;1.11.375 in central\n",
      "\tfound com.amazonaws#aws-java-sdk-cloudfront;1.11.375 in central\n",
      "\tfound com.amazonaws#aws-java-sdk-clouddirectory;1.11.375 in central\n",
      "\tfound com.amazonaws#aws-java-sdk-kinesis;1.11.375 in central\n",
      "\tfound com.amazonaws#aws-java-sdk-opsworks;1.11.375 in central\n",
      "\tfound com.amazonaws#aws-java-sdk-ses;1.11.375 in central\n",
      "\tfound com.amazonaws#aws-java-sdk-autoscaling;1.11.375 in central\n",
      "\tfound com.amazonaws#aws-java-sdk-cloudsearch;1.11.375 in central\n",
      "\tfound com.amazonaws#aws-java-sdk-cloudwatchmetrics;1.11.375 in central\n",
      "\tfound com.amazonaws#aws-java-sdk-codedeploy;1.11.375 in central\n",
      "\tfound com.amazonaws#aws-java-sdk-codepipeline;1.11.375 in central\n",
      "\tfound com.amazonaws#aws-java-sdk-config;1.11.375 in central\n",
      "\tfound com.amazonaws#aws-java-sdk-lambda;1.11.375 in central\n",
      "\tfound com.amazonaws#aws-java-sdk-ecs;1.11.375 in central\n",
      "\tfound com.amazonaws#aws-java-sdk-ecr;1.11.375 in central\n",
      "\tfound com.amazonaws#aws-java-sdk-cloudhsm;1.11.375 in central\n",
      "\tfound com.amazonaws#aws-java-sdk-ssm;1.11.375 in central\n",
      "\tfound com.amazonaws#aws-java-sdk-workspaces;1.11.375 in central\n",
      "\tfound com.amazonaws#aws-java-sdk-machinelearning;1.11.375 in central\n",
      "\tfound com.amazonaws#aws-java-sdk-directory;1.11.375 in central\n",
      "\tfound com.amazonaws#aws-java-sdk-efs;1.11.375 in central\n",
      "\tfound com.amazonaws#aws-java-sdk-codecommit;1.11.375 in central\n",
      "\tfound com.amazonaws#aws-java-sdk-devicefarm;1.11.375 in central\n",
      "\tfound com.amazonaws#aws-java-sdk-elasticsearch;1.11.375 in central\n",
      "\tfound com.amazonaws#aws-java-sdk-waf;1.11.375 in central\n",
      "\tfound com.amazonaws#aws-java-sdk-marketplacecommerceanalytics;1.11.375 in central\n",
      "\tfound com.amazonaws#aws-java-sdk-inspector;1.11.375 in central\n"
     ]
    },
    {
     "name": "stderr",
     "output_type": "stream",
     "text": [
      "\tfound com.amazonaws#aws-java-sdk-iot;1.11.375 in central\n",
      "\tfound com.amazonaws#aws-java-sdk-api-gateway;1.11.375 in central\n",
      "\tfound com.amazonaws#aws-java-sdk-acm;1.11.375 in central\n",
      "\tfound com.amazonaws#aws-java-sdk-gamelift;1.11.375 in central\n",
      "\tfound com.amazonaws#aws-java-sdk-dms;1.11.375 in central\n",
      "\tfound com.amazonaws#aws-java-sdk-marketplacemeteringservice;1.11.375 in central\n",
      "\tfound com.amazonaws#aws-java-sdk-cognitoidp;1.11.375 in central\n",
      "\tfound com.amazonaws#aws-java-sdk-discovery;1.11.375 in central\n",
      "\tfound com.amazonaws#aws-java-sdk-applicationautoscaling;1.11.375 in central\n",
      "\tfound com.amazonaws#aws-java-sdk-snowball;1.11.375 in central\n",
      "\tfound com.amazonaws#aws-java-sdk-rekognition;1.11.375 in central\n",
      "\tfound com.amazonaws#aws-java-sdk-polly;1.11.375 in central\n",
      "\tfound com.amazonaws#aws-java-sdk-lightsail;1.11.375 in central\n",
      "\tfound com.amazonaws#aws-java-sdk-stepfunctions;1.11.375 in central\n",
      "\tfound com.amazonaws#aws-java-sdk-health;1.11.375 in central\n",
      "\tfound com.amazonaws#aws-java-sdk-costandusagereport;1.11.375 in central\n",
      "\tfound com.amazonaws#aws-java-sdk-codebuild;1.11.375 in central\n",
      "\tfound com.amazonaws#aws-java-sdk-appstream;1.11.375 in central\n",
      "\tfound com.amazonaws#aws-java-sdk-shield;1.11.375 in central\n",
      "\tfound com.amazonaws#aws-java-sdk-batch;1.11.375 in central\n",
      "\tfound com.amazonaws#aws-java-sdk-lex;1.11.375 in central\n",
      "\tfound com.amazonaws#aws-java-sdk-mechanicalturkrequester;1.11.375 in central\n",
      "\tfound com.amazonaws#aws-java-sdk-organizations;1.11.375 in central\n",
      "\tfound com.amazonaws#aws-java-sdk-workdocs;1.11.375 in central\n",
      "\tfound com.amazonaws#aws-java-sdk-models;1.11.375 in central\n",
      "\tfound com.amazonaws#aws-java-sdk-swf-libraries;1.11.22 in central\n",
      ":: resolution report :: resolve 2543ms :: artifacts dl 45ms\n",
      "\t:: modules in use:\n",
      "\tcom.amazonaws#aws-java-sdk;1.11.375 from central in [default]\n",
      "\tcom.amazonaws#aws-java-sdk-acm;1.11.375 from central in [default]\n",
      "\tcom.amazonaws#aws-java-sdk-acmpca;1.11.375 from central in [default]\n",
      "\tcom.amazonaws#aws-java-sdk-alexaforbusiness;1.11.375 from central in [default]\n",
      "\tcom.amazonaws#aws-java-sdk-api-gateway;1.11.375 from central in [default]\n",
      "\tcom.amazonaws#aws-java-sdk-applicationautoscaling;1.11.375 from central in [default]\n",
      "\tcom.amazonaws#aws-java-sdk-appstream;1.11.375 from central in [default]\n",
      "\tcom.amazonaws#aws-java-sdk-appsync;1.11.375 from central in [default]\n",
      "\tcom.amazonaws#aws-java-sdk-athena;1.11.375 from central in [default]\n",
      "\tcom.amazonaws#aws-java-sdk-autoscaling;1.11.375 from central in [default]\n",
      "\tcom.amazonaws#aws-java-sdk-autoscalingplans;1.11.375 from central in [default]\n",
      "\tcom.amazonaws#aws-java-sdk-batch;1.11.375 from central in [default]\n",
      "\tcom.amazonaws#aws-java-sdk-budgets;1.11.375 from central in [default]\n",
      "\tcom.amazonaws#aws-java-sdk-cloud9;1.11.375 from central in [default]\n",
      "\tcom.amazonaws#aws-java-sdk-clouddirectory;1.11.375 from central in [default]\n",
      "\tcom.amazonaws#aws-java-sdk-cloudformation;1.11.375 from central in [default]\n",
      "\tcom.amazonaws#aws-java-sdk-cloudfront;1.11.375 from central in [default]\n",
      "\tcom.amazonaws#aws-java-sdk-cloudhsm;1.11.375 from central in [default]\n",
      "\tcom.amazonaws#aws-java-sdk-cloudhsmv2;1.11.375 from central in [default]\n",
      "\tcom.amazonaws#aws-java-sdk-cloudsearch;1.11.375 from central in [default]\n",
      "\tcom.amazonaws#aws-java-sdk-cloudtrail;1.11.375 from central in [default]\n",
      "\tcom.amazonaws#aws-java-sdk-cloudwatch;1.11.375 from central in [default]\n",
      "\tcom.amazonaws#aws-java-sdk-cloudwatchmetrics;1.11.375 from central in [default]\n",
      "\tcom.amazonaws#aws-java-sdk-codebuild;1.11.375 from central in [default]\n",
      "\tcom.amazonaws#aws-java-sdk-codecommit;1.11.375 from central in [default]\n",
      "\tcom.amazonaws#aws-java-sdk-codedeploy;1.11.375 from central in [default]\n",
      "\tcom.amazonaws#aws-java-sdk-codepipeline;1.11.375 from central in [default]\n",
      "\tcom.amazonaws#aws-java-sdk-codestar;1.11.375 from central in [default]\n",
      "\tcom.amazonaws#aws-java-sdk-cognitoidentity;1.11.375 from central in [default]\n",
      "\tcom.amazonaws#aws-java-sdk-cognitoidp;1.11.375 from central in [default]\n",
      "\tcom.amazonaws#aws-java-sdk-cognitosync;1.11.375 from central in [default]\n",
      "\tcom.amazonaws#aws-java-sdk-comprehend;1.11.375 from central in [default]\n",
      "\tcom.amazonaws#aws-java-sdk-config;1.11.375 from central in [default]\n",
      "\tcom.amazonaws#aws-java-sdk-connect;1.11.375 from central in [default]\n",
      "\tcom.amazonaws#aws-java-sdk-core;1.11.375 from central in [default]\n",
      "\tcom.amazonaws#aws-java-sdk-costandusagereport;1.11.375 from central in [default]\n",
      "\tcom.amazonaws#aws-java-sdk-costexplorer;1.11.375 from central in [default]\n",
      "\tcom.amazonaws#aws-java-sdk-datapipeline;1.11.375 from central in [default]\n",
      "\tcom.amazonaws#aws-java-sdk-dax;1.11.375 from central in [default]\n",
      "\tcom.amazonaws#aws-java-sdk-devicefarm;1.11.375 from central in [default]\n",
      "\tcom.amazonaws#aws-java-sdk-directconnect;1.11.375 from central in [default]\n",
      "\tcom.amazonaws#aws-java-sdk-directory;1.11.375 from central in [default]\n",
      "\tcom.amazonaws#aws-java-sdk-discovery;1.11.375 from central in [default]\n",
      "\tcom.amazonaws#aws-java-sdk-dlm;1.11.375 from central in [default]\n",
      "\tcom.amazonaws#aws-java-sdk-dms;1.11.375 from central in [default]\n",
      "\tcom.amazonaws#aws-java-sdk-dynamodb;1.11.375 from central in [default]\n",
      "\tcom.amazonaws#aws-java-sdk-ec2;1.11.375 from central in [default]\n",
      "\tcom.amazonaws#aws-java-sdk-ecr;1.11.375 from central in [default]\n",
      "\tcom.amazonaws#aws-java-sdk-ecs;1.11.375 from central in [default]\n",
      "\tcom.amazonaws#aws-java-sdk-efs;1.11.375 from central in [default]\n",
      "\tcom.amazonaws#aws-java-sdk-eks;1.11.375 from central in [default]\n",
      "\tcom.amazonaws#aws-java-sdk-elasticache;1.11.375 from central in [default]\n",
      "\tcom.amazonaws#aws-java-sdk-elasticbeanstalk;1.11.375 from central in [default]\n",
      "\tcom.amazonaws#aws-java-sdk-elasticloadbalancing;1.11.375 from central in [default]\n",
      "\tcom.amazonaws#aws-java-sdk-elasticloadbalancingv2;1.11.375 from central in [default]\n",
      "\tcom.amazonaws#aws-java-sdk-elasticsearch;1.11.375 from central in [default]\n",
      "\tcom.amazonaws#aws-java-sdk-elastictranscoder;1.11.375 from central in [default]\n",
      "\tcom.amazonaws#aws-java-sdk-emr;1.11.375 from central in [default]\n",
      "\tcom.amazonaws#aws-java-sdk-events;1.11.375 from central in [default]\n",
      "\tcom.amazonaws#aws-java-sdk-fms;1.11.375 from central in [default]\n",
      "\tcom.amazonaws#aws-java-sdk-gamelift;1.11.375 from central in [default]\n",
      "\tcom.amazonaws#aws-java-sdk-glacier;1.11.375 from central in [default]\n",
      "\tcom.amazonaws#aws-java-sdk-glue;1.11.375 from central in [default]\n",
      "\tcom.amazonaws#aws-java-sdk-greengrass;1.11.375 from central in [default]\n",
      "\tcom.amazonaws#aws-java-sdk-guardduty;1.11.375 from central in [default]\n",
      "\tcom.amazonaws#aws-java-sdk-health;1.11.375 from central in [default]\n",
      "\tcom.amazonaws#aws-java-sdk-iam;1.11.375 from central in [default]\n",
      "\tcom.amazonaws#aws-java-sdk-importexport;1.11.375 from central in [default]\n",
      "\tcom.amazonaws#aws-java-sdk-inspector;1.11.375 from central in [default]\n",
      "\tcom.amazonaws#aws-java-sdk-iot;1.11.375 from central in [default]\n",
      "\tcom.amazonaws#aws-java-sdk-iot1clickdevices;1.11.375 from central in [default]\n",
      "\tcom.amazonaws#aws-java-sdk-iot1clickprojects;1.11.375 from central in [default]\n",
      "\tcom.amazonaws#aws-java-sdk-iotanalytics;1.11.375 from central in [default]\n",
      "\tcom.amazonaws#aws-java-sdk-iotjobsdataplane;1.11.375 from central in [default]\n",
      "\tcom.amazonaws#aws-java-sdk-kinesis;1.11.375 from central in [default]\n",
      "\tcom.amazonaws#aws-java-sdk-kinesisvideo;1.11.375 from central in [default]\n",
      "\tcom.amazonaws#aws-java-sdk-kms;1.11.375 from central in [default]\n",
      "\tcom.amazonaws#aws-java-sdk-lambda;1.11.375 from central in [default]\n",
      "\tcom.amazonaws#aws-java-sdk-lex;1.11.375 from central in [default]\n",
      "\tcom.amazonaws#aws-java-sdk-lexmodelbuilding;1.11.375 from central in [default]\n",
      "\tcom.amazonaws#aws-java-sdk-lightsail;1.11.375 from central in [default]\n",
      "\tcom.amazonaws#aws-java-sdk-logs;1.11.375 from central in [default]\n",
      "\tcom.amazonaws#aws-java-sdk-machinelearning;1.11.375 from central in [default]\n",
      "\tcom.amazonaws#aws-java-sdk-macie;1.11.375 from central in [default]\n",
      "\tcom.amazonaws#aws-java-sdk-marketplacecommerceanalytics;1.11.375 from central in [default]\n",
      "\tcom.amazonaws#aws-java-sdk-marketplaceentitlement;1.11.375 from central in [default]\n",
      "\tcom.amazonaws#aws-java-sdk-marketplacemeteringservice;1.11.375 from central in [default]\n",
      "\tcom.amazonaws#aws-java-sdk-mechanicalturkrequester;1.11.375 from central in [default]\n",
      "\tcom.amazonaws#aws-java-sdk-mediaconvert;1.11.375 from central in [default]\n",
      "\tcom.amazonaws#aws-java-sdk-medialive;1.11.375 from central in [default]\n",
      "\tcom.amazonaws#aws-java-sdk-mediapackage;1.11.375 from central in [default]\n",
      "\tcom.amazonaws#aws-java-sdk-mediastore;1.11.375 from central in [default]\n",
      "\tcom.amazonaws#aws-java-sdk-mediastoredata;1.11.375 from central in [default]\n",
      "\tcom.amazonaws#aws-java-sdk-mediatailor;1.11.375 from central in [default]\n",
      "\tcom.amazonaws#aws-java-sdk-migrationhub;1.11.375 from central in [default]\n",
      "\tcom.amazonaws#aws-java-sdk-mobile;1.11.375 from central in [default]\n",
      "\tcom.amazonaws#aws-java-sdk-models;1.11.375 from central in [default]\n",
      "\tcom.amazonaws#aws-java-sdk-mq;1.11.375 from central in [default]\n",
      "\tcom.amazonaws#aws-java-sdk-neptune;1.11.375 from central in [default]\n",
      "\tcom.amazonaws#aws-java-sdk-opsworks;1.11.375 from central in [default]\n",
      "\tcom.amazonaws#aws-java-sdk-opsworkscm;1.11.375 from central in [default]\n",
      "\tcom.amazonaws#aws-java-sdk-organizations;1.11.375 from central in [default]\n",
      "\tcom.amazonaws#aws-java-sdk-pi;1.11.375 from central in [default]\n",
      "\tcom.amazonaws#aws-java-sdk-pinpoint;1.11.375 from central in [default]\n",
      "\tcom.amazonaws#aws-java-sdk-polly;1.11.375 from central in [default]\n",
      "\tcom.amazonaws#aws-java-sdk-pricing;1.11.375 from central in [default]\n",
      "\tcom.amazonaws#aws-java-sdk-rds;1.11.375 from central in [default]\n",
      "\tcom.amazonaws#aws-java-sdk-redshift;1.11.375 from central in [default]\n",
      "\tcom.amazonaws#aws-java-sdk-rekognition;1.11.375 from central in [default]\n",
      "\tcom.amazonaws#aws-java-sdk-resourcegroups;1.11.375 from central in [default]\n",
      "\tcom.amazonaws#aws-java-sdk-resourcegroupstaggingapi;1.11.375 from central in [default]\n",
      "\tcom.amazonaws#aws-java-sdk-route53;1.11.375 from central in [default]\n",
      "\tcom.amazonaws#aws-java-sdk-s3;1.11.375 from central in [default]\n",
      "\tcom.amazonaws#aws-java-sdk-sagemaker;1.11.375 from central in [default]\n",
      "\tcom.amazonaws#aws-java-sdk-sagemakerruntime;1.11.375 from central in [default]\n",
      "\tcom.amazonaws#aws-java-sdk-secretsmanager;1.11.375 from central in [default]\n",
      "\tcom.amazonaws#aws-java-sdk-serverlessapplicationrepository;1.11.375 from central in [default]\n",
      "\tcom.amazonaws#aws-java-sdk-servermigration;1.11.375 from central in [default]\n",
      "\tcom.amazonaws#aws-java-sdk-servicecatalog;1.11.375 from central in [default]\n",
      "\tcom.amazonaws#aws-java-sdk-servicediscovery;1.11.375 from central in [default]\n",
      "\tcom.amazonaws#aws-java-sdk-ses;1.11.375 from central in [default]\n",
      "\tcom.amazonaws#aws-java-sdk-shield;1.11.375 from central in [default]\n",
      "\tcom.amazonaws#aws-java-sdk-simpledb;1.11.375 from central in [default]\n",
      "\tcom.amazonaws#aws-java-sdk-simpleworkflow;1.11.375 from central in [default]\n",
      "\tcom.amazonaws#aws-java-sdk-snowball;1.11.375 from central in [default]\n",
      "\tcom.amazonaws#aws-java-sdk-sns;1.11.375 from central in [default]\n",
      "\tcom.amazonaws#aws-java-sdk-sqs;1.11.375 from central in [default]\n",
      "\tcom.amazonaws#aws-java-sdk-ssm;1.11.375 from central in [default]\n",
      "\tcom.amazonaws#aws-java-sdk-stepfunctions;1.11.375 from central in [default]\n",
      "\tcom.amazonaws#aws-java-sdk-storagegateway;1.11.375 from central in [default]\n",
      "\tcom.amazonaws#aws-java-sdk-sts;1.11.375 from central in [default]\n",
      "\tcom.amazonaws#aws-java-sdk-support;1.11.375 from central in [default]\n",
      "\tcom.amazonaws#aws-java-sdk-swf-libraries;1.11.22 from central in [default]\n",
      "\tcom.amazonaws#aws-java-sdk-transcribe;1.11.375 from central in [default]\n",
      "\tcom.amazonaws#aws-java-sdk-translate;1.11.375 from central in [default]\n",
      "\tcom.amazonaws#aws-java-sdk-waf;1.11.375 from central in [default]\n",
      "\tcom.amazonaws#aws-java-sdk-workdocs;1.11.375 from central in [default]\n",
      "\tcom.amazonaws#aws-java-sdk-workmail;1.11.375 from central in [default]\n",
      "\tcom.amazonaws#aws-java-sdk-workspaces;1.11.375 from central in [default]\n",
      "\tcom.amazonaws#aws-java-sdk-xray;1.11.375 from central in [default]\n",
      "\tcom.amazonaws#jmespath-java;1.11.375 from central in [default]\n",
      "\tcom.fasterxml.jackson.core#jackson-annotations;2.6.0 from central in [default]\n",
      "\tcom.fasterxml.jackson.core#jackson-core;2.6.7 from central in [default]\n",
      "\tcom.fasterxml.jackson.core#jackson-databind;2.6.7.1 from central in [default]\n",
      "\tcom.fasterxml.jackson.dataformat#jackson-dataformat-cbor;2.6.7 from central in [default]\n",
      "\tcommons-codec#commons-codec;1.10 from central in [default]\n",
      "\tcommons-logging#commons-logging;1.1.3 from central in [default]\n",
      "\tio.netty#netty-buffer;4.1.17.Final from central in [default]\n",
      "\tio.netty#netty-codec;4.1.17.Final from central in [default]\n",
      "\tio.netty#netty-codec-http;4.1.17.Final from central in [default]\n",
      "\tio.netty#netty-common;4.1.17.Final from central in [default]\n",
      "\tio.netty#netty-handler;4.1.17.Final from central in [default]\n",
      "\tio.netty#netty-resolver;4.1.17.Final from central in [default]\n",
      "\tio.netty#netty-transport;4.1.17.Final from central in [default]\n",
      "\tjoda-time#joda-time;2.8.1 from central in [default]\n",
      "\torg.apache.httpcomponents#httpclient;4.5.5 from central in [default]\n",
      "\torg.apache.httpcomponents#httpcore;4.4.9 from central in [default]\n",
      "\tsoftware.amazon.ion#ion-java;1.0.2 from central in [default]\n",
      "\t:: evicted modules:\n",
      "\tcommons-logging#commons-logging;1.2 by [commons-logging#commons-logging;1.1.3] in [default]\n",
      "\tcom.amazonaws#aws-java-sdk-simpleworkflow;1.11.22 by [com.amazonaws#aws-java-sdk-simpleworkflow;1.11.375] in [default]\n",
      "\t---------------------------------------------------------------------\n",
      "\t|                  |            modules            ||   artifacts   |\n",
      "\t|       conf       | number| search|dwnlded|evicted|| number|dwnlded|\n",
      "\t---------------------------------------------------------------------\n",
      "\t|      default     |  160  |   0   |   0   |   2   ||  158  |   0   |\n",
      "\t---------------------------------------------------------------------\n",
      ":: retrieving :: org.apache.spark#spark-submit-parent-e2be70cf-b12d-46e2-b82f-b79ecae23017\n",
      "\tconfs: [default]\n",
      "\t0 artifacts copied, 158 already retrieved (0kB/25ms)\n"
     ]
    },
    {
     "name": "stderr",
     "output_type": "stream",
     "text": [
      "22/07/02 14:43:42 WARN NativeCodeLoader: Unable to load native-hadoop library for your platform... using builtin-java classes where applicable\n",
      "Using Spark's default log4j profile: org/apache/spark/log4j-defaults.properties\n",
      "Setting default log level to \"WARN\".\n",
      "To adjust logging level use sc.setLogLevel(newLevel). For SparkR, use setLogLevel(newLevel).\n"
     ]
    }
   ],
   "source": [
    "spark = SparkSession.builder \\\n",
    "            .master(\"spark://10.67.22.4:7077\") \\\n",
    "            .appName(\"Project\") \\\n",
    "            .config('spark.jars.packages', 'org.apache.hadoop:hadoop-common:3.2.0')\\\n",
    "            .config('spark.jars.packages', 'org.apache.hadoop:hadoop-aws:3.2.0')\\\n",
    "            .config('spark.jars.packages', 'com.amazonaws:aws-java-sdk:1.11.375')\\\n",
    "            .config(\"spark.executor.memory\", \"2g\")\\\n",
    "            .config(\"spark.sql.execution.arrow.pyspark.enabled\", \"true\")\\\n",
    "            .config(\"spark.sql.execution.arrow.pyspark.fallback.enabled\", \"false\")\\\n",
    "            .config('spark.hadoop.fs.s3a.aws.credentials.provider', 'org.apache.hadoop.fs.s3a.SimpleAWSCredentialsProvider')\\\n",
    "            .config('spark.hadoop.fs.s3a.access.key', '2186eedc366545058b0896dadf79d288')\\\n",
    "            .config('spark.hadoop.fs.s3a.secret.key', 'de147ce2e90741cdb9bae8f53ee5466e')\\\n",
    "            .config('spark.hadoop.fs.s3a.endpoint', 'https://cloud-areapd.pd.infn.it:5210')\\\n",
    "            .config(\"spark.hadoop.fs.s3a.impl\", \"org.apache.hadoop.fs.s3a.S3AFileSystem\") \\\n",
    "            .config(\"spark.hadoop.fs.s3a.metadatastore.impl\", \"org.apache.hadoop.fs.s3a.s3guard.NullMetadataStore\") \\\n",
    "            .config(\"spark.hadoop.fs.s3a.path.style.access\", \"true\") \\\n",
    "            .config(\"spark.hadoop.fs.s3a.connection.ssl.enabled\",\"false\") \\\n",
    "            .config(\"com.amazonaws.sdk.disableCertChecking\",\"true\") \\\n",
    "            .getOrCreate()"
   ]
  },
  {
   "cell_type": "code",
   "execution_count": 3,
   "id": "0a95186b",
   "metadata": {},
   "outputs": [
    {
     "data": {
      "text/html": [
       "\n",
       "            <div>\n",
       "                <p><b>SparkSession - in-memory</b></p>\n",
       "                \n",
       "        <div>\n",
       "            <p><b>SparkContext</b></p>\n",
       "\n",
       "            <p><a href=\"http://master:4040\">Spark UI</a></p>\n",
       "\n",
       "            <dl>\n",
       "              <dt>Version</dt>\n",
       "                <dd><code>v3.2.1</code></dd>\n",
       "              <dt>Master</dt>\n",
       "                <dd><code>spark://10.67.22.4:7077</code></dd>\n",
       "              <dt>AppName</dt>\n",
       "                <dd><code>Project</code></dd>\n",
       "            </dl>\n",
       "        </div>\n",
       "        \n",
       "            </div>\n",
       "        "
      ],
      "text/plain": [
       "<pyspark.sql.session.SparkSession at 0x7f8344771bb0>"
      ]
     },
     "execution_count": 3,
     "metadata": {},
     "output_type": "execute_result"
    }
   ],
   "source": [
    "spark"
   ]
  },
  {
   "cell_type": "code",
   "execution_count": 4,
   "id": "e4201404",
   "metadata": {},
   "outputs": [
    {
     "data": {
      "text/html": [
       "\n",
       "        <div>\n",
       "            <p><b>SparkContext</b></p>\n",
       "\n",
       "            <p><a href=\"http://master:4040\">Spark UI</a></p>\n",
       "\n",
       "            <dl>\n",
       "              <dt>Version</dt>\n",
       "                <dd><code>v3.2.1</code></dd>\n",
       "              <dt>Master</dt>\n",
       "                <dd><code>spark://10.67.22.4:7077</code></dd>\n",
       "              <dt>AppName</dt>\n",
       "                <dd><code>Project</code></dd>\n",
       "            </dl>\n",
       "        </div>\n",
       "        "
      ],
      "text/plain": [
       "<SparkContext master=spark://10.67.22.4:7077 appName=Project>"
      ]
     },
     "execution_count": 4,
     "metadata": {},
     "output_type": "execute_result"
    }
   ],
   "source": [
    "sc = spark.sparkContext\n",
    "sc"
   ]
  },
  {
   "cell_type": "markdown",
   "id": "c0047420",
   "metadata": {},
   "source": [
    "# Preprocessing data"
   ]
  },
  {
   "cell_type": "markdown",
   "id": "2dac5617",
   "metadata": {},
   "source": [
    "### Load data"
   ]
  },
  {
   "cell_type": "code",
   "execution_count": 5,
   "id": "59ec0265",
   "metadata": {},
   "outputs": [
    {
     "name": "stderr",
     "output_type": "stream",
     "text": [
      "22/07/02 14:43:56 WARN MetricsConfig: Cannot locate configuration: tried hadoop-metrics2-s3a-file-system.properties,hadoop-metrics2.properties\n",
      "                                                                                \r"
     ]
    }
   ],
   "source": [
    "raw = spark.read.format(\"binaryFile\").load('s3a://mapd-minidt-batch/data_*.dat')\n",
    "raw = raw.select(\"content\").rdd.flatMap(lambda el: el)"
   ]
  },
  {
   "cell_type": "markdown",
   "id": "bf6070fc",
   "metadata": {},
   "source": [
    "### Unpack data"
   ]
  },
  {
   "cell_type": "code",
   "execution_count": 6,
   "id": "7dd8e546",
   "metadata": {},
   "outputs": [],
   "source": [
    "def unpack(file_content):\n",
    "    ppd = []\n",
    "    word_counter=0\n",
    "    word_size = 8                                             # size of the word in bytes\n",
    "    for i in range(0, len(file_content), word_size):\n",
    "        word_counter+=1\n",
    "        thisInt = struct.unpack('<q', file_content[i:i+word_size])[0]\n",
    "        head = (thisInt >> 61) & 0x7\n",
    "        \n",
    "        if head == 2:\n",
    "            fpga = (thisInt >> 58) & 0x7\n",
    "            chan = (thisInt >> 49) & 0x1FF\n",
    "            orbit = (thisInt >> 17) & 0xFFFFFFFF\n",
    "            bx = (thisInt >> 5 ) & 0xFFF\n",
    "            tdc = (thisInt >> 0 ) & 0x1F\n",
    "            ppd.append([fpga, chan, orbit, bx, tdc])\n",
    "    return ppd"
   ]
  },
  {
   "cell_type": "code",
   "execution_count": 33,
   "id": "bd0ac389",
   "metadata": {},
   "outputs": [
    {
     "name": "stderr",
     "output_type": "stream",
     "text": [
      "                                                                                \r"
     ]
    }
   ],
   "source": [
    "data = raw.flatMap(lambda file_content: unpack(file_content)).toDF(('FPGA','CHAN','ORBIT','BX','TDC'))\n",
    "#data = data.persist()"
   ]
  },
  {
   "cell_type": "markdown",
   "id": "fdc209af",
   "metadata": {},
   "source": [
    "### Locate chamber"
   ]
  },
  {
   "cell_type": "code",
   "execution_count": 34,
   "id": "410826ab",
   "metadata": {},
   "outputs": [
    {
     "name": "stderr",
     "output_type": "stream",
     "text": [
      "\r",
      "[Stage 10:>                                                         (0 + 1) / 1]\r"
     ]
    }
   ],
   "source": [
    "data = data.withColumn(\"CHAMBER\", when((data.FPGA==0) & (data.CHAN < 63), 0)\\\n",
    "                                    .when((data.FPGA==0) & (data.CHAN > 63) & (data.CHAN < 128), 1)\\\n",
    "                                    .when((data.FPGA==1) & (data.CHAN < 63), 2)\\\n",
    "                                    .when((data.FPGA==1) & (data.CHAN > 63) & (data.CHAN < 128), 3)\\\n",
    "                                    .when((data.FPGA==1) & (data.CHAN == 128), 4))\n",
    "data = data.where(data.CHAMBER.isNotNull())"
   ]
  },
  {
   "cell_type": "code",
   "execution_count": 37,
   "id": "b2371028",
   "metadata": {},
   "outputs": [
    {
     "name": "stderr",
     "output_type": "stream",
     "text": [
      "\r",
      "[Stage 10:>   (0 + 1) / 1][Stage 13:>   (0 + 1) / 1][Stage 14:>   (0 + 1) / 1]\r"
     ]
    },
    {
     "name": "stdout",
     "output_type": "stream",
     "text": [
      "+----+----+-------+----+---+-------+\n",
      "|FPGA|CHAN|  ORBIT|  BX|TDC|CHAMBER|\n",
      "+----+----+-------+----+---+-------+\n",
      "|   1|  11|5797423| 432|  8|      2|\n",
      "|   1|  12|5797423| 431|  9|      2|\n",
      "|   1|  81|5797433|1889| 30|      3|\n",
      "|   1|  98|5797443| 494| 18|      3|\n",
      "|   0|  34|5797432|2379|  2|      0|\n",
      "+----+----+-------+----+---+-------+\n",
      "only showing top 5 rows\n",
      "\n"
     ]
    },
    {
     "name": "stderr",
     "output_type": "stream",
     "text": [
      "[Stage 10:>                 (0 + 1) / 1][Stage 13:>                 (0 + 1) / 1]\r"
     ]
    }
   ],
   "source": [
    "data.show(5)"
   ]
  },
  {
   "cell_type": "markdown",
   "id": "86cdd910",
   "metadata": {},
   "source": [
    "### Time information"
   ]
  },
  {
   "cell_type": "code",
   "execution_count": 38,
   "id": "61047de6",
   "metadata": {},
   "outputs": [],
   "source": [
    "data = data.withColumn('T_HIT_ns', (25 * (col('ORBIT') * 3564 + col('BX') + col('TDC')/30)))"
   ]
  },
  {
   "cell_type": "code",
   "execution_count": 40,
   "id": "f59bd69f",
   "metadata": {},
   "outputs": [
    {
     "name": "stderr",
     "output_type": "stream",
     "text": [
      "\r",
      "[Stage 10:>   (0 + 1) / 1][Stage 13:>   (0 + 1) / 1][Stage 15:>   (0 + 1) / 1]\r"
     ]
    },
    {
     "name": "stdout",
     "output_type": "stream",
     "text": [
      "+----+----+-------+----+---+-------+--------------------+\n",
      "|FPGA|CHAN|  ORBIT|  BX|TDC|CHAMBER|            T_HIT_ns|\n",
      "+----+----+-------+----+---+-------+--------------------+\n",
      "|   1|  11|5797423| 432|  8|      2|5.165504001066667E11|\n",
      "|   1|  12|5797423| 431|  9|      2|   5.165504000825E11|\n",
      "|   1|  81|5797433|1889| 30|      3|     5.1655132755E11|\n",
      "|   1|  98|5797443| 494| 18|      3|5.165521836649999...|\n",
      "|   0|  34|5797432|2379|  2|      0|5.165512506766666E11|\n",
      "+----+----+-------+----+---+-------+--------------------+\n",
      "only showing top 5 rows\n",
      "\n"
     ]
    },
    {
     "name": "stderr",
     "output_type": "stream",
     "text": [
      "[Stage 10:>                 (0 + 1) / 1][Stage 13:>                 (0 + 1) / 1]\r"
     ]
    }
   ],
   "source": [
    "data.show(5)"
   ]
  },
  {
   "cell_type": "markdown",
   "id": "ccde282f",
   "metadata": {},
   "source": [
    "#### Time corrections"
   ]
  },
  {
   "cell_type": "code",
   "execution_count": 41,
   "id": "70a2b7cc",
   "metadata": {},
   "outputs": [],
   "source": [
    "data = data.withColumn(\"T_HIT_ns\", when(data['CHAMBER']==0, data[\"T_HIT_ns\"]+93.9)\\\n",
    "                                        .when(data['CHAMBER']==1, data[\"T_HIT_ns\"]+101.4)\\\n",
    "                                        .when(data['CHAMBER']==2, data[\"T_HIT_ns\"]+95.5)\\\n",
    "                                        .when(data['CHAMBER']==3, data[\"T_HIT_ns\"]+92.4)\\\n",
    "                                        .when(data['CHAMBER']==4, data[\"T_HIT_ns\"]))"
   ]
  },
  {
   "cell_type": "code",
   "execution_count": 43,
   "id": "70c25557",
   "metadata": {},
   "outputs": [
    {
     "name": "stderr",
     "output_type": "stream",
     "text": [
      "\r",
      "[Stage 10:>   (0 + 1) / 1][Stage 13:>   (0 + 1) / 1][Stage 16:>   (0 + 1) / 1]\r"
     ]
    },
    {
     "name": "stdout",
     "output_type": "stream",
     "text": [
      "+----+----+-------+----+---+-------+--------------------+\n",
      "|FPGA|CHAN|  ORBIT|  BX|TDC|CHAMBER|            T_HIT_ns|\n",
      "+----+----+-------+----+---+-------+--------------------+\n",
      "|   1|  11|5797423| 432|  8|      2|5.165504002021667E11|\n",
      "|   1|  12|5797423| 431|  9|      2|    5.16550400178E11|\n",
      "|   1|  81|5797433|1889| 30|      3|   5.165513276424E11|\n",
      "|   1|  98|5797443| 494| 18|      3|5.165521837573999...|\n",
      "|   0|  34|5797432|2379|  2|      0|5.165512507705666...|\n",
      "+----+----+-------+----+---+-------+--------------------+\n",
      "only showing top 5 rows\n",
      "\n"
     ]
    },
    {
     "name": "stderr",
     "output_type": "stream",
     "text": [
      "[Stage 10:>                 (0 + 1) / 1][Stage 13:>                 (0 + 1) / 1]\r"
     ]
    }
   ],
   "source": [
    "data.show(5)"
   ]
  },
  {
   "cell_type": "code",
   "execution_count": null,
   "id": "a6f4a455",
   "metadata": {},
   "outputs": [],
   "source": []
  }
 ],
 "metadata": {
  "kernelspec": {
   "display_name": "Python 3 (ipykernel)",
   "language": "python",
   "name": "python3"
  },
  "language_info": {
   "codemirror_mode": {
    "name": "ipython",
    "version": 3
   },
   "file_extension": ".py",
   "mimetype": "text/x-python",
   "name": "python",
   "nbconvert_exporter": "python",
   "pygments_lexer": "ipython3",
   "version": "3.8.10"
  }
 },
 "nbformat": 4,
 "nbformat_minor": 5
}

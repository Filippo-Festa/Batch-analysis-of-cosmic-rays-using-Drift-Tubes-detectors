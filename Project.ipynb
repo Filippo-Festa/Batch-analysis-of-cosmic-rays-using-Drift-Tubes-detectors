{
 "cells": [
  {
   "cell_type": "code",
   "execution_count": 48,
   "id": "bc0a0913",
   "metadata": {},
   "outputs": [],
   "source": [
    "import struct\n",
    "from pyspark.sql import SparkSession, Window\n",
    "import pyspark.sql.functions as f\n",
    "from pyspark.sql.functions import when, col, lag, lit\n",
    "import matplotlib.pyplot as plt\n",
    "from math import log\n",
    "import numpy as np\n",
    "from scipy.optimize import curve_fit\n",
    "from IPython.display import display, Math, Markdown, Latex\n",
    "from itertools import product"
   ]
  },
  {
   "cell_type": "markdown",
   "id": "3b906a94",
   "metadata": {},
   "source": [
    "# Setting"
   ]
  },
  {
   "cell_type": "code",
   "execution_count": 2,
   "id": "21105637",
   "metadata": {},
   "outputs": [
    {
     "name": "stderr",
     "output_type": "stream",
     "text": [
      "Warning: Ignoring non-Spark config property: com.amazonaws.sdk.disableCertChecking\n",
      "WARNING: An illegal reflective access operation has occurred\n",
      "WARNING: Illegal reflective access by org.apache.spark.unsafe.Platform (file:/usr/local/spark/jars/spark-unsafe_2.12-3.2.1.jar) to constructor java.nio.DirectByteBuffer(long,int)\n",
      "WARNING: Please consider reporting this to the maintainers of org.apache.spark.unsafe.Platform\n",
      "WARNING: Use --illegal-access=warn to enable warnings of further illegal reflective access operations\n",
      "WARNING: All illegal access operations will be denied in a future release\n"
     ]
    },
    {
     "name": "stdout",
     "output_type": "stream",
     "text": [
      ":: loading settings :: url = jar:file:/usr/local/spark/jars/ivy-2.5.0.jar!/org/apache/ivy/core/settings/ivysettings.xml\n"
     ]
    },
    {
     "name": "stderr",
     "output_type": "stream",
     "text": [
      "Ivy Default Cache set to: /root/.ivy2/cache\n",
      "The jars for the packages stored in: /root/.ivy2/jars\n",
      "com.amazonaws#aws-java-sdk added as a dependency\n",
      ":: resolving dependencies :: org.apache.spark#spark-submit-parent-d1c3cee0-a7ed-432d-bfa0-b346223dd001;1.0\n",
      "\tconfs: [default]\n",
      "\tfound com.amazonaws#aws-java-sdk;1.11.375 in central\n",
      "\tfound com.amazonaws#aws-java-sdk-dlm;1.11.375 in central\n",
      "\tfound com.amazonaws#aws-java-sdk-core;1.11.375 in central\n",
      "\tfound commons-logging#commons-logging;1.1.3 in central\n",
      "\tfound org.apache.httpcomponents#httpclient;4.5.5 in central\n",
      "\tfound org.apache.httpcomponents#httpcore;4.4.9 in central\n",
      "\tfound commons-codec#commons-codec;1.10 in central\n",
      "\tfound software.amazon.ion#ion-java;1.0.2 in central\n",
      "\tfound com.fasterxml.jackson.core#jackson-databind;2.6.7.1 in central\n",
      "\tfound com.fasterxml.jackson.core#jackson-annotations;2.6.0 in central\n",
      "\tfound com.fasterxml.jackson.core#jackson-core;2.6.7 in central\n",
      "\tfound com.fasterxml.jackson.dataformat#jackson-dataformat-cbor;2.6.7 in central\n",
      "\tfound joda-time#joda-time;2.8.1 in central\n",
      "\tfound com.amazonaws#jmespath-java;1.11.375 in central\n",
      "\tfound com.amazonaws#aws-java-sdk-macie;1.11.375 in central\n",
      "\tfound com.amazonaws#aws-java-sdk-eks;1.11.375 in central\n",
      "\tfound com.amazonaws#aws-java-sdk-mediatailor;1.11.375 in central\n",
      "\tfound com.amazonaws#aws-java-sdk-neptune;1.11.375 in central\n",
      "\tfound com.amazonaws#aws-java-sdk-pi;1.11.375 in central\n",
      "\tfound com.amazonaws#aws-java-sdk-iot1clickprojects;1.11.375 in central\n",
      "\tfound com.amazonaws#aws-java-sdk-iot1clickdevices;1.11.375 in central\n",
      "\tfound com.amazonaws#aws-java-sdk-iotanalytics;1.11.375 in central\n",
      "\tfound com.amazonaws#aws-java-sdk-acmpca;1.11.375 in central\n",
      "\tfound com.amazonaws#aws-java-sdk-secretsmanager;1.11.375 in central\n",
      "\tfound com.amazonaws#aws-java-sdk-fms;1.11.375 in central\n",
      "\tfound com.amazonaws#aws-java-sdk-connect;1.11.375 in central\n",
      "\tfound com.amazonaws#aws-java-sdk-transcribe;1.11.375 in central\n",
      "\tfound com.amazonaws#aws-java-sdk-autoscalingplans;1.11.375 in central\n",
      "\tfound com.amazonaws#aws-java-sdk-workmail;1.11.375 in central\n",
      "\tfound com.amazonaws#aws-java-sdk-servicediscovery;1.11.375 in central\n",
      "\tfound com.amazonaws#aws-java-sdk-cloud9;1.11.375 in central\n",
      "\tfound com.amazonaws#aws-java-sdk-serverlessapplicationrepository;1.11.375 in central\n",
      "\tfound com.amazonaws#aws-java-sdk-alexaforbusiness;1.11.375 in central\n",
      "\tfound com.amazonaws#aws-java-sdk-resourcegroups;1.11.375 in central\n",
      "\tfound com.amazonaws#aws-java-sdk-comprehend;1.11.375 in central\n",
      "\tfound com.amazonaws#aws-java-sdk-translate;1.11.375 in central\n",
      "\tfound com.amazonaws#aws-java-sdk-sagemaker;1.11.375 in central\n",
      "\tfound com.amazonaws#aws-java-sdk-iotjobsdataplane;1.11.375 in central\n",
      "\tfound com.amazonaws#aws-java-sdk-sagemakerruntime;1.11.375 in central\n",
      "\tfound com.amazonaws#aws-java-sdk-kinesisvideo;1.11.375 in central\n",
      "\tfound io.netty#netty-codec-http;4.1.17.Final in central\n",
      "\tfound io.netty#netty-codec;4.1.17.Final in central\n",
      "\tfound io.netty#netty-transport;4.1.17.Final in central\n",
      "\tfound io.netty#netty-buffer;4.1.17.Final in central\n",
      "\tfound io.netty#netty-common;4.1.17.Final in central\n",
      "\tfound io.netty#netty-resolver;4.1.17.Final in central\n",
      "\tfound io.netty#netty-handler;4.1.17.Final in central\n",
      "\tfound com.amazonaws#aws-java-sdk-appsync;1.11.375 in central\n",
      "\tfound com.amazonaws#aws-java-sdk-guardduty;1.11.375 in central\n",
      "\tfound com.amazonaws#aws-java-sdk-mq;1.11.375 in central\n",
      "\tfound com.amazonaws#aws-java-sdk-mediaconvert;1.11.375 in central\n",
      "\tfound com.amazonaws#aws-java-sdk-mediastore;1.11.375 in central\n",
      "\tfound com.amazonaws#aws-java-sdk-mediastoredata;1.11.375 in central\n",
      "\tfound com.amazonaws#aws-java-sdk-medialive;1.11.375 in central\n",
      "\tfound com.amazonaws#aws-java-sdk-mediapackage;1.11.375 in central\n",
      "\tfound com.amazonaws#aws-java-sdk-costexplorer;1.11.375 in central\n",
      "\tfound com.amazonaws#aws-java-sdk-pricing;1.11.375 in central\n",
      "\tfound com.amazonaws#aws-java-sdk-mobile;1.11.375 in central\n",
      "\tfound com.amazonaws#aws-java-sdk-cloudhsmv2;1.11.375 in central\n",
      "\tfound com.amazonaws#aws-java-sdk-glue;1.11.375 in central\n",
      "\tfound com.amazonaws#aws-java-sdk-migrationhub;1.11.375 in central\n",
      "\tfound com.amazonaws#aws-java-sdk-dax;1.11.375 in central\n",
      "\tfound com.amazonaws#aws-java-sdk-greengrass;1.11.375 in central\n",
      "\tfound com.amazonaws#aws-java-sdk-athena;1.11.375 in central\n",
      "\tfound com.amazonaws#aws-java-sdk-marketplaceentitlement;1.11.375 in central\n",
      "\tfound com.amazonaws#aws-java-sdk-codestar;1.11.375 in central\n",
      "\tfound com.amazonaws#aws-java-sdk-lexmodelbuilding;1.11.375 in central\n",
      "\tfound com.amazonaws#aws-java-sdk-resourcegroupstaggingapi;1.11.375 in central\n",
      "\tfound com.amazonaws#aws-java-sdk-pinpoint;1.11.375 in central\n",
      "\tfound com.amazonaws#aws-java-sdk-xray;1.11.375 in central\n",
      "\tfound com.amazonaws#aws-java-sdk-opsworkscm;1.11.375 in central\n",
      "\tfound com.amazonaws#aws-java-sdk-support;1.11.375 in central\n",
      "\tfound com.amazonaws#aws-java-sdk-simpledb;1.11.375 in central\n",
      "\tfound com.amazonaws#aws-java-sdk-servicecatalog;1.11.375 in central\n",
      "\tfound com.amazonaws#aws-java-sdk-servermigration;1.11.375 in central\n",
      "\tfound com.amazonaws#aws-java-sdk-simpleworkflow;1.11.375 in central\n",
      "\tfound com.amazonaws#aws-java-sdk-storagegateway;1.11.375 in central\n",
      "\tfound com.amazonaws#aws-java-sdk-route53;1.11.375 in central\n",
      "\tfound com.amazonaws#aws-java-sdk-s3;1.11.375 in central\n",
      "\tfound com.amazonaws#aws-java-sdk-kms;1.11.375 in central\n",
      "\tfound com.amazonaws#aws-java-sdk-importexport;1.11.375 in central\n",
      "\tfound com.amazonaws#aws-java-sdk-sts;1.11.375 in central\n",
      "\tfound com.amazonaws#aws-java-sdk-sqs;1.11.375 in central\n",
      "\tfound com.amazonaws#aws-java-sdk-rds;1.11.375 in central\n",
      "\tfound com.amazonaws#aws-java-sdk-redshift;1.11.375 in central\n",
      "\tfound com.amazonaws#aws-java-sdk-elasticbeanstalk;1.11.375 in central\n",
      "\tfound com.amazonaws#aws-java-sdk-glacier;1.11.375 in central\n",
      "\tfound com.amazonaws#aws-java-sdk-sns;1.11.375 in central\n",
      "\tfound com.amazonaws#aws-java-sdk-iam;1.11.375 in central\n",
      "\tfound com.amazonaws#aws-java-sdk-datapipeline;1.11.375 in central\n",
      "\tfound com.amazonaws#aws-java-sdk-elasticloadbalancing;1.11.375 in central\n",
      "\tfound com.amazonaws#aws-java-sdk-elasticloadbalancingv2;1.11.375 in central\n",
      "\tfound com.amazonaws#aws-java-sdk-emr;1.11.375 in central\n",
      "\tfound com.amazonaws#aws-java-sdk-elasticache;1.11.375 in central\n",
      "\tfound com.amazonaws#aws-java-sdk-elastictranscoder;1.11.375 in central\n",
      "\tfound com.amazonaws#aws-java-sdk-ec2;1.11.375 in central\n",
      "\tfound com.amazonaws#aws-java-sdk-dynamodb;1.11.375 in central\n",
      "\tfound com.amazonaws#aws-java-sdk-budgets;1.11.375 in central\n",
      "\tfound com.amazonaws#aws-java-sdk-cloudtrail;1.11.375 in central\n",
      "\tfound com.amazonaws#aws-java-sdk-cloudwatch;1.11.375 in central\n",
      "\tfound com.amazonaws#aws-java-sdk-logs;1.11.375 in central\n",
      "\tfound com.amazonaws#aws-java-sdk-events;1.11.375 in central\n",
      "\tfound com.amazonaws#aws-java-sdk-cognitoidentity;1.11.375 in central\n",
      "\tfound com.amazonaws#aws-java-sdk-cognitosync;1.11.375 in central\n",
      "\tfound com.amazonaws#aws-java-sdk-directconnect;1.11.375 in central\n",
      "\tfound com.amazonaws#aws-java-sdk-cloudformation;1.11.375 in central\n",
      "\tfound com.amazonaws#aws-java-sdk-cloudfront;1.11.375 in central\n",
      "\tfound com.amazonaws#aws-java-sdk-clouddirectory;1.11.375 in central\n",
      "\tfound com.amazonaws#aws-java-sdk-kinesis;1.11.375 in central\n",
      "\tfound com.amazonaws#aws-java-sdk-opsworks;1.11.375 in central\n",
      "\tfound com.amazonaws#aws-java-sdk-ses;1.11.375 in central\n",
      "\tfound com.amazonaws#aws-java-sdk-autoscaling;1.11.375 in central\n",
      "\tfound com.amazonaws#aws-java-sdk-cloudsearch;1.11.375 in central\n",
      "\tfound com.amazonaws#aws-java-sdk-cloudwatchmetrics;1.11.375 in central\n",
      "\tfound com.amazonaws#aws-java-sdk-codedeploy;1.11.375 in central\n",
      "\tfound com.amazonaws#aws-java-sdk-codepipeline;1.11.375 in central\n",
      "\tfound com.amazonaws#aws-java-sdk-config;1.11.375 in central\n",
      "\tfound com.amazonaws#aws-java-sdk-lambda;1.11.375 in central\n",
      "\tfound com.amazonaws#aws-java-sdk-ecs;1.11.375 in central\n",
      "\tfound com.amazonaws#aws-java-sdk-ecr;1.11.375 in central\n",
      "\tfound com.amazonaws#aws-java-sdk-cloudhsm;1.11.375 in central\n",
      "\tfound com.amazonaws#aws-java-sdk-ssm;1.11.375 in central\n",
      "\tfound com.amazonaws#aws-java-sdk-workspaces;1.11.375 in central\n",
      "\tfound com.amazonaws#aws-java-sdk-machinelearning;1.11.375 in central\n",
      "\tfound com.amazonaws#aws-java-sdk-directory;1.11.375 in central\n",
      "\tfound com.amazonaws#aws-java-sdk-efs;1.11.375 in central\n",
      "\tfound com.amazonaws#aws-java-sdk-codecommit;1.11.375 in central\n",
      "\tfound com.amazonaws#aws-java-sdk-devicefarm;1.11.375 in central\n",
      "\tfound com.amazonaws#aws-java-sdk-elasticsearch;1.11.375 in central\n",
      "\tfound com.amazonaws#aws-java-sdk-waf;1.11.375 in central\n",
      "\tfound com.amazonaws#aws-java-sdk-marketplacecommerceanalytics;1.11.375 in central\n",
      "\tfound com.amazonaws#aws-java-sdk-inspector;1.11.375 in central\n",
      "\tfound com.amazonaws#aws-java-sdk-iot;1.11.375 in central\n",
      "\tfound com.amazonaws#aws-java-sdk-api-gateway;1.11.375 in central\n",
      "\tfound com.amazonaws#aws-java-sdk-acm;1.11.375 in central\n",
      "\tfound com.amazonaws#aws-java-sdk-gamelift;1.11.375 in central\n",
      "\tfound com.amazonaws#aws-java-sdk-dms;1.11.375 in central\n",
      "\tfound com.amazonaws#aws-java-sdk-marketplacemeteringservice;1.11.375 in central\n",
      "\tfound com.amazonaws#aws-java-sdk-cognitoidp;1.11.375 in central\n",
      "\tfound com.amazonaws#aws-java-sdk-discovery;1.11.375 in central\n",
      "\tfound com.amazonaws#aws-java-sdk-applicationautoscaling;1.11.375 in central\n"
     ]
    },
    {
     "name": "stderr",
     "output_type": "stream",
     "text": [
      "\tfound com.amazonaws#aws-java-sdk-snowball;1.11.375 in central\n",
      "\tfound com.amazonaws#aws-java-sdk-rekognition;1.11.375 in central\n",
      "\tfound com.amazonaws#aws-java-sdk-polly;1.11.375 in central\n",
      "\tfound com.amazonaws#aws-java-sdk-lightsail;1.11.375 in central\n",
      "\tfound com.amazonaws#aws-java-sdk-stepfunctions;1.11.375 in central\n",
      "\tfound com.amazonaws#aws-java-sdk-health;1.11.375 in central\n",
      "\tfound com.amazonaws#aws-java-sdk-costandusagereport;1.11.375 in central\n",
      "\tfound com.amazonaws#aws-java-sdk-codebuild;1.11.375 in central\n",
      "\tfound com.amazonaws#aws-java-sdk-appstream;1.11.375 in central\n",
      "\tfound com.amazonaws#aws-java-sdk-shield;1.11.375 in central\n",
      "\tfound com.amazonaws#aws-java-sdk-batch;1.11.375 in central\n",
      "\tfound com.amazonaws#aws-java-sdk-lex;1.11.375 in central\n",
      "\tfound com.amazonaws#aws-java-sdk-mechanicalturkrequester;1.11.375 in central\n",
      "\tfound com.amazonaws#aws-java-sdk-organizations;1.11.375 in central\n",
      "\tfound com.amazonaws#aws-java-sdk-workdocs;1.11.375 in central\n",
      "\tfound com.amazonaws#aws-java-sdk-models;1.11.375 in central\n",
      "\tfound com.amazonaws#aws-java-sdk-swf-libraries;1.11.22 in central\n",
      ":: resolution report :: resolve 2552ms :: artifacts dl 45ms\n",
      "\t:: modules in use:\n",
      "\tcom.amazonaws#aws-java-sdk;1.11.375 from central in [default]\n",
      "\tcom.amazonaws#aws-java-sdk-acm;1.11.375 from central in [default]\n",
      "\tcom.amazonaws#aws-java-sdk-acmpca;1.11.375 from central in [default]\n",
      "\tcom.amazonaws#aws-java-sdk-alexaforbusiness;1.11.375 from central in [default]\n",
      "\tcom.amazonaws#aws-java-sdk-api-gateway;1.11.375 from central in [default]\n",
      "\tcom.amazonaws#aws-java-sdk-applicationautoscaling;1.11.375 from central in [default]\n",
      "\tcom.amazonaws#aws-java-sdk-appstream;1.11.375 from central in [default]\n",
      "\tcom.amazonaws#aws-java-sdk-appsync;1.11.375 from central in [default]\n",
      "\tcom.amazonaws#aws-java-sdk-athena;1.11.375 from central in [default]\n",
      "\tcom.amazonaws#aws-java-sdk-autoscaling;1.11.375 from central in [default]\n",
      "\tcom.amazonaws#aws-java-sdk-autoscalingplans;1.11.375 from central in [default]\n",
      "\tcom.amazonaws#aws-java-sdk-batch;1.11.375 from central in [default]\n",
      "\tcom.amazonaws#aws-java-sdk-budgets;1.11.375 from central in [default]\n",
      "\tcom.amazonaws#aws-java-sdk-cloud9;1.11.375 from central in [default]\n",
      "\tcom.amazonaws#aws-java-sdk-clouddirectory;1.11.375 from central in [default]\n",
      "\tcom.amazonaws#aws-java-sdk-cloudformation;1.11.375 from central in [default]\n",
      "\tcom.amazonaws#aws-java-sdk-cloudfront;1.11.375 from central in [default]\n",
      "\tcom.amazonaws#aws-java-sdk-cloudhsm;1.11.375 from central in [default]\n",
      "\tcom.amazonaws#aws-java-sdk-cloudhsmv2;1.11.375 from central in [default]\n",
      "\tcom.amazonaws#aws-java-sdk-cloudsearch;1.11.375 from central in [default]\n",
      "\tcom.amazonaws#aws-java-sdk-cloudtrail;1.11.375 from central in [default]\n",
      "\tcom.amazonaws#aws-java-sdk-cloudwatch;1.11.375 from central in [default]\n",
      "\tcom.amazonaws#aws-java-sdk-cloudwatchmetrics;1.11.375 from central in [default]\n",
      "\tcom.amazonaws#aws-java-sdk-codebuild;1.11.375 from central in [default]\n",
      "\tcom.amazonaws#aws-java-sdk-codecommit;1.11.375 from central in [default]\n",
      "\tcom.amazonaws#aws-java-sdk-codedeploy;1.11.375 from central in [default]\n",
      "\tcom.amazonaws#aws-java-sdk-codepipeline;1.11.375 from central in [default]\n",
      "\tcom.amazonaws#aws-java-sdk-codestar;1.11.375 from central in [default]\n",
      "\tcom.amazonaws#aws-java-sdk-cognitoidentity;1.11.375 from central in [default]\n",
      "\tcom.amazonaws#aws-java-sdk-cognitoidp;1.11.375 from central in [default]\n",
      "\tcom.amazonaws#aws-java-sdk-cognitosync;1.11.375 from central in [default]\n",
      "\tcom.amazonaws#aws-java-sdk-comprehend;1.11.375 from central in [default]\n",
      "\tcom.amazonaws#aws-java-sdk-config;1.11.375 from central in [default]\n",
      "\tcom.amazonaws#aws-java-sdk-connect;1.11.375 from central in [default]\n",
      "\tcom.amazonaws#aws-java-sdk-core;1.11.375 from central in [default]\n",
      "\tcom.amazonaws#aws-java-sdk-costandusagereport;1.11.375 from central in [default]\n",
      "\tcom.amazonaws#aws-java-sdk-costexplorer;1.11.375 from central in [default]\n",
      "\tcom.amazonaws#aws-java-sdk-datapipeline;1.11.375 from central in [default]\n",
      "\tcom.amazonaws#aws-java-sdk-dax;1.11.375 from central in [default]\n",
      "\tcom.amazonaws#aws-java-sdk-devicefarm;1.11.375 from central in [default]\n",
      "\tcom.amazonaws#aws-java-sdk-directconnect;1.11.375 from central in [default]\n",
      "\tcom.amazonaws#aws-java-sdk-directory;1.11.375 from central in [default]\n",
      "\tcom.amazonaws#aws-java-sdk-discovery;1.11.375 from central in [default]\n",
      "\tcom.amazonaws#aws-java-sdk-dlm;1.11.375 from central in [default]\n",
      "\tcom.amazonaws#aws-java-sdk-dms;1.11.375 from central in [default]\n",
      "\tcom.amazonaws#aws-java-sdk-dynamodb;1.11.375 from central in [default]\n",
      "\tcom.amazonaws#aws-java-sdk-ec2;1.11.375 from central in [default]\n",
      "\tcom.amazonaws#aws-java-sdk-ecr;1.11.375 from central in [default]\n",
      "\tcom.amazonaws#aws-java-sdk-ecs;1.11.375 from central in [default]\n",
      "\tcom.amazonaws#aws-java-sdk-efs;1.11.375 from central in [default]\n",
      "\tcom.amazonaws#aws-java-sdk-eks;1.11.375 from central in [default]\n",
      "\tcom.amazonaws#aws-java-sdk-elasticache;1.11.375 from central in [default]\n",
      "\tcom.amazonaws#aws-java-sdk-elasticbeanstalk;1.11.375 from central in [default]\n",
      "\tcom.amazonaws#aws-java-sdk-elasticloadbalancing;1.11.375 from central in [default]\n",
      "\tcom.amazonaws#aws-java-sdk-elasticloadbalancingv2;1.11.375 from central in [default]\n",
      "\tcom.amazonaws#aws-java-sdk-elasticsearch;1.11.375 from central in [default]\n",
      "\tcom.amazonaws#aws-java-sdk-elastictranscoder;1.11.375 from central in [default]\n",
      "\tcom.amazonaws#aws-java-sdk-emr;1.11.375 from central in [default]\n",
      "\tcom.amazonaws#aws-java-sdk-events;1.11.375 from central in [default]\n",
      "\tcom.amazonaws#aws-java-sdk-fms;1.11.375 from central in [default]\n",
      "\tcom.amazonaws#aws-java-sdk-gamelift;1.11.375 from central in [default]\n",
      "\tcom.amazonaws#aws-java-sdk-glacier;1.11.375 from central in [default]\n",
      "\tcom.amazonaws#aws-java-sdk-glue;1.11.375 from central in [default]\n",
      "\tcom.amazonaws#aws-java-sdk-greengrass;1.11.375 from central in [default]\n",
      "\tcom.amazonaws#aws-java-sdk-guardduty;1.11.375 from central in [default]\n",
      "\tcom.amazonaws#aws-java-sdk-health;1.11.375 from central in [default]\n",
      "\tcom.amazonaws#aws-java-sdk-iam;1.11.375 from central in [default]\n",
      "\tcom.amazonaws#aws-java-sdk-importexport;1.11.375 from central in [default]\n",
      "\tcom.amazonaws#aws-java-sdk-inspector;1.11.375 from central in [default]\n",
      "\tcom.amazonaws#aws-java-sdk-iot;1.11.375 from central in [default]\n",
      "\tcom.amazonaws#aws-java-sdk-iot1clickdevices;1.11.375 from central in [default]\n",
      "\tcom.amazonaws#aws-java-sdk-iot1clickprojects;1.11.375 from central in [default]\n",
      "\tcom.amazonaws#aws-java-sdk-iotanalytics;1.11.375 from central in [default]\n",
      "\tcom.amazonaws#aws-java-sdk-iotjobsdataplane;1.11.375 from central in [default]\n",
      "\tcom.amazonaws#aws-java-sdk-kinesis;1.11.375 from central in [default]\n",
      "\tcom.amazonaws#aws-java-sdk-kinesisvideo;1.11.375 from central in [default]\n",
      "\tcom.amazonaws#aws-java-sdk-kms;1.11.375 from central in [default]\n",
      "\tcom.amazonaws#aws-java-sdk-lambda;1.11.375 from central in [default]\n",
      "\tcom.amazonaws#aws-java-sdk-lex;1.11.375 from central in [default]\n",
      "\tcom.amazonaws#aws-java-sdk-lexmodelbuilding;1.11.375 from central in [default]\n",
      "\tcom.amazonaws#aws-java-sdk-lightsail;1.11.375 from central in [default]\n",
      "\tcom.amazonaws#aws-java-sdk-logs;1.11.375 from central in [default]\n",
      "\tcom.amazonaws#aws-java-sdk-machinelearning;1.11.375 from central in [default]\n",
      "\tcom.amazonaws#aws-java-sdk-macie;1.11.375 from central in [default]\n",
      "\tcom.amazonaws#aws-java-sdk-marketplacecommerceanalytics;1.11.375 from central in [default]\n",
      "\tcom.amazonaws#aws-java-sdk-marketplaceentitlement;1.11.375 from central in [default]\n",
      "\tcom.amazonaws#aws-java-sdk-marketplacemeteringservice;1.11.375 from central in [default]\n",
      "\tcom.amazonaws#aws-java-sdk-mechanicalturkrequester;1.11.375 from central in [default]\n",
      "\tcom.amazonaws#aws-java-sdk-mediaconvert;1.11.375 from central in [default]\n",
      "\tcom.amazonaws#aws-java-sdk-medialive;1.11.375 from central in [default]\n",
      "\tcom.amazonaws#aws-java-sdk-mediapackage;1.11.375 from central in [default]\n",
      "\tcom.amazonaws#aws-java-sdk-mediastore;1.11.375 from central in [default]\n",
      "\tcom.amazonaws#aws-java-sdk-mediastoredata;1.11.375 from central in [default]\n",
      "\tcom.amazonaws#aws-java-sdk-mediatailor;1.11.375 from central in [default]\n",
      "\tcom.amazonaws#aws-java-sdk-migrationhub;1.11.375 from central in [default]\n",
      "\tcom.amazonaws#aws-java-sdk-mobile;1.11.375 from central in [default]\n",
      "\tcom.amazonaws#aws-java-sdk-models;1.11.375 from central in [default]\n",
      "\tcom.amazonaws#aws-java-sdk-mq;1.11.375 from central in [default]\n",
      "\tcom.amazonaws#aws-java-sdk-neptune;1.11.375 from central in [default]\n",
      "\tcom.amazonaws#aws-java-sdk-opsworks;1.11.375 from central in [default]\n",
      "\tcom.amazonaws#aws-java-sdk-opsworkscm;1.11.375 from central in [default]\n",
      "\tcom.amazonaws#aws-java-sdk-organizations;1.11.375 from central in [default]\n",
      "\tcom.amazonaws#aws-java-sdk-pi;1.11.375 from central in [default]\n",
      "\tcom.amazonaws#aws-java-sdk-pinpoint;1.11.375 from central in [default]\n",
      "\tcom.amazonaws#aws-java-sdk-polly;1.11.375 from central in [default]\n",
      "\tcom.amazonaws#aws-java-sdk-pricing;1.11.375 from central in [default]\n",
      "\tcom.amazonaws#aws-java-sdk-rds;1.11.375 from central in [default]\n",
      "\tcom.amazonaws#aws-java-sdk-redshift;1.11.375 from central in [default]\n",
      "\tcom.amazonaws#aws-java-sdk-rekognition;1.11.375 from central in [default]\n",
      "\tcom.amazonaws#aws-java-sdk-resourcegroups;1.11.375 from central in [default]\n",
      "\tcom.amazonaws#aws-java-sdk-resourcegroupstaggingapi;1.11.375 from central in [default]\n",
      "\tcom.amazonaws#aws-java-sdk-route53;1.11.375 from central in [default]\n",
      "\tcom.amazonaws#aws-java-sdk-s3;1.11.375 from central in [default]\n",
      "\tcom.amazonaws#aws-java-sdk-sagemaker;1.11.375 from central in [default]\n",
      "\tcom.amazonaws#aws-java-sdk-sagemakerruntime;1.11.375 from central in [default]\n",
      "\tcom.amazonaws#aws-java-sdk-secretsmanager;1.11.375 from central in [default]\n",
      "\tcom.amazonaws#aws-java-sdk-serverlessapplicationrepository;1.11.375 from central in [default]\n",
      "\tcom.amazonaws#aws-java-sdk-servermigration;1.11.375 from central in [default]\n",
      "\tcom.amazonaws#aws-java-sdk-servicecatalog;1.11.375 from central in [default]\n",
      "\tcom.amazonaws#aws-java-sdk-servicediscovery;1.11.375 from central in [default]\n",
      "\tcom.amazonaws#aws-java-sdk-ses;1.11.375 from central in [default]\n",
      "\tcom.amazonaws#aws-java-sdk-shield;1.11.375 from central in [default]\n",
      "\tcom.amazonaws#aws-java-sdk-simpledb;1.11.375 from central in [default]\n",
      "\tcom.amazonaws#aws-java-sdk-simpleworkflow;1.11.375 from central in [default]\n",
      "\tcom.amazonaws#aws-java-sdk-snowball;1.11.375 from central in [default]\n",
      "\tcom.amazonaws#aws-java-sdk-sns;1.11.375 from central in [default]\n",
      "\tcom.amazonaws#aws-java-sdk-sqs;1.11.375 from central in [default]\n",
      "\tcom.amazonaws#aws-java-sdk-ssm;1.11.375 from central in [default]\n",
      "\tcom.amazonaws#aws-java-sdk-stepfunctions;1.11.375 from central in [default]\n",
      "\tcom.amazonaws#aws-java-sdk-storagegateway;1.11.375 from central in [default]\n",
      "\tcom.amazonaws#aws-java-sdk-sts;1.11.375 from central in [default]\n",
      "\tcom.amazonaws#aws-java-sdk-support;1.11.375 from central in [default]\n",
      "\tcom.amazonaws#aws-java-sdk-swf-libraries;1.11.22 from central in [default]\n",
      "\tcom.amazonaws#aws-java-sdk-transcribe;1.11.375 from central in [default]\n",
      "\tcom.amazonaws#aws-java-sdk-translate;1.11.375 from central in [default]\n",
      "\tcom.amazonaws#aws-java-sdk-waf;1.11.375 from central in [default]\n",
      "\tcom.amazonaws#aws-java-sdk-workdocs;1.11.375 from central in [default]\n",
      "\tcom.amazonaws#aws-java-sdk-workmail;1.11.375 from central in [default]\n",
      "\tcom.amazonaws#aws-java-sdk-workspaces;1.11.375 from central in [default]\n",
      "\tcom.amazonaws#aws-java-sdk-xray;1.11.375 from central in [default]\n",
      "\tcom.amazonaws#jmespath-java;1.11.375 from central in [default]\n",
      "\tcom.fasterxml.jackson.core#jackson-annotations;2.6.0 from central in [default]\n",
      "\tcom.fasterxml.jackson.core#jackson-core;2.6.7 from central in [default]\n",
      "\tcom.fasterxml.jackson.core#jackson-databind;2.6.7.1 from central in [default]\n",
      "\tcom.fasterxml.jackson.dataformat#jackson-dataformat-cbor;2.6.7 from central in [default]\n",
      "\tcommons-codec#commons-codec;1.10 from central in [default]\n",
      "\tcommons-logging#commons-logging;1.1.3 from central in [default]\n",
      "\tio.netty#netty-buffer;4.1.17.Final from central in [default]\n",
      "\tio.netty#netty-codec;4.1.17.Final from central in [default]\n",
      "\tio.netty#netty-codec-http;4.1.17.Final from central in [default]\n",
      "\tio.netty#netty-common;4.1.17.Final from central in [default]\n",
      "\tio.netty#netty-handler;4.1.17.Final from central in [default]\n",
      "\tio.netty#netty-resolver;4.1.17.Final from central in [default]\n",
      "\tio.netty#netty-transport;4.1.17.Final from central in [default]\n",
      "\tjoda-time#joda-time;2.8.1 from central in [default]\n",
      "\torg.apache.httpcomponents#httpclient;4.5.5 from central in [default]\n",
      "\torg.apache.httpcomponents#httpcore;4.4.9 from central in [default]\n",
      "\tsoftware.amazon.ion#ion-java;1.0.2 from central in [default]\n",
      "\t:: evicted modules:\n",
      "\tcommons-logging#commons-logging;1.2 by [commons-logging#commons-logging;1.1.3] in [default]\n",
      "\tcom.amazonaws#aws-java-sdk-simpleworkflow;1.11.22 by [com.amazonaws#aws-java-sdk-simpleworkflow;1.11.375] in [default]\n",
      "\t---------------------------------------------------------------------\n",
      "\t|                  |            modules            ||   artifacts   |\n",
      "\t|       conf       | number| search|dwnlded|evicted|| number|dwnlded|\n",
      "\t---------------------------------------------------------------------\n",
      "\t|      default     |  160  |   0   |   0   |   2   ||  158  |   0   |\n",
      "\t---------------------------------------------------------------------\n",
      ":: retrieving :: org.apache.spark#spark-submit-parent-d1c3cee0-a7ed-432d-bfa0-b346223dd001\n",
      "\tconfs: [default]\n",
      "\t0 artifacts copied, 158 already retrieved (0kB/26ms)\n"
     ]
    },
    {
     "name": "stderr",
     "output_type": "stream",
     "text": [
      "22/07/08 15:19:38 WARN NativeCodeLoader: Unable to load native-hadoop library for your platform... using builtin-java classes where applicable\n",
      "Using Spark's default log4j profile: org/apache/spark/log4j-defaults.properties\n",
      "Setting default log level to \"WARN\".\n",
      "To adjust logging level use sc.setLogLevel(newLevel). For SparkR, use setLogLevel(newLevel).\n"
     ]
    }
   ],
   "source": [
    "spark = SparkSession.builder \\\n",
    "            .master(\"spark://10.67.22.4:7077\") \\\n",
    "            .appName(\"Project\") \\\n",
    "            .config('spark.jars.packages', 'org.apache.hadoop:hadoop-common:3.2.0')\\\n",
    "            .config('spark.jars.packages', 'org.apache.hadoop:hadoop-aws:3.2.0')\\\n",
    "            .config('spark.jars.packages', 'com.amazonaws:aws-java-sdk:1.11.375')\\\n",
    "            .config(\"spark.executor.memory\", \"2g\")\\\n",
    "            .config(\"spark.sql.execution.arrow.pyspark.enabled\", \"true\")\\\n",
    "            .config(\"spark.sql.execution.arrow.pyspark.fallback.enabled\", \"false\")\\\n",
    "            .config('spark.hadoop.fs.s3a.aws.credentials.provider', 'org.apache.hadoop.fs.s3a.SimpleAWSCredentialsProvider')\\\n",
    "            .config('spark.hadoop.fs.s3a.access.key', '2186eedc366545058b0896dadf79d288')\\\n",
    "            .config('spark.hadoop.fs.s3a.secret.key', 'de147ce2e90741cdb9bae8f53ee5466e')\\\n",
    "            .config('spark.hadoop.fs.s3a.endpoint', 'https://cloud-areapd.pd.infn.it:5210')\\\n",
    "            .config(\"spark.hadoop.fs.s3a.impl\", \"org.apache.hadoop.fs.s3a.S3AFileSystem\") \\\n",
    "            .config(\"spark.hadoop.fs.s3a.metadatastore.impl\", \"org.apache.hadoop.fs.s3a.s3guard.NullMetadataStore\") \\\n",
    "            .config(\"spark.hadoop.fs.s3a.path.style.access\", \"true\") \\\n",
    "            .config(\"spark.hadoop.fs.s3a.connection.ssl.enabled\",\"false\") \\\n",
    "            .config(\"com.amazonaws.sdk.disableCertChecking\",\"true\") \\\n",
    "            .getOrCreate()"
   ]
  },
  {
   "cell_type": "code",
   "execution_count": 3,
   "id": "0a95186b",
   "metadata": {},
   "outputs": [
    {
     "data": {
      "text/html": [
       "\n",
       "            <div>\n",
       "                <p><b>SparkSession - in-memory</b></p>\n",
       "                \n",
       "        <div>\n",
       "            <p><b>SparkContext</b></p>\n",
       "\n",
       "            <p><a href=\"http://master:4040\">Spark UI</a></p>\n",
       "\n",
       "            <dl>\n",
       "              <dt>Version</dt>\n",
       "                <dd><code>v3.2.1</code></dd>\n",
       "              <dt>Master</dt>\n",
       "                <dd><code>spark://10.67.22.4:7077</code></dd>\n",
       "              <dt>AppName</dt>\n",
       "                <dd><code>Project</code></dd>\n",
       "            </dl>\n",
       "        </div>\n",
       "        \n",
       "            </div>\n",
       "        "
      ],
      "text/plain": [
       "<pyspark.sql.session.SparkSession at 0x7f7d89b9d640>"
      ]
     },
     "execution_count": 3,
     "metadata": {},
     "output_type": "execute_result"
    }
   ],
   "source": [
    "spark"
   ]
  },
  {
   "cell_type": "code",
   "execution_count": 4,
   "id": "e4201404",
   "metadata": {},
   "outputs": [
    {
     "data": {
      "text/html": [
       "\n",
       "        <div>\n",
       "            <p><b>SparkContext</b></p>\n",
       "\n",
       "            <p><a href=\"http://master:4040\">Spark UI</a></p>\n",
       "\n",
       "            <dl>\n",
       "              <dt>Version</dt>\n",
       "                <dd><code>v3.2.1</code></dd>\n",
       "              <dt>Master</dt>\n",
       "                <dd><code>spark://10.67.22.4:7077</code></dd>\n",
       "              <dt>AppName</dt>\n",
       "                <dd><code>Project</code></dd>\n",
       "            </dl>\n",
       "        </div>\n",
       "        "
      ],
      "text/plain": [
       "<SparkContext master=spark://10.67.22.4:7077 appName=Project>"
      ]
     },
     "execution_count": 4,
     "metadata": {},
     "output_type": "execute_result"
    }
   ],
   "source": [
    "sc = spark.sparkContext\n",
    "sc"
   ]
  },
  {
   "cell_type": "markdown",
   "id": "c0047420",
   "metadata": {},
   "source": [
    "# Preprocessing data"
   ]
  },
  {
   "cell_type": "markdown",
   "id": "2dac5617",
   "metadata": {},
   "source": [
    "### Load data"
   ]
  },
  {
   "cell_type": "code",
   "execution_count": 5,
   "id": "59ec0265",
   "metadata": {},
   "outputs": [
    {
     "name": "stderr",
     "output_type": "stream",
     "text": [
      "22/07/08 15:19:47 WARN MetricsConfig: Cannot locate configuration: tried hadoop-metrics2-s3a-file-system.properties,hadoop-metrics2.properties\n",
      "                                                                                \r"
     ]
    }
   ],
   "source": [
    "raw = spark.read.format(\"binaryFile\").load('s3a://mapd-minidt-batch/data_*.dat')\n",
    "raw = raw.select(\"content\").rdd.flatMap(lambda el: el)"
   ]
  },
  {
   "cell_type": "markdown",
   "id": "bf6070fc",
   "metadata": {},
   "source": [
    "### Unpack data"
   ]
  },
  {
   "cell_type": "code",
   "execution_count": 6,
   "id": "7dd8e546",
   "metadata": {},
   "outputs": [],
   "source": [
    "def unpack(file_content):\n",
    "    ppd = []\n",
    "    word_counter=0\n",
    "    word_size = 8                                             # size of the word in bytes\n",
    "    for i in range(0, len(file_content), word_size):\n",
    "        word_counter+=1\n",
    "        thisInt = struct.unpack('<q', file_content[i:i+word_size])[0]\n",
    "        head = (thisInt >> 61) & 0x7\n",
    "        \n",
    "        if head == 2:\n",
    "            fpga = (thisInt >> 58) & 0x7\n",
    "            chan = (thisInt >> 49) & 0x1FF\n",
    "            orbit = (thisInt >> 17) & 0xFFFFFFFF\n",
    "            bx = (thisInt >> 5 ) & 0xFFF\n",
    "            tdc = (thisInt >> 0 ) & 0x1F\n",
    "            ppd.append([fpga, chan, orbit, bx, tdc])\n",
    "    return ppd"
   ]
  },
  {
   "cell_type": "code",
   "execution_count": 7,
   "id": "bd0ac389",
   "metadata": {},
   "outputs": [
    {
     "name": "stderr",
     "output_type": "stream",
     "text": [
      "                                                                                \r"
     ]
    }
   ],
   "source": [
    "data = raw.flatMap(lambda file_content: unpack(file_content)).toDF(('FPGA','CHAN','ORBIT','BX','TDC'))\n",
    "#data = data.persist()"
   ]
  },
  {
   "cell_type": "markdown",
   "id": "fdc209af",
   "metadata": {},
   "source": [
    "### Locate chamber"
   ]
  },
  {
   "cell_type": "code",
   "execution_count": 8,
   "id": "410826ab",
   "metadata": {},
   "outputs": [],
   "source": [
    "data = data.withColumn(\"CHAMBER\", when((data.FPGA==0) & (data.CHAN < 63), 0)\\\n",
    "                                    .when((data.FPGA==0) & (data.CHAN > 63) & (data.CHAN < 128), 1)\\\n",
    "                                    .when((data.FPGA==1) & (data.CHAN < 63), 2)\\\n",
    "                                    .when((data.FPGA==1) & (data.CHAN > 63) & (data.CHAN < 128), 3)\\\n",
    "                                    .when((data.FPGA==1) & (data.CHAN == 128), 4))\n",
    "data = data.where(data.CHAMBER.isNotNull())"
   ]
  },
  {
   "cell_type": "code",
   "execution_count": 9,
   "id": "228bbb33",
   "metadata": {},
   "outputs": [],
   "source": [
    "data = data.persist()"
   ]
  },
  {
   "cell_type": "code",
   "execution_count": 10,
   "id": "b2371028",
   "metadata": {},
   "outputs": [
    {
     "name": "stderr",
     "output_type": "stream",
     "text": [
      "\r",
      "[Stage 2:>                                                          (0 + 1) / 1]\r"
     ]
    },
    {
     "name": "stdout",
     "output_type": "stream",
     "text": [
      "+----+----+-------+----+---+-------+\n",
      "|FPGA|CHAN|  ORBIT|  BX|TDC|CHAMBER|\n",
      "+----+----+-------+----+---+-------+\n",
      "|   1|  11|5797423| 432|  8|      2|\n",
      "|   1|  12|5797423| 431|  9|      2|\n",
      "|   1|  81|5797433|1889| 30|      3|\n",
      "|   1|  98|5797443| 494| 18|      3|\n",
      "|   0|  34|5797432|2379|  2|      0|\n",
      "+----+----+-------+----+---+-------+\n",
      "only showing top 5 rows\n",
      "\n"
     ]
    },
    {
     "name": "stderr",
     "output_type": "stream",
     "text": [
      "\r",
      "                                                                                \r"
     ]
    }
   ],
   "source": [
    "data.show(5)"
   ]
  },
  {
   "cell_type": "code",
   "execution_count": 11,
   "id": "5600558d",
   "metadata": {},
   "outputs": [],
   "source": [
    "data = data.unpersist()"
   ]
  },
  {
   "cell_type": "markdown",
   "id": "86cdd910",
   "metadata": {},
   "source": [
    "### Time information"
   ]
  },
  {
   "cell_type": "code",
   "execution_count": 12,
   "id": "61047de6",
   "metadata": {},
   "outputs": [],
   "source": [
    "data = data.withColumn('T_HIT_ns', (25 * (col('ORBIT') * 3564 + col('BX') + col('TDC')/30)))"
   ]
  },
  {
   "cell_type": "code",
   "execution_count": 13,
   "id": "6177c759",
   "metadata": {},
   "outputs": [],
   "source": [
    "data = data.persist()"
   ]
  },
  {
   "cell_type": "code",
   "execution_count": 14,
   "id": "f59bd69f",
   "metadata": {},
   "outputs": [
    {
     "name": "stderr",
     "output_type": "stream",
     "text": [
      "\r",
      "[Stage 3:>                                                          (0 + 1) / 1]\r"
     ]
    },
    {
     "name": "stdout",
     "output_type": "stream",
     "text": [
      "+----+----+-------+----+---+-------+--------------------+\n",
      "|FPGA|CHAN|  ORBIT|  BX|TDC|CHAMBER|            T_HIT_ns|\n",
      "+----+----+-------+----+---+-------+--------------------+\n",
      "|   1|  11|5797423| 432|  8|      2|5.165504001066667E11|\n",
      "|   1|  12|5797423| 431|  9|      2|   5.165504000825E11|\n",
      "|   1|  81|5797433|1889| 30|      3|     5.1655132755E11|\n",
      "|   1|  98|5797443| 494| 18|      3|5.165521836649999...|\n",
      "|   0|  34|5797432|2379|  2|      0|5.165512506766666E11|\n",
      "+----+----+-------+----+---+-------+--------------------+\n",
      "only showing top 5 rows\n",
      "\n"
     ]
    },
    {
     "name": "stderr",
     "output_type": "stream",
     "text": [
      "\r",
      "                                                                                \r"
     ]
    }
   ],
   "source": [
    "data.show(5)"
   ]
  },
  {
   "cell_type": "code",
   "execution_count": 15,
   "id": "b07f1388",
   "metadata": {},
   "outputs": [],
   "source": [
    "data = data.unpersist()"
   ]
  },
  {
   "cell_type": "markdown",
   "id": "ccde282f",
   "metadata": {},
   "source": [
    "#### Time corrections"
   ]
  },
  {
   "cell_type": "code",
   "execution_count": 16,
   "id": "70a2b7cc",
   "metadata": {},
   "outputs": [],
   "source": [
    "data = data.withColumn(\"T_HIT_ns\", when(data['CHAMBER']==0, data[\"T_HIT_ns\"]+93.9)\\\n",
    "                                        .when(data['CHAMBER']==1, data[\"T_HIT_ns\"]+101.4)\\\n",
    "                                        .when(data['CHAMBER']==2, data[\"T_HIT_ns\"]+95.5)\\\n",
    "                                        .when(data['CHAMBER']==3, data[\"T_HIT_ns\"]+92.4)\\\n",
    "                                        .when(data['CHAMBER']==4, data[\"T_HIT_ns\"]))"
   ]
  },
  {
   "cell_type": "code",
   "execution_count": 17,
   "id": "d6ccd78a",
   "metadata": {},
   "outputs": [],
   "source": [
    "data = data.persist()"
   ]
  },
  {
   "cell_type": "code",
   "execution_count": 18,
   "id": "70c25557",
   "metadata": {},
   "outputs": [
    {
     "name": "stderr",
     "output_type": "stream",
     "text": [
      "\r",
      "[Stage 4:>                                                          (0 + 1) / 1]\r"
     ]
    },
    {
     "name": "stdout",
     "output_type": "stream",
     "text": [
      "+----+----+-------+----+---+-------+--------------------+\n",
      "|FPGA|CHAN|  ORBIT|  BX|TDC|CHAMBER|            T_HIT_ns|\n",
      "+----+----+-------+----+---+-------+--------------------+\n",
      "|   1|  11|5797423| 432|  8|      2|5.165504002021667E11|\n",
      "|   1|  12|5797423| 431|  9|      2|    5.16550400178E11|\n",
      "|   1|  81|5797433|1889| 30|      3|   5.165513276424E11|\n",
      "|   1|  98|5797443| 494| 18|      3|5.165521837573999...|\n",
      "|   0|  34|5797432|2379|  2|      0|5.165512507705666...|\n",
      "+----+----+-------+----+---+-------+--------------------+\n",
      "only showing top 5 rows\n",
      "\n"
     ]
    },
    {
     "name": "stderr",
     "output_type": "stream",
     "text": [
      "\r",
      "                                                                                \r"
     ]
    }
   ],
   "source": [
    "data.show(5)"
   ]
  },
  {
   "cell_type": "code",
   "execution_count": 19,
   "id": "3b451c14",
   "metadata": {},
   "outputs": [],
   "source": [
    "data = data.unpersist()"
   ]
  },
  {
   "cell_type": "markdown",
   "id": "19bc2c44",
   "metadata": {},
   "source": [
    "# Evaluating the probability distribution of the muon's arrival time"
   ]
  },
  {
   "cell_type": "code",
   "execution_count": 20,
   "id": "4db5cd45",
   "metadata": {},
   "outputs": [
    {
     "name": "stderr",
     "output_type": "stream",
     "text": [
      "                                                                                \r"
     ]
    },
    {
     "data": {
      "text/plain": [
       "52946"
      ]
     },
     "execution_count": 20,
     "metadata": {},
     "output_type": "execute_result"
    }
   ],
   "source": [
    "# save data to run cells in appendix section\n",
    "data_appendix = data\n",
    "\n",
    "# select only t0 arrival times\n",
    "times_dist = data.filter(data.CHAMBER==4).select(col(\"T_HIT_ns\"))\n",
    "times_dist.count()"
   ]
  },
  {
   "cell_type": "markdown",
   "id": "5d811f43",
   "metadata": {},
   "source": [
    "Since the dataset containing all the muons' arrival times contains \"only\" about 53 thousands records, we can import it locally on the master node to speed up the computation task. Others consideration about this choice can be found in the Appendix section."
   ]
  },
  {
   "cell_type": "code",
   "execution_count": 21,
   "id": "7123be82",
   "metadata": {},
   "outputs": [
    {
     "name": "stderr",
     "output_type": "stream",
     "text": [
      "                                                                                \r"
     ]
    },
    {
     "data": {
      "text/html": [
       "<div>\n",
       "<style scoped>\n",
       "    .dataframe tbody tr th:only-of-type {\n",
       "        vertical-align: middle;\n",
       "    }\n",
       "\n",
       "    .dataframe tbody tr th {\n",
       "        vertical-align: top;\n",
       "    }\n",
       "\n",
       "    .dataframe thead th {\n",
       "        text-align: right;\n",
       "    }\n",
       "</style>\n",
       "<table border=\"1\" class=\"dataframe\">\n",
       "  <thead>\n",
       "    <tr style=\"text-align: right;\">\n",
       "      <th></th>\n",
       "      <th>T_HIT_ns</th>\n",
       "      <th>diff_time</th>\n",
       "    </tr>\n",
       "  </thead>\n",
       "  <tbody>\n",
       "    <tr>\n",
       "      <th>51642</th>\n",
       "      <td>1.000643e+11</td>\n",
       "      <td>3.660550e+08</td>\n",
       "    </tr>\n",
       "    <tr>\n",
       "      <th>51643</th>\n",
       "      <td>1.001737e+11</td>\n",
       "      <td>1.094043e+08</td>\n",
       "    </tr>\n",
       "    <tr>\n",
       "      <th>51644</th>\n",
       "      <td>1.004110e+11</td>\n",
       "      <td>2.372851e+08</td>\n",
       "    </tr>\n",
       "    <tr>\n",
       "      <th>51645</th>\n",
       "      <td>1.007348e+11</td>\n",
       "      <td>3.237768e+08</td>\n",
       "    </tr>\n",
       "    <tr>\n",
       "      <th>51646</th>\n",
       "      <td>1.011551e+11</td>\n",
       "      <td>4.203154e+08</td>\n",
       "    </tr>\n",
       "  </tbody>\n",
       "</table>\n",
       "</div>"
      ],
      "text/plain": [
       "           T_HIT_ns     diff_time\n",
       "51642  1.000643e+11  3.660550e+08\n",
       "51643  1.001737e+11  1.094043e+08\n",
       "51644  1.004110e+11  2.372851e+08\n",
       "51645  1.007348e+11  3.237768e+08\n",
       "51646  1.011551e+11  4.203154e+08"
      ]
     },
     "execution_count": 21,
     "metadata": {},
     "output_type": "execute_result"
    }
   ],
   "source": [
    "times_data = times_dist.toPandas()\n",
    "\n",
    "# sort dataframe\n",
    "times_data = times_data.sort_values('T_HIT_ns')\n",
    "\n",
    "# compute the time difference between the arrival time of two different muons\n",
    "times_data['diff_time'] = times_data.diff()\n",
    "\n",
    "# filter the dataframe in order to delete one NaN and one outsider value\n",
    "times_data = times_data[times_data.diff_time < 1e10]\n",
    "\n",
    "times_data.head()"
   ]
  },
  {
   "cell_type": "markdown",
   "id": "59eeb0ed",
   "metadata": {},
   "source": [
    "We know that the time between the arrival of two different muons follows an exponential distribution, here we fit the density distribution of t0 variable with an exponential function."
   ]
  },
  {
   "cell_type": "code",
   "execution_count": 22,
   "id": "77edf0aa",
   "metadata": {},
   "outputs": [],
   "source": [
    "# convert from ns to s\n",
    "times_data.diff_time = times_data.diff_time.apply(lambda t: 1e-9*t)"
   ]
  },
  {
   "cell_type": "code",
   "execution_count": 23,
   "id": "ae768832",
   "metadata": {},
   "outputs": [
    {
     "name": "stdout",
     "output_type": "stream",
     "text": [
      "Fit function :\n"
     ]
    },
    {
     "data": {
      "text/latex": [
       "$\\displaystyle f(t) = A e^{-\\lambda t}$"
      ],
      "text/plain": [
       "<IPython.core.display.Math object>"
      ]
     },
     "metadata": {},
     "output_type": "display_data"
    },
    {
     "data": {
      "text/latex": [
       "$\\displaystyle $"
      ],
      "text/plain": [
       "<IPython.core.display.Math object>"
      ]
     },
     "metadata": {},
     "output_type": "display_data"
    },
    {
     "name": "stdout",
     "output_type": "stream",
     "text": [
      "Fit parameters :\n"
     ]
    },
    {
     "data": {
      "text/latex": [
       "$\\displaystyle A = (25.0 \\pm 0.1) \\cdot 10^3 $"
      ],
      "text/plain": [
       "<IPython.core.display.Math object>"
      ]
     },
     "metadata": {},
     "output_type": "display_data"
    },
    {
     "data": {
      "text/latex": [
       "$\\displaystyle \\gamma = (1.546 \\pm 0.006 ) \\quad Hz$"
      ],
      "text/plain": [
       "<IPython.core.display.Math object>"
      ]
     },
     "metadata": {},
     "output_type": "display_data"
    },
    {
     "name": "stdout",
     "output_type": "stream",
     "text": [
      "Mean time between two muons :\n"
     ]
    },
    {
     "data": {
      "text/latex": [
       "$\\displaystyle \\Delta T = (0.647 \\pm 0.004 ) \\quad s$"
      ],
      "text/plain": [
       "<IPython.core.display.Math object>"
      ]
     },
     "metadata": {},
     "output_type": "display_data"
    },
    {
     "data": {
      "image/png": "[encoded data removed]",
      "text/plain": [
       "<Figure size 1008x504 with 1 Axes>"
      ]
     },
     "metadata": {
      "needs_background": "light"
     },
     "output_type": "display_data"
    }
   ],
   "source": [
    "# fit\n",
    "def exponential(x,A,gamma):\n",
    "    return A*np.exp(-gamma*x)\n",
    "\n",
    "hist_val, bin_edges = np.histogram(times_data.diff_time.dropna(), bins=25)\n",
    "middle_edges = [(bin_edges[i]+bin_edges[i+1])/2 for i in range(len(bin_edges)-1)]\n",
    "\n",
    "par, cov = curve_fit(exponential, middle_edges, hist_val, p0=(1000,1e-9))\n",
    "\n",
    "# print results\n",
    "print('Fit function :')\n",
    "display(Math(r'f(t) = A e^{-\\lambda t}'))\n",
    "display(Math(fr''))\n",
    "print('Fit parameters :')\n",
    "display(Math(fr'A = ({par[0]*1e-3:.1f} \\pm {np.sqrt(cov[0,0])*1e-3:.1f}) \\cdot 10^3 '))\n",
    "display(Math(fr'\\gamma = ({par[1]:.3f} \\pm {np.sqrt(cov[1,1]):.3f} ) \\quad Hz'))\n",
    "print('Mean time between two muons :')\n",
    "display(Math(fr'\\Delta T = ({1/(par[1]):.3f} \\pm {np.sqrt(cov[1,1])/(par[1]):.3f} ) \\quad s'))\n",
    "\n",
    "# plot results\n",
    "x_plot = np.linspace(0.13,15,500)\n",
    "y_plot = exponential(x_plot,*par)\n",
    "\n",
    "plt.figure(figsize=(14,7))\n",
    "plt.hist(times_data.diff_time, bins=25, color='darkslategray', label='Experimental data')\n",
    "plt.plot(x_plot, y_plot, 'brown', label='Fit function')\n",
    "plt.title(\"Muon's arrival time distribution\")\n",
    "plt.xlabel('Time  [s]')\n",
    "plt.ylabel('Counts')\n",
    "plt.xticks(ticks=bin_edges)\n",
    "plt.xlim(-0.1,5)\n",
    "plt.legend()\n",
    "plt.show()"
   ]
  },
  {
   "cell_type": "markdown",
   "id": "6b140583",
   "metadata": {},
   "source": [
    "### Filter orbits with only one t0"
   ]
  },
  {
   "cell_type": "code",
   "execution_count": 24,
   "id": "a6f4a455",
   "metadata": {},
   "outputs": [],
   "source": [
    "data.createOrReplaceTempView(\"data_table\")\n",
    "data = spark.sql(\"SELECT * \\\n",
    "                  FROM data_table \\\n",
    "                  WHERE ORBIT IN (SELECT DISTINCT ORBIT \\\n",
    "                                  FROM (SELECT ORBIT, SUM(CASE WHEN CHAMBER = 4 THEN 1 ELSE 0 END) AS COUNT \\\n",
    "                                        FROM data_table \\\n",
    "                                        GROUP BY ORBIT \\\n",
    "                                        HAVING COUNT = 1))\")\n",
    "spark.catalog.dropTempView(\"data_table\")"
   ]
  },
  {
   "cell_type": "markdown",
   "id": "8d850879",
   "metadata": {},
   "source": [
    "### Add x_hit feature"
   ]
  },
  {
   "cell_type": "code",
   "execution_count": 25,
   "id": "254e42a7",
   "metadata": {},
   "outputs": [],
   "source": [
    "data.createOrReplaceTempView(\"data_table\")\n",
    "                             \n",
    "data2 = spark.sql(\"SELECT * \\\n",
    "                   FROM data_table \\\n",
    "                   WHERE CHAMBER = 4\")\n",
    "\n",
    "data2.createOrReplaceTempView(\"data_table2\")"
   ]
  },
  {
   "cell_type": "code",
   "execution_count": 26,
   "id": "0424ef34",
   "metadata": {},
   "outputs": [],
   "source": [
    "data = spark.sql(\"SELECT data_table.CHAMBER, data_table.CHAN, data_table.ORBIT, \\\n",
    "                  53.8*(data_table.T_HIT_ns - data_table2.T_HIT_ns) AS x_hit \\\n",
    "                  FROM data_table \\\n",
    "                  INNER JOIN data_table2 ON data_table.ORBIT = data_table2.ORBIT \\\n",
    "                  WHERE data_table.CHAMBER != 4\")"
   ]
  },
  {
   "cell_type": "code",
   "execution_count": 27,
   "id": "ddc4ef32",
   "metadata": {},
   "outputs": [],
   "source": [
    "spark.catalog.dropTempView(\"data_table\")\n",
    "spark.catalog.dropTempView(\"data_table2\")"
   ]
  },
  {
   "cell_type": "code",
   "execution_count": 28,
   "id": "e8f5cc49",
   "metadata": {},
   "outputs": [
    {
     "name": "stderr",
     "output_type": "stream",
     "text": [
      "[Stage 12:>                                                         (0 + 1) / 1]\r"
     ]
    },
    {
     "name": "stdout",
     "output_type": "stream",
     "text": [
      "+-------+----+-------+------------------+\n",
      "|CHAMBER|CHAN|  ORBIT|             x_hit|\n",
      "+-------+----+-------+------------------+\n",
      "|      2|  41|5566098|1909.9032836914062|\n",
      "|      2|  40|5566098|14059.735522460936|\n",
      "|      2|  43|5566098|16660.071044921875|\n",
      "|      1| 115|5566098|2092.8213134765624|\n",
      "|      1| 116|5566098| 4379.324597167969|\n",
      "|      1| 114|5566098|12225.153552246093|\n",
      "|      2|  38|5566098|13745.903283691405|\n",
      "|      2|  43|5566098|23205.735522460935|\n",
      "|      1| 117|5566098|16349.824597167968|\n",
      "|      1| 114|5566098| 25002.65355224609|\n",
      "|      2|  43|8274742|1013.2355224609374|\n",
      "|      1| 119|8274742|2316.9923583984373|\n",
      "|      2|  42|8274742| 4824.071044921875|\n",
      "|      3| 112|8274742| 936.1213134765625|\n",
      "|      3| 113|8274742| 1877.627880859375|\n",
      "|      0|  37|8274742|11552.663403320312|\n",
      "|      1| 118|8274742|1420.3213134765624|\n",
      "|      1| 116|8274742|  15184.1568359375|\n",
      "|      0|  39|8274742|10566.327880859375|\n",
      "|      2|  44|8274742|15494.406567382812|\n",
      "+-------+----+-------+------------------+\n",
      "only showing top 20 rows\n",
      "\n"
     ]
    },
    {
     "name": "stderr",
     "output_type": "stream",
     "text": [
      "\r",
      "                                                                                \r"
     ]
    }
   ],
   "source": [
    "data = data.persist()\n",
    "data.show()\n",
    "data = data.unpersist()"
   ]
  },
  {
   "cell_type": "code",
   "execution_count": 18,
   "id": "5cf5137b",
   "metadata": {},
   "outputs": [
    {
     "data": {
      "text/plain": [
       "'\\nOrlandino version => same result!\\n\\nw = Window.partitionBy(\"ORBIT\")\\n\\nresult = data.withColumn(\\n    \"diff\",\\n    f.col(\"T_HIT_ns\") -\\n    f.first(f.when(f.col(\"CHAMBER\") == 4, f.col(\"T_HIT_ns\")), True).over(w)\\n)\\n\\nresult.show()\\n'"
      ]
     },
     "execution_count": 18,
     "metadata": {},
     "output_type": "execute_result"
    }
   ],
   "source": [
    "'''\n",
    "Orlandino version => same result!\n",
    "\n",
    "w = Window.partitionBy(\"ORBIT\")\n",
    "\n",
    "result = data.withColumn(\n",
    "    \"diff\",\n",
    "    f.col(\"T_HIT_ns\") -\n",
    "    f.first(f.when(f.col(\"CHAMBER\") == 4, f.col(\"T_HIT_ns\")), True).over(w)\n",
    ")\n",
    "\n",
    "result.show()\n",
    "'''"
   ]
  },
  {
   "cell_type": "markdown",
   "id": "5f3b135c",
   "metadata": {},
   "source": [
    "### Compute position inside each chamber"
   ]
  },
  {
   "cell_type": "code",
   "execution_count": 29,
   "id": "c2081f3d",
   "metadata": {},
   "outputs": [],
   "source": [
    "data.createOrReplaceTempView(\"data_table\")\n",
    "data = spark.sql(\"SELECT CHAMBER, CHAN, ORBIT, \\\n",
    "              CASE \\\n",
    "                  WHEN (((CHAMBER = 0) OR (CHAMBER = 2)) AND ((CHAN%4 = 0) OR (CHAN%4 = 1))) THEN 42000*(CHAN DIV 4) + 21000 - x_hit \\\n",
    "                  WHEN (((CHAMBER = 0) OR (CHAMBER = 2)) AND ((CHAN%4 = 2) OR (CHAN%4 = 3))) THEN 42000*(CHAN DIV 4) + 42000 - x_hit \\\n",
    "                  WHEN (((CHAMBER = 1) OR (CHAMBER = 3)) AND ((CHAN%4 = 0) OR (CHAN%4 = 1))) THEN 42000*((CHAN-64) DIV 4) + 21000 - x_hit \\\n",
    "                  WHEN (((CHAMBER = 1) OR (CHAMBER = 3)) AND ((CHAN%4 = 2) OR (CHAN%4 = 3))) THEN 42000*((CHAN-64) DIV 4) + 42000 - x_hit \\\n",
    "              END AS x_L, \\\n",
    "              CASE \\\n",
    "                  WHEN (((CHAMBER = 0) OR (CHAMBER = 2)) AND ((CHAN%4 = 0) OR (CHAN%4 = 1))) THEN 42000*(CHAN DIV 4) + 21000 + x_hit \\\n",
    "                  WHEN (((CHAMBER = 0) OR (CHAMBER = 2)) AND ((CHAN%4 = 2) OR (CHAN%4 = 3))) THEN 42000*(CHAN DIV 4) + 42000 + x_hit \\\n",
    "                  WHEN (((CHAMBER = 1) OR (CHAMBER = 3)) AND ((CHAN%4 = 0) OR (CHAN%4 = 1))) THEN 42000*((CHAN-64) DIV 4) + 21000 + x_hit \\\n",
    "                  WHEN (((CHAMBER = 1) OR (CHAMBER = 3)) AND ((CHAN%4 = 2) OR (CHAN%4 = 3))) THEN 42000*((CHAN-64) DIV 4) + 42000 + x_hit \\\n",
    "              END AS x_R \\\n",
    "          FROM data_table\")"
   ]
  },
  {
   "cell_type": "code",
   "execution_count": 30,
   "id": "53c90f84",
   "metadata": {},
   "outputs": [
    {
     "name": "stderr",
     "output_type": "stream",
     "text": [
      "[Stage 16:>                                                         (0 + 1) / 1]\r"
     ]
    },
    {
     "name": "stdout",
     "output_type": "stream",
     "text": [
      "+-------+----+-------+------------------+------------------+\n",
      "|CHAMBER|CHAN|  ORBIT|               x_L|               x_R|\n",
      "+-------+----+-------+------------------+------------------+\n",
      "|      2|  41|5566098| 439090.0967163086| 442909.9032836914|\n",
      "|      2|  40|5566098|426940.26447753905|455059.73552246095|\n",
      "|      2|  43|5566098| 445339.9289550781| 478660.0710449219|\n",
      "|      1| 115|5566098| 543907.1786865235| 548092.8213134765|\n",
      "|      1| 116|5566098|  562620.675402832|  571379.324597168|\n",
      "|      1| 114|5566098|  533774.846447754|  558225.153552246|\n",
      "|      2|  38|5566098| 406254.0967163086| 433745.9032836914|\n",
      "|      2|  43|5566098|438794.26447753905|485205.73552246095|\n",
      "|      1| 117|5566098|  550650.175402832|  583349.824597168|\n",
      "|      1| 114|5566098| 520997.3464477539|  571002.653552246|\n",
      "|      2|  43|8274742|460986.76447753905|463013.23552246095|\n",
      "|      1| 119|8274742| 585683.0076416016| 590316.9923583984|\n",
      "|      2|  42|8274742| 457175.9289550781| 466824.0710449219|\n",
      "|      3| 112|8274742| 524063.8786865234| 525936.1213134766|\n",
      "|      3| 113|8274742|523122.37211914064| 526877.6278808594|\n",
      "|      0|  37|8274742| 387447.3365966797| 410552.6634033203|\n",
      "|      1| 118|8274742| 586579.6786865235| 589420.3213134765|\n",
      "|      1| 116|8274742| 551815.8431640625| 582184.1568359375|\n",
      "|      0|  39|8274742| 409433.6721191406| 430566.3278808594|\n",
      "|      2|  44|8274742| 467505.5934326172| 498494.4065673828|\n",
      "+-------+----+-------+------------------+------------------+\n",
      "only showing top 20 rows\n",
      "\n"
     ]
    },
    {
     "name": "stderr",
     "output_type": "stream",
     "text": [
      "\r",
      "                                                                                \r"
     ]
    }
   ],
   "source": [
    "data = data.persist()\n",
    "data.show()\n",
    "data = data.unpersist()"
   ]
  },
  {
   "cell_type": "code",
   "execution_count": 31,
   "id": "461962b4",
   "metadata": {},
   "outputs": [],
   "source": [
    "spark.catalog.dropTempView(\"data_table\")\n",
    "data.createOrReplaceTempView(\"data_table\")\n",
    "\n",
    "data = spark.sql(\"SELECT CHAMBER, CHAN, ORBIT, x_L, x_R, \\\n",
    "                  CASE \\\n",
    "                      WHEN ((CHAMBER==0) AND (CHAN % 4 = 0)) THEN (219.8 + 19.5)*100 \\\n",
    "                      WHEN ((CHAMBER==0) AND (CHAN % 4 = 1)) THEN (219.8 - 6.5)*100 \\\n",
    "                      WHEN ((CHAMBER==0) AND (CHAN % 4 = 2)) THEN (219.8 + 6.5)*100 \\\n",
    "                      WHEN ((CHAMBER==0) AND (CHAN % 4 = 3)) THEN (219.8 - 19.5)*100 \\\n",
    "                      WHEN ((CHAMBER==1) AND (CHAN % 4 = 0)) THEN (977.3 + 19.5)*100 \\\n",
    "                      WHEN ((CHAMBER==1) AND (CHAN % 4 = 1)) THEN (977.3 - 6.5)*100 \\\n",
    "                      WHEN ((CHAMBER==1) AND (CHAN % 4 = 2)) THEN (977.3 + 6.5)*100 \\\n",
    "                      WHEN ((CHAMBER==1) AND (CHAN % 4 = 3)) THEN (977.3 - 19.5)*100 \\\n",
    "                      WHEN ((CHAMBER==2) AND (CHAN % 4 = 0)) THEN (1035.6 + 19.5)*100 \\\n",
    "                      WHEN ((CHAMBER==2) AND (CHAN % 4 = 1)) THEN (1035.6 - 6.5)*100 \\\n",
    "                      WHEN ((CHAMBER==2) AND (CHAN % 4 = 2)) THEN (1035.6 + 6.5)*100 \\\n",
    "                      WHEN ((CHAMBER==2) AND (CHAN % 4 = 3)) THEN (1035.6 - 19.5)*100 \\\n",
    "                      WHEN ((CHAMBER==3) AND (CHAN % 4 = 0)) THEN (1819.8 + 19.5)*100 \\\n",
    "                      WHEN ((CHAMBER==3) AND (CHAN % 4 = 1)) THEN (1819.8 - 6.5)*100 \\\n",
    "                      WHEN ((CHAMBER==3) AND (CHAN % 4 = 2)) THEN (1819.8 + 6.5)*100 \\\n",
    "                      WHEN ((CHAMBER==3) AND (CHAN % 4 = 3)) THEN (1819.8 - 19.5)*100 \\\n",
    "                  END AS z \\\n",
    "              FROM data_table\")"
   ]
  },
  {
   "cell_type": "code",
   "execution_count": 32,
   "id": "ac12e13e",
   "metadata": {},
   "outputs": [
    {
     "name": "stderr",
     "output_type": "stream",
     "text": [
      "[Stage 19:===================================================>    (11 + 1) / 12]\r"
     ]
    },
    {
     "name": "stdout",
     "output_type": "stream",
     "text": [
      "+-------+----+-------+------------------+------------------+--------+\n",
      "|CHAMBER|CHAN|  ORBIT|               x_L|               x_R|       z|\n",
      "+-------+----+-------+------------------+------------------+--------+\n",
      "|      2|  41|5566098| 439090.0967163086| 442909.9032836914|102910.0|\n",
      "|      2|  40|5566098|426940.26447753905|455059.73552246095|105510.0|\n",
      "|      2|  43|5566098| 445339.9289550781| 478660.0710449219|101610.0|\n",
      "|      1| 115|5566098| 543907.1786865235| 548092.8213134765| 95780.0|\n",
      "|      1| 116|5566098|  562620.675402832|  571379.324597168| 99680.0|\n",
      "|      1| 114|5566098|  533774.846447754|  558225.153552246| 98380.0|\n",
      "|      2|  38|5566098| 406254.0967163086| 433745.9032836914|104210.0|\n",
      "|      2|  43|5566098|438794.26447753905|485205.73552246095|101610.0|\n",
      "|      1| 117|5566098|  550650.175402832|  583349.824597168| 97080.0|\n",
      "|      1| 114|5566098| 520997.3464477539|  571002.653552246| 98380.0|\n",
      "|      2|  43|8274742|460986.76447753905|463013.23552246095|101610.0|\n",
      "|      1| 119|8274742| 585683.0076416016| 590316.9923583984| 95780.0|\n",
      "|      2|  42|8274742| 457175.9289550781| 466824.0710449219|104210.0|\n",
      "|      3| 112|8274742| 524063.8786865234| 525936.1213134766|183930.0|\n",
      "|      3| 113|8274742|523122.37211914064| 526877.6278808594|181330.0|\n",
      "+-------+----+-------+------------------+------------------+--------+\n",
      "only showing top 15 rows\n",
      "\n"
     ]
    },
    {
     "name": "stderr",
     "output_type": "stream",
     "text": [
      "\r",
      "[Stage 20:>                                                         (0 + 1) / 1]\r",
      "\r",
      "                                                                                \r"
     ]
    }
   ],
   "source": [
    "data = data.persist()\n",
    "data.show(15)\n",
    "data = data.unpersist()"
   ]
  },
  {
   "cell_type": "markdown",
   "id": "48b152e6",
   "metadata": {},
   "source": [
    "# Track reconstruction"
   ]
  },
  {
   "cell_type": "code",
   "execution_count": 33,
   "id": "1f086fb1",
   "metadata": {},
   "outputs": [],
   "source": [
    "def recast(X):\n",
    "    shuffled = []\n",
    "    for x in X: shuffled+=x\n",
    "    L, R, Z = [], [], []\n",
    "    for i in range(len(shuffled)):\n",
    "        if i%3==0: L.append(shuffled[i])\n",
    "        if i%3==1: R.append(shuffled[i])\n",
    "        if i%3==2: Z.append(shuffled[i])\n",
    "    return [L,R,Z]\n",
    "\n",
    "def fltr(x):\n",
    "    if len(x[1][0])>2:\n",
    "        return x\n",
    "\n",
    "def best_fit(x):\n",
    "    comb_RL = list(itertools.product(*[[a,b] for a,b in zip(x[0],x[1])]))\n",
    "\n",
    "    comb_fit = []\n",
    "    for i in range(len(comb_RL)):  \n",
    "        p, res, _,_,_ = np.polyfit(comb_RL[i], x[2], 1, full=True)\n",
    "        comb_fit.append(list(res)+list(p))\n",
    "\n",
    "    idxmin = np.argmin(np.array([el[0] for el in comb_fit]))\n",
    "    return comb_fit[idxmin][1:]"
   ]
  },
  {
   "cell_type": "code",
   "execution_count": 34,
   "id": "84320985",
   "metadata": {},
   "outputs": [
    {
     "name": "stderr",
     "output_type": "stream",
     "text": [
      "                                                                                \r"
     ]
    }
   ],
   "source": [
    "rdd = data.rdd \\\n",
    "      .map(lambda x: ((x[0], x[2]), [x[3], x[4], float(x[5])])) \\\n",
    "      .groupByKey() \\\n",
    "      .mapValues(lambda x: recast(x)) \\\n",
    "      .map(lambda x: fltr(x)) \\\n",
    "      .filter(lambda x: x is not None) \\\n",
    "      .mapValues(lambda x: best_fit(x))"
   ]
  },
  {
   "cell_type": "code",
   "execution_count": 50,
   "id": "43c6f09f",
   "metadata": {},
   "outputs": [],
   "source": [
    "import numpy"
   ]
  },
  {
   "cell_type": "markdown",
   "id": "b56cb9a5",
   "metadata": {},
   "source": [
    "The RDD created is structured as a list of items (key, value), where key=(CHAMBER, ORBIT) and value=[angular coefficient, intercept] "
   ]
  },
  {
   "cell_type": "code",
   "execution_count": 51,
   "id": "41393ac7",
   "metadata": {},
   "outputs": [
    {
     "name": "stderr",
     "output_type": "stream",
     "text": [
      "                                                                                \r"
     ]
    },
    {
     "data": {
      "text/plain": [
       "[((3, 7378167), [-0.14156946465661616, 197374.7711872558]),\n",
       " ((2, 13126144), [0.40503828321461816, -87062.44109236481]),\n",
       " ((0, 16257246), [0.07879964047501332, -8512.48918311383]),\n",
       " ((1, 25347101), [0.10540914540095504, 34865.927377948756]),\n",
       " ((1, 27431653), [0.07162969835534339, 63540.832694732824]),\n",
       " ((3, 30402847), [-0.003058412961063912, 182873.46284251762]),\n",
       " ((2, 34278688), [-0.2710834582620827, 231057.48623256758]),\n",
       " ((1, 48879109), [-0.0008484165170950147, 98023.35888215977]),\n",
       " ((0, 50690462), [0.3126666138154905, -49266.699315960446]),\n",
       " ((3, 57106879), [0.38152299324347866, -61036.000417933974])]"
      ]
     },
     "execution_count": 51,
     "metadata": {},
     "output_type": "execute_result"
    }
   ],
   "source": [
    "rdd.take(10)"
   ]
  },
  {
   "cell_type": "code",
   "execution_count": null,
   "id": "50e0e256",
   "metadata": {},
   "outputs": [],
   "source": []
  },
  {
   "cell_type": "code",
   "execution_count": null,
   "id": "f1767a2e",
   "metadata": {},
   "outputs": [],
   "source": []
  },
  {
   "cell_type": "code",
   "execution_count": 19,
   "id": "4dc52456",
   "metadata": {},
   "outputs": [],
   "source": [
    "data.createOrReplaceTempView(\"data_table\")\n",
    "data = spark.sql(\"SELECT * \\\n",
    "                    FROM (SELECT * FROM data_table WHERE ORBIT IN (SELECT DISTINCT ORBIT FROM data_table WHERE CHAMBER==4)) \\\n",
    "                    WHERE ORBIT IN (SELECT DISTINCT ORBIT \\\n",
    "                                    FROM (SELECT ORBIT, COUNT(*) AS COUNT \\\n",
    "                                           FROM data_table \\\n",
    "                                           GROUP BY (ORBIT) \\\n",
    "                                           HAVING count < 15))\")"
   ]
  },
  {
   "cell_type": "markdown",
   "id": "ccc41c8b",
   "metadata": {},
   "source": [
    "# Appendix"
   ]
  },
  {
   "cell_type": "markdown",
   "id": "0416763f",
   "metadata": {},
   "source": [
    "### Computing the distribution of the muons' arrival time in parallel"
   ]
  },
  {
   "cell_type": "markdown",
   "id": "40a48779",
   "metadata": {},
   "source": [
    "In the next cell it is reported the code which aim to obtain the results found in Chapter ."
   ]
  },
  {
   "cell_type": "code",
   "execution_count": 19,
   "id": "7543a55c",
   "metadata": {},
   "outputs": [
    {
     "name": "stderr",
     "output_type": "stream",
     "text": [
      "[Stage 20:>                                                         (0 + 1) / 1]\r"
     ]
    },
    {
     "name": "stdout",
     "output_type": "stream",
     "text": [
      "Fit parameters :\n"
     ]
    },
    {
     "name": "stderr",
     "output_type": "stream",
     "text": [
      "\r",
      "                                                                                \r"
     ]
    },
    {
     "data": {
      "text/latex": [
       "$\\displaystyle A = (22.8 \\pm 0.1) \\cdot 10^3 $"
      ],
      "text/plain": [
       "<IPython.core.display.Math object>"
      ]
     },
     "metadata": {},
     "output_type": "display_data"
    },
    {
     "data": {
      "text/latex": [
       "$\\displaystyle \\gamma = (0.050 \\pm 0.000 ) \\quad Hz$"
      ],
      "text/plain": [
       "<IPython.core.display.Math object>"
      ]
     },
     "metadata": {},
     "output_type": "display_data"
    },
    {
     "name": "stdout",
     "output_type": "stream",
     "text": [
      "Mean time between two muons :\n"
     ]
    },
    {
     "data": {
      "text/latex": [
       "$\\displaystyle \\Delta T = (19.869 \\pm 0.004 ) \\quad s$"
      ],
      "text/plain": [
       "<IPython.core.display.Math object>"
      ]
     },
     "metadata": {},
     "output_type": "display_data"
    },
    {
     "data": {
      "image/png": "[encoded data removed]",
      "text/plain": [
       "<Figure size 1008x504 with 1 Axes>"
      ]
     },
     "metadata": {
      "needs_background": "light"
     },
     "output_type": "display_data"
    }
   ],
   "source": [
    "# manipulate the dataframe\n",
    "b = data_appendix\n",
    "b = data.filter(data.CHAMBER==4).select(col(\"T_HIT_ns\"), col('TDC'))\n",
    "w = Window.partitionBy('TDC').orderBy('T_HIT_ns')\n",
    "# create a column with shifted data\n",
    "c = b.withColumn('lead', f.lag('T_HIT_ns', 1).over(w)) \\\n",
    "     .withColumn('t0_diff', f.when(f.col('lead').isNotNull(), f.col('T_HIT_ns') - f.col('lead')).otherwise(f.lit(None))) \\\n",
    "     .withColumn('t0_diff', col('t0_diff')*1e-9)              # compute the between-muons' time and convert in seconds\n",
    "d = c.select(\"t0_diff\").toPandas()                            # move datat to a Pandas dataframe\n",
    "\n",
    "# executing the fit\n",
    "hist_val, bin_edges = np.histogram(d.t0_diff.dropna(), bins=25)#, density=True)\n",
    "middle_edges = [(bin_edges[i]+bin_edges[i+1])/2 for i in range(len(bin_edges)-1)]\n",
    "def exponential(x,A,gamma):\n",
    "    return A*np.exp(-gamma*x)\n",
    "par, cov = curve_fit(exponential, middle_edges, hist_val, p0=(25000,1.5e-9), method='lm')\n",
    "\n",
    "# print results\n",
    "print('Fit parameters :')\n",
    "display(Math(fr'A = ({par[0]*1e-3:.1f} \\pm {np.sqrt(cov[0,0])*1e-3:.1f}) \\cdot 10^3 '))\n",
    "display(Math(fr'\\gamma = ({par[1]:.3f} \\pm {np.sqrt(cov[1,1]):.3f} ) \\quad Hz'))\n",
    "print('Mean time between two muons :')\n",
    "display(Math(fr'\\Delta T = ({1/(par[1]):.3f} \\pm {np.sqrt(cov[1,1])/(par[1]):.3f} ) \\quad s'))\n",
    "\n",
    "# plot results\n",
    "plt.figure(figsize=(14,7))\n",
    "x_plot = np.linspace(3,200,500)\n",
    "y_plot = exponential(x_plot,*par)\n",
    "plt.hist(d.t0_diff, bins=25, color='darkslategray', label='Experimental data')\n",
    "plt.plot(x_plot, y_plot, 'brown', label='Fit function')\n",
    "plt.title(\"Muon's arrival time distribution exploiting parallel computing\")\n",
    "plt.xlabel('Time  [s]')\n",
    "plt.ylabel('Counts')\n",
    "plt.xticks(ticks=bin_edges)\n",
    "plt.xlim(-1,160)\n",
    "plt.legend()\n",
    "plt.show()"
   ]
  },
  {
   "cell_type": "markdown",
   "id": "08d3ff6d",
   "metadata": {},
   "source": [
    "We can note that the histogram and the $\\gamma$ parameter obtained are sensibly different from the ones obtained executing the computation only on the master resources. This is caused by the line \"w = Window.partitionBy('TDC').orderBy('T_HIT_ns')\", where we impose a data partiton based on the TDC channel. Consequently, when sorting arrival times and computing the difference between them, the difference are not computed between consequent muons (because their information stands in different partitions) and this results in greater between-muons arrival time, which causes the histogram to be scaled in the x-axis.\n",
    "\n",
    "Note that executing the partition on a different column, like FPGA, CHAN or CHAMBER will results in allocate all data informations on a single partition. Providing no column to the partitionBy() function also causes Spark to save every record in a single virtual machine, thus losing all the advantages of exploiting a computing cluster."
   ]
  }
 ],
 "metadata": {
  "kernelspec": {
   "display_name": "Python 3 (ipykernel)",
   "language": "python",
   "name": "python3"
  },
  "language_info": {
   "codemirror_mode": {
    "name": "ipython",
    "version": 3
   },
   "file_extension": ".py",
   "mimetype": "text/x-python",
   "name": "python",
   "nbconvert_exporter": "python",
   "pygments_lexer": "ipython3",
   "version": "3.8.10"
  }
 },
 "nbformat": 4,
 "nbformat_minor": 5
}

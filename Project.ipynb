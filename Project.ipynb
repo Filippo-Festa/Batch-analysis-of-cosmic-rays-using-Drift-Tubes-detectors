{
 "cells": [
  {
   "cell_type": "code",
   "execution_count": 1,
   "id": "bc0a0913",
   "metadata": {},
   "outputs": [],
   "source": [
    "import struct\n",
    "from pyspark.sql import SparkSession, Window\n",
    "import pyspark.sql.functions as f\n",
    "from pyspark.sql.functions import when, col, lag, lit, atan\n",
    "import matplotlib.pyplot as plt\n",
    "from math import log\n",
    "import numpy as np\n",
    "from scipy.optimize import curve_fit\n",
    "from IPython.display import display, Math, Markdown, Latex\n",
    "from itertools import product\n",
    "import itertools\n",
    "import pyspark\n",
    "from pyspark.sql.types import StructType, StructField, IntegerType, DoubleType, FloatType"
   ]
  },
  {
   "cell_type": "markdown",
   "id": "3b906a94",
   "metadata": {},
   "source": [
    "# Setting"
   ]
  },
  {
   "cell_type": "code",
   "execution_count": 2,
   "id": "21105637",
   "metadata": {},
   "outputs": [
    {
     "name": "stderr",
     "output_type": "stream",
     "text": [
      "Warning: Ignoring non-Spark config property: com.amazonaws.sdk.disableCertChecking\n",
      "WARNING: An illegal reflective access operation has occurred\n",
      "WARNING: Illegal reflective access by org.apache.spark.unsafe.Platform (file:/usr/local/spark/jars/spark-unsafe_2.12-3.2.1.jar) to constructor java.nio.DirectByteBuffer(long,int)\n",
      "WARNING: Please consider reporting this to the maintainers of org.apache.spark.unsafe.Platform\n",
      "WARNING: Use --illegal-access=warn to enable warnings of further illegal reflective access operations\n",
      "WARNING: All illegal access operations will be denied in a future release\n"
     ]
    },
    {
     "name": "stdout",
     "output_type": "stream",
     "text": [
      ":: loading settings :: url = jar:file:/usr/local/spark/jars/ivy-2.5.0.jar!/org/apache/ivy/core/settings/ivysettings.xml\n"
     ]
    },
    {
     "name": "stderr",
     "output_type": "stream",
     "text": [
      "Ivy Default Cache set to: /root/.ivy2/cache\n",
      "The jars for the packages stored in: /root/.ivy2/jars\n",
      "com.amazonaws#aws-java-sdk added as a dependency\n",
      ":: resolving dependencies :: org.apache.spark#spark-submit-parent-0a8eb2e6-bd8d-4cef-9c53-f786b6288c96;1.0\n",
      "\tconfs: [default]\n",
      "\tfound com.amazonaws#aws-java-sdk;1.11.375 in central\n",
      "\tfound com.amazonaws#aws-java-sdk-dlm;1.11.375 in central\n",
      "\tfound com.amazonaws#aws-java-sdk-core;1.11.375 in central\n",
      "\tfound commons-logging#commons-logging;1.1.3 in central\n",
      "\tfound org.apache.httpcomponents#httpclient;4.5.5 in central\n",
      "\tfound org.apache.httpcomponents#httpcore;4.4.9 in central\n",
      "\tfound commons-codec#commons-codec;1.10 in central\n",
      "\tfound software.amazon.ion#ion-java;1.0.2 in central\n",
      "\tfound com.fasterxml.jackson.core#jackson-databind;2.6.7.1 in central\n",
      "\tfound com.fasterxml.jackson.core#jackson-annotations;2.6.0 in central\n",
      "\tfound com.fasterxml.jackson.core#jackson-core;2.6.7 in central\n",
      "\tfound com.fasterxml.jackson.dataformat#jackson-dataformat-cbor;2.6.7 in central\n",
      "\tfound joda-time#joda-time;2.8.1 in central\n",
      "\tfound com.amazonaws#jmespath-java;1.11.375 in central\n",
      "\tfound com.amazonaws#aws-java-sdk-macie;1.11.375 in central\n",
      "\tfound com.amazonaws#aws-java-sdk-eks;1.11.375 in central\n",
      "\tfound com.amazonaws#aws-java-sdk-mediatailor;1.11.375 in central\n",
      "\tfound com.amazonaws#aws-java-sdk-neptune;1.11.375 in central\n",
      "\tfound com.amazonaws#aws-java-sdk-pi;1.11.375 in central\n",
      "\tfound com.amazonaws#aws-java-sdk-iot1clickprojects;1.11.375 in central\n",
      "\tfound com.amazonaws#aws-java-sdk-iot1clickdevices;1.11.375 in central\n",
      "\tfound com.amazonaws#aws-java-sdk-iotanalytics;1.11.375 in central\n",
      "\tfound com.amazonaws#aws-java-sdk-acmpca;1.11.375 in central\n",
      "\tfound com.amazonaws#aws-java-sdk-secretsmanager;1.11.375 in central\n",
      "\tfound com.amazonaws#aws-java-sdk-fms;1.11.375 in central\n",
      "\tfound com.amazonaws#aws-java-sdk-connect;1.11.375 in central\n",
      "\tfound com.amazonaws#aws-java-sdk-transcribe;1.11.375 in central\n",
      "\tfound com.amazonaws#aws-java-sdk-autoscalingplans;1.11.375 in central\n",
      "\tfound com.amazonaws#aws-java-sdk-workmail;1.11.375 in central\n",
      "\tfound com.amazonaws#aws-java-sdk-servicediscovery;1.11.375 in central\n",
      "\tfound com.amazonaws#aws-java-sdk-cloud9;1.11.375 in central\n",
      "\tfound com.amazonaws#aws-java-sdk-serverlessapplicationrepository;1.11.375 in central\n",
      "\tfound com.amazonaws#aws-java-sdk-alexaforbusiness;1.11.375 in central\n",
      "\tfound com.amazonaws#aws-java-sdk-resourcegroups;1.11.375 in central\n",
      "\tfound com.amazonaws#aws-java-sdk-comprehend;1.11.375 in central\n",
      "\tfound com.amazonaws#aws-java-sdk-translate;1.11.375 in central\n",
      "\tfound com.amazonaws#aws-java-sdk-sagemaker;1.11.375 in central\n",
      "\tfound com.amazonaws#aws-java-sdk-iotjobsdataplane;1.11.375 in central\n",
      "\tfound com.amazonaws#aws-java-sdk-sagemakerruntime;1.11.375 in central\n",
      "\tfound com.amazonaws#aws-java-sdk-kinesisvideo;1.11.375 in central\n",
      "\tfound io.netty#netty-codec-http;4.1.17.Final in central\n",
      "\tfound io.netty#netty-codec;4.1.17.Final in central\n",
      "\tfound io.netty#netty-transport;4.1.17.Final in central\n",
      "\tfound io.netty#netty-buffer;4.1.17.Final in central\n",
      "\tfound io.netty#netty-common;4.1.17.Final in central\n",
      "\tfound io.netty#netty-resolver;4.1.17.Final in central\n",
      "\tfound io.netty#netty-handler;4.1.17.Final in central\n",
      "\tfound com.amazonaws#aws-java-sdk-appsync;1.11.375 in central\n",
      "\tfound com.amazonaws#aws-java-sdk-guardduty;1.11.375 in central\n",
      "\tfound com.amazonaws#aws-java-sdk-mq;1.11.375 in central\n",
      "\tfound com.amazonaws#aws-java-sdk-mediaconvert;1.11.375 in central\n",
      "\tfound com.amazonaws#aws-java-sdk-mediastore;1.11.375 in central\n",
      "\tfound com.amazonaws#aws-java-sdk-mediastoredata;1.11.375 in central\n",
      "\tfound com.amazonaws#aws-java-sdk-medialive;1.11.375 in central\n",
      "\tfound com.amazonaws#aws-java-sdk-mediapackage;1.11.375 in central\n",
      "\tfound com.amazonaws#aws-java-sdk-costexplorer;1.11.375 in central\n",
      "\tfound com.amazonaws#aws-java-sdk-pricing;1.11.375 in central\n",
      "\tfound com.amazonaws#aws-java-sdk-mobile;1.11.375 in central\n",
      "\tfound com.amazonaws#aws-java-sdk-cloudhsmv2;1.11.375 in central\n",
      "\tfound com.amazonaws#aws-java-sdk-glue;1.11.375 in central\n",
      "\tfound com.amazonaws#aws-java-sdk-migrationhub;1.11.375 in central\n",
      "\tfound com.amazonaws#aws-java-sdk-dax;1.11.375 in central\n",
      "\tfound com.amazonaws#aws-java-sdk-greengrass;1.11.375 in central\n",
      "\tfound com.amazonaws#aws-java-sdk-athena;1.11.375 in central\n",
      "\tfound com.amazonaws#aws-java-sdk-marketplaceentitlement;1.11.375 in central\n",
      "\tfound com.amazonaws#aws-java-sdk-codestar;1.11.375 in central\n",
      "\tfound com.amazonaws#aws-java-sdk-lexmodelbuilding;1.11.375 in central\n",
      "\tfound com.amazonaws#aws-java-sdk-resourcegroupstaggingapi;1.11.375 in central\n",
      "\tfound com.amazonaws#aws-java-sdk-pinpoint;1.11.375 in central\n",
      "\tfound com.amazonaws#aws-java-sdk-xray;1.11.375 in central\n",
      "\tfound com.amazonaws#aws-java-sdk-opsworkscm;1.11.375 in central\n",
      "\tfound com.amazonaws#aws-java-sdk-support;1.11.375 in central\n",
      "\tfound com.amazonaws#aws-java-sdk-simpledb;1.11.375 in central\n",
      "\tfound com.amazonaws#aws-java-sdk-servicecatalog;1.11.375 in central\n",
      "\tfound com.amazonaws#aws-java-sdk-servermigration;1.11.375 in central\n",
      "\tfound com.amazonaws#aws-java-sdk-simpleworkflow;1.11.375 in central\n",
      "\tfound com.amazonaws#aws-java-sdk-storagegateway;1.11.375 in central\n",
      "\tfound com.amazonaws#aws-java-sdk-route53;1.11.375 in central\n",
      "\tfound com.amazonaws#aws-java-sdk-s3;1.11.375 in central\n",
      "\tfound com.amazonaws#aws-java-sdk-kms;1.11.375 in central\n",
      "\tfound com.amazonaws#aws-java-sdk-importexport;1.11.375 in central\n",
      "\tfound com.amazonaws#aws-java-sdk-sts;1.11.375 in central\n",
      "\tfound com.amazonaws#aws-java-sdk-sqs;1.11.375 in central\n",
      "\tfound com.amazonaws#aws-java-sdk-rds;1.11.375 in central\n",
      "\tfound com.amazonaws#aws-java-sdk-redshift;1.11.375 in central\n",
      "\tfound com.amazonaws#aws-java-sdk-elasticbeanstalk;1.11.375 in central\n",
      "\tfound com.amazonaws#aws-java-sdk-glacier;1.11.375 in central\n",
      "\tfound com.amazonaws#aws-java-sdk-sns;1.11.375 in central\n",
      "\tfound com.amazonaws#aws-java-sdk-iam;1.11.375 in central\n",
      "\tfound com.amazonaws#aws-java-sdk-datapipeline;1.11.375 in central\n",
      "\tfound com.amazonaws#aws-java-sdk-elasticloadbalancing;1.11.375 in central\n",
      "\tfound com.amazonaws#aws-java-sdk-elasticloadbalancingv2;1.11.375 in central\n",
      "\tfound com.amazonaws#aws-java-sdk-emr;1.11.375 in central\n",
      "\tfound com.amazonaws#aws-java-sdk-elasticache;1.11.375 in central\n",
      "\tfound com.amazonaws#aws-java-sdk-elastictranscoder;1.11.375 in central\n",
      "\tfound com.amazonaws#aws-java-sdk-ec2;1.11.375 in central\n",
      "\tfound com.amazonaws#aws-java-sdk-dynamodb;1.11.375 in central\n",
      "\tfound com.amazonaws#aws-java-sdk-budgets;1.11.375 in central\n",
      "\tfound com.amazonaws#aws-java-sdk-cloudtrail;1.11.375 in central\n",
      "\tfound com.amazonaws#aws-java-sdk-cloudwatch;1.11.375 in central\n",
      "\tfound com.amazonaws#aws-java-sdk-logs;1.11.375 in central\n",
      "\tfound com.amazonaws#aws-java-sdk-events;1.11.375 in central\n",
      "\tfound com.amazonaws#aws-java-sdk-cognitoidentity;1.11.375 in central\n",
      "\tfound com.amazonaws#aws-java-sdk-cognitosync;1.11.375 in central\n",
      "\tfound com.amazonaws#aws-java-sdk-directconnect;1.11.375 in central\n",
      "\tfound com.amazonaws#aws-java-sdk-cloudformation;1.11.375 in central\n",
      "\tfound com.amazonaws#aws-java-sdk-cloudfront;1.11.375 in central\n",
      "\tfound com.amazonaws#aws-java-sdk-clouddirectory;1.11.375 in central\n",
      "\tfound com.amazonaws#aws-java-sdk-kinesis;1.11.375 in central\n",
      "\tfound com.amazonaws#aws-java-sdk-opsworks;1.11.375 in central\n",
      "\tfound com.amazonaws#aws-java-sdk-ses;1.11.375 in central\n",
      "\tfound com.amazonaws#aws-java-sdk-autoscaling;1.11.375 in central\n",
      "\tfound com.amazonaws#aws-java-sdk-cloudsearch;1.11.375 in central\n",
      "\tfound com.amazonaws#aws-java-sdk-cloudwatchmetrics;1.11.375 in central\n",
      "\tfound com.amazonaws#aws-java-sdk-codedeploy;1.11.375 in central\n",
      "\tfound com.amazonaws#aws-java-sdk-codepipeline;1.11.375 in central\n",
      "\tfound com.amazonaws#aws-java-sdk-config;1.11.375 in central\n",
      "\tfound com.amazonaws#aws-java-sdk-lambda;1.11.375 in central\n",
      "\tfound com.amazonaws#aws-java-sdk-ecs;1.11.375 in central\n",
      "\tfound com.amazonaws#aws-java-sdk-ecr;1.11.375 in central\n",
      "\tfound com.amazonaws#aws-java-sdk-cloudhsm;1.11.375 in central\n",
      "\tfound com.amazonaws#aws-java-sdk-ssm;1.11.375 in central\n",
      "\tfound com.amazonaws#aws-java-sdk-workspaces;1.11.375 in central\n",
      "\tfound com.amazonaws#aws-java-sdk-machinelearning;1.11.375 in central\n",
      "\tfound com.amazonaws#aws-java-sdk-directory;1.11.375 in central\n",
      "\tfound com.amazonaws#aws-java-sdk-efs;1.11.375 in central\n",
      "\tfound com.amazonaws#aws-java-sdk-codecommit;1.11.375 in central\n",
      "\tfound com.amazonaws#aws-java-sdk-devicefarm;1.11.375 in central\n",
      "\tfound com.amazonaws#aws-java-sdk-elasticsearch;1.11.375 in central\n",
      "\tfound com.amazonaws#aws-java-sdk-waf;1.11.375 in central\n",
      "\tfound com.amazonaws#aws-java-sdk-marketplacecommerceanalytics;1.11.375 in central\n",
      "\tfound com.amazonaws#aws-java-sdk-inspector;1.11.375 in central\n",
      "\tfound com.amazonaws#aws-java-sdk-iot;1.11.375 in central\n",
      "\tfound com.amazonaws#aws-java-sdk-api-gateway;1.11.375 in central\n",
      "\tfound com.amazonaws#aws-java-sdk-acm;1.11.375 in central\n",
      "\tfound com.amazonaws#aws-java-sdk-gamelift;1.11.375 in central\n"
     ]
    },
    {
     "name": "stderr",
     "output_type": "stream",
     "text": [
      "\tfound com.amazonaws#aws-java-sdk-dms;1.11.375 in central\n",
      "\tfound com.amazonaws#aws-java-sdk-marketplacemeteringservice;1.11.375 in central\n",
      "\tfound com.amazonaws#aws-java-sdk-cognitoidp;1.11.375 in central\n",
      "\tfound com.amazonaws#aws-java-sdk-discovery;1.11.375 in central\n",
      "\tfound com.amazonaws#aws-java-sdk-applicationautoscaling;1.11.375 in central\n",
      "\tfound com.amazonaws#aws-java-sdk-snowball;1.11.375 in central\n",
      "\tfound com.amazonaws#aws-java-sdk-rekognition;1.11.375 in central\n",
      "\tfound com.amazonaws#aws-java-sdk-polly;1.11.375 in central\n",
      "\tfound com.amazonaws#aws-java-sdk-lightsail;1.11.375 in central\n",
      "\tfound com.amazonaws#aws-java-sdk-stepfunctions;1.11.375 in central\n",
      "\tfound com.amazonaws#aws-java-sdk-health;1.11.375 in central\n",
      "\tfound com.amazonaws#aws-java-sdk-costandusagereport;1.11.375 in central\n",
      "\tfound com.amazonaws#aws-java-sdk-codebuild;1.11.375 in central\n",
      "\tfound com.amazonaws#aws-java-sdk-appstream;1.11.375 in central\n",
      "\tfound com.amazonaws#aws-java-sdk-shield;1.11.375 in central\n",
      "\tfound com.amazonaws#aws-java-sdk-batch;1.11.375 in central\n",
      "\tfound com.amazonaws#aws-java-sdk-lex;1.11.375 in central\n",
      "\tfound com.amazonaws#aws-java-sdk-mechanicalturkrequester;1.11.375 in central\n",
      "\tfound com.amazonaws#aws-java-sdk-organizations;1.11.375 in central\n",
      "\tfound com.amazonaws#aws-java-sdk-workdocs;1.11.375 in central\n",
      "\tfound com.amazonaws#aws-java-sdk-models;1.11.375 in central\n",
      "\tfound com.amazonaws#aws-java-sdk-swf-libraries;1.11.22 in central\n",
      ":: resolution report :: resolve 2130ms :: artifacts dl 46ms\n",
      "\t:: modules in use:\n",
      "\tcom.amazonaws#aws-java-sdk;1.11.375 from central in [default]\n",
      "\tcom.amazonaws#aws-java-sdk-acm;1.11.375 from central in [default]\n",
      "\tcom.amazonaws#aws-java-sdk-acmpca;1.11.375 from central in [default]\n",
      "\tcom.amazonaws#aws-java-sdk-alexaforbusiness;1.11.375 from central in [default]\n",
      "\tcom.amazonaws#aws-java-sdk-api-gateway;1.11.375 from central in [default]\n",
      "\tcom.amazonaws#aws-java-sdk-applicationautoscaling;1.11.375 from central in [default]\n",
      "\tcom.amazonaws#aws-java-sdk-appstream;1.11.375 from central in [default]\n",
      "\tcom.amazonaws#aws-java-sdk-appsync;1.11.375 from central in [default]\n",
      "\tcom.amazonaws#aws-java-sdk-athena;1.11.375 from central in [default]\n",
      "\tcom.amazonaws#aws-java-sdk-autoscaling;1.11.375 from central in [default]\n",
      "\tcom.amazonaws#aws-java-sdk-autoscalingplans;1.11.375 from central in [default]\n",
      "\tcom.amazonaws#aws-java-sdk-batch;1.11.375 from central in [default]\n",
      "\tcom.amazonaws#aws-java-sdk-budgets;1.11.375 from central in [default]\n",
      "\tcom.amazonaws#aws-java-sdk-cloud9;1.11.375 from central in [default]\n",
      "\tcom.amazonaws#aws-java-sdk-clouddirectory;1.11.375 from central in [default]\n",
      "\tcom.amazonaws#aws-java-sdk-cloudformation;1.11.375 from central in [default]\n",
      "\tcom.amazonaws#aws-java-sdk-cloudfront;1.11.375 from central in [default]\n",
      "\tcom.amazonaws#aws-java-sdk-cloudhsm;1.11.375 from central in [default]\n",
      "\tcom.amazonaws#aws-java-sdk-cloudhsmv2;1.11.375 from central in [default]\n",
      "\tcom.amazonaws#aws-java-sdk-cloudsearch;1.11.375 from central in [default]\n",
      "\tcom.amazonaws#aws-java-sdk-cloudtrail;1.11.375 from central in [default]\n",
      "\tcom.amazonaws#aws-java-sdk-cloudwatch;1.11.375 from central in [default]\n",
      "\tcom.amazonaws#aws-java-sdk-cloudwatchmetrics;1.11.375 from central in [default]\n",
      "\tcom.amazonaws#aws-java-sdk-codebuild;1.11.375 from central in [default]\n",
      "\tcom.amazonaws#aws-java-sdk-codecommit;1.11.375 from central in [default]\n",
      "\tcom.amazonaws#aws-java-sdk-codedeploy;1.11.375 from central in [default]\n",
      "\tcom.amazonaws#aws-java-sdk-codepipeline;1.11.375 from central in [default]\n",
      "\tcom.amazonaws#aws-java-sdk-codestar;1.11.375 from central in [default]\n",
      "\tcom.amazonaws#aws-java-sdk-cognitoidentity;1.11.375 from central in [default]\n",
      "\tcom.amazonaws#aws-java-sdk-cognitoidp;1.11.375 from central in [default]\n",
      "\tcom.amazonaws#aws-java-sdk-cognitosync;1.11.375 from central in [default]\n",
      "\tcom.amazonaws#aws-java-sdk-comprehend;1.11.375 from central in [default]\n",
      "\tcom.amazonaws#aws-java-sdk-config;1.11.375 from central in [default]\n",
      "\tcom.amazonaws#aws-java-sdk-connect;1.11.375 from central in [default]\n",
      "\tcom.amazonaws#aws-java-sdk-core;1.11.375 from central in [default]\n",
      "\tcom.amazonaws#aws-java-sdk-costandusagereport;1.11.375 from central in [default]\n",
      "\tcom.amazonaws#aws-java-sdk-costexplorer;1.11.375 from central in [default]\n",
      "\tcom.amazonaws#aws-java-sdk-datapipeline;1.11.375 from central in [default]\n",
      "\tcom.amazonaws#aws-java-sdk-dax;1.11.375 from central in [default]\n",
      "\tcom.amazonaws#aws-java-sdk-devicefarm;1.11.375 from central in [default]\n",
      "\tcom.amazonaws#aws-java-sdk-directconnect;1.11.375 from central in [default]\n",
      "\tcom.amazonaws#aws-java-sdk-directory;1.11.375 from central in [default]\n",
      "\tcom.amazonaws#aws-java-sdk-discovery;1.11.375 from central in [default]\n",
      "\tcom.amazonaws#aws-java-sdk-dlm;1.11.375 from central in [default]\n",
      "\tcom.amazonaws#aws-java-sdk-dms;1.11.375 from central in [default]\n",
      "\tcom.amazonaws#aws-java-sdk-dynamodb;1.11.375 from central in [default]\n",
      "\tcom.amazonaws#aws-java-sdk-ec2;1.11.375 from central in [default]\n",
      "\tcom.amazonaws#aws-java-sdk-ecr;1.11.375 from central in [default]\n",
      "\tcom.amazonaws#aws-java-sdk-ecs;1.11.375 from central in [default]\n",
      "\tcom.amazonaws#aws-java-sdk-efs;1.11.375 from central in [default]\n",
      "\tcom.amazonaws#aws-java-sdk-eks;1.11.375 from central in [default]\n",
      "\tcom.amazonaws#aws-java-sdk-elasticache;1.11.375 from central in [default]\n",
      "\tcom.amazonaws#aws-java-sdk-elasticbeanstalk;1.11.375 from central in [default]\n",
      "\tcom.amazonaws#aws-java-sdk-elasticloadbalancing;1.11.375 from central in [default]\n",
      "\tcom.amazonaws#aws-java-sdk-elasticloadbalancingv2;1.11.375 from central in [default]\n",
      "\tcom.amazonaws#aws-java-sdk-elasticsearch;1.11.375 from central in [default]\n",
      "\tcom.amazonaws#aws-java-sdk-elastictranscoder;1.11.375 from central in [default]\n",
      "\tcom.amazonaws#aws-java-sdk-emr;1.11.375 from central in [default]\n",
      "\tcom.amazonaws#aws-java-sdk-events;1.11.375 from central in [default]\n",
      "\tcom.amazonaws#aws-java-sdk-fms;1.11.375 from central in [default]\n",
      "\tcom.amazonaws#aws-java-sdk-gamelift;1.11.375 from central in [default]\n",
      "\tcom.amazonaws#aws-java-sdk-glacier;1.11.375 from central in [default]\n",
      "\tcom.amazonaws#aws-java-sdk-glue;1.11.375 from central in [default]\n",
      "\tcom.amazonaws#aws-java-sdk-greengrass;1.11.375 from central in [default]\n",
      "\tcom.amazonaws#aws-java-sdk-guardduty;1.11.375 from central in [default]\n",
      "\tcom.amazonaws#aws-java-sdk-health;1.11.375 from central in [default]\n",
      "\tcom.amazonaws#aws-java-sdk-iam;1.11.375 from central in [default]\n",
      "\tcom.amazonaws#aws-java-sdk-importexport;1.11.375 from central in [default]\n",
      "\tcom.amazonaws#aws-java-sdk-inspector;1.11.375 from central in [default]\n",
      "\tcom.amazonaws#aws-java-sdk-iot;1.11.375 from central in [default]\n",
      "\tcom.amazonaws#aws-java-sdk-iot1clickdevices;1.11.375 from central in [default]\n",
      "\tcom.amazonaws#aws-java-sdk-iot1clickprojects;1.11.375 from central in [default]\n",
      "\tcom.amazonaws#aws-java-sdk-iotanalytics;1.11.375 from central in [default]\n",
      "\tcom.amazonaws#aws-java-sdk-iotjobsdataplane;1.11.375 from central in [default]\n",
      "\tcom.amazonaws#aws-java-sdk-kinesis;1.11.375 from central in [default]\n",
      "\tcom.amazonaws#aws-java-sdk-kinesisvideo;1.11.375 from central in [default]\n",
      "\tcom.amazonaws#aws-java-sdk-kms;1.11.375 from central in [default]\n",
      "\tcom.amazonaws#aws-java-sdk-lambda;1.11.375 from central in [default]\n",
      "\tcom.amazonaws#aws-java-sdk-lex;1.11.375 from central in [default]\n",
      "\tcom.amazonaws#aws-java-sdk-lexmodelbuilding;1.11.375 from central in [default]\n",
      "\tcom.amazonaws#aws-java-sdk-lightsail;1.11.375 from central in [default]\n",
      "\tcom.amazonaws#aws-java-sdk-logs;1.11.375 from central in [default]\n",
      "\tcom.amazonaws#aws-java-sdk-machinelearning;1.11.375 from central in [default]\n",
      "\tcom.amazonaws#aws-java-sdk-macie;1.11.375 from central in [default]\n",
      "\tcom.amazonaws#aws-java-sdk-marketplacecommerceanalytics;1.11.375 from central in [default]\n",
      "\tcom.amazonaws#aws-java-sdk-marketplaceentitlement;1.11.375 from central in [default]\n",
      "\tcom.amazonaws#aws-java-sdk-marketplacemeteringservice;1.11.375 from central in [default]\n",
      "\tcom.amazonaws#aws-java-sdk-mechanicalturkrequester;1.11.375 from central in [default]\n",
      "\tcom.amazonaws#aws-java-sdk-mediaconvert;1.11.375 from central in [default]\n",
      "\tcom.amazonaws#aws-java-sdk-medialive;1.11.375 from central in [default]\n",
      "\tcom.amazonaws#aws-java-sdk-mediapackage;1.11.375 from central in [default]\n",
      "\tcom.amazonaws#aws-java-sdk-mediastore;1.11.375 from central in [default]\n",
      "\tcom.amazonaws#aws-java-sdk-mediastoredata;1.11.375 from central in [default]\n",
      "\tcom.amazonaws#aws-java-sdk-mediatailor;1.11.375 from central in [default]\n",
      "\tcom.amazonaws#aws-java-sdk-migrationhub;1.11.375 from central in [default]\n",
      "\tcom.amazonaws#aws-java-sdk-mobile;1.11.375 from central in [default]\n",
      "\tcom.amazonaws#aws-java-sdk-models;1.11.375 from central in [default]\n",
      "\tcom.amazonaws#aws-java-sdk-mq;1.11.375 from central in [default]\n",
      "\tcom.amazonaws#aws-java-sdk-neptune;1.11.375 from central in [default]\n",
      "\tcom.amazonaws#aws-java-sdk-opsworks;1.11.375 from central in [default]\n",
      "\tcom.amazonaws#aws-java-sdk-opsworkscm;1.11.375 from central in [default]\n",
      "\tcom.amazonaws#aws-java-sdk-organizations;1.11.375 from central in [default]\n",
      "\tcom.amazonaws#aws-java-sdk-pi;1.11.375 from central in [default]\n",
      "\tcom.amazonaws#aws-java-sdk-pinpoint;1.11.375 from central in [default]\n",
      "\tcom.amazonaws#aws-java-sdk-polly;1.11.375 from central in [default]\n",
      "\tcom.amazonaws#aws-java-sdk-pricing;1.11.375 from central in [default]\n",
      "\tcom.amazonaws#aws-java-sdk-rds;1.11.375 from central in [default]\n",
      "\tcom.amazonaws#aws-java-sdk-redshift;1.11.375 from central in [default]\n",
      "\tcom.amazonaws#aws-java-sdk-rekognition;1.11.375 from central in [default]\n",
      "\tcom.amazonaws#aws-java-sdk-resourcegroups;1.11.375 from central in [default]\n",
      "\tcom.amazonaws#aws-java-sdk-resourcegroupstaggingapi;1.11.375 from central in [default]\n",
      "\tcom.amazonaws#aws-java-sdk-route53;1.11.375 from central in [default]\n",
      "\tcom.amazonaws#aws-java-sdk-s3;1.11.375 from central in [default]\n",
      "\tcom.amazonaws#aws-java-sdk-sagemaker;1.11.375 from central in [default]\n",
      "\tcom.amazonaws#aws-java-sdk-sagemakerruntime;1.11.375 from central in [default]\n",
      "\tcom.amazonaws#aws-java-sdk-secretsmanager;1.11.375 from central in [default]\n",
      "\tcom.amazonaws#aws-java-sdk-serverlessapplicationrepository;1.11.375 from central in [default]\n",
      "\tcom.amazonaws#aws-java-sdk-servermigration;1.11.375 from central in [default]\n",
      "\tcom.amazonaws#aws-java-sdk-servicecatalog;1.11.375 from central in [default]\n",
      "\tcom.amazonaws#aws-java-sdk-servicediscovery;1.11.375 from central in [default]\n",
      "\tcom.amazonaws#aws-java-sdk-ses;1.11.375 from central in [default]\n",
      "\tcom.amazonaws#aws-java-sdk-shield;1.11.375 from central in [default]\n",
      "\tcom.amazonaws#aws-java-sdk-simpledb;1.11.375 from central in [default]\n",
      "\tcom.amazonaws#aws-java-sdk-simpleworkflow;1.11.375 from central in [default]\n",
      "\tcom.amazonaws#aws-java-sdk-snowball;1.11.375 from central in [default]\n",
      "\tcom.amazonaws#aws-java-sdk-sns;1.11.375 from central in [default]\n",
      "\tcom.amazonaws#aws-java-sdk-sqs;1.11.375 from central in [default]\n",
      "\tcom.amazonaws#aws-java-sdk-ssm;1.11.375 from central in [default]\n",
      "\tcom.amazonaws#aws-java-sdk-stepfunctions;1.11.375 from central in [default]\n",
      "\tcom.amazonaws#aws-java-sdk-storagegateway;1.11.375 from central in [default]\n",
      "\tcom.amazonaws#aws-java-sdk-sts;1.11.375 from central in [default]\n",
      "\tcom.amazonaws#aws-java-sdk-support;1.11.375 from central in [default]\n",
      "\tcom.amazonaws#aws-java-sdk-swf-libraries;1.11.22 from central in [default]\n",
      "\tcom.amazonaws#aws-java-sdk-transcribe;1.11.375 from central in [default]\n",
      "\tcom.amazonaws#aws-java-sdk-translate;1.11.375 from central in [default]\n",
      "\tcom.amazonaws#aws-java-sdk-waf;1.11.375 from central in [default]\n",
      "\tcom.amazonaws#aws-java-sdk-workdocs;1.11.375 from central in [default]\n",
      "\tcom.amazonaws#aws-java-sdk-workmail;1.11.375 from central in [default]\n",
      "\tcom.amazonaws#aws-java-sdk-workspaces;1.11.375 from central in [default]\n",
      "\tcom.amazonaws#aws-java-sdk-xray;1.11.375 from central in [default]\n",
      "\tcom.amazonaws#jmespath-java;1.11.375 from central in [default]\n",
      "\tcom.fasterxml.jackson.core#jackson-annotations;2.6.0 from central in [default]\n",
      "\tcom.fasterxml.jackson.core#jackson-core;2.6.7 from central in [default]\n",
      "\tcom.fasterxml.jackson.core#jackson-databind;2.6.7.1 from central in [default]\n",
      "\tcom.fasterxml.jackson.dataformat#jackson-dataformat-cbor;2.6.7 from central in [default]\n",
      "\tcommons-codec#commons-codec;1.10 from central in [default]\n",
      "\tcommons-logging#commons-logging;1.1.3 from central in [default]\n",
      "\tio.netty#netty-buffer;4.1.17.Final from central in [default]\n",
      "\tio.netty#netty-codec;4.1.17.Final from central in [default]\n",
      "\tio.netty#netty-codec-http;4.1.17.Final from central in [default]\n",
      "\tio.netty#netty-common;4.1.17.Final from central in [default]\n",
      "\tio.netty#netty-handler;4.1.17.Final from central in [default]\n",
      "\tio.netty#netty-resolver;4.1.17.Final from central in [default]\n",
      "\tio.netty#netty-transport;4.1.17.Final from central in [default]\n",
      "\tjoda-time#joda-time;2.8.1 from central in [default]\n",
      "\torg.apache.httpcomponents#httpclient;4.5.5 from central in [default]\n",
      "\torg.apache.httpcomponents#httpcore;4.4.9 from central in [default]\n",
      "\tsoftware.amazon.ion#ion-java;1.0.2 from central in [default]\n",
      "\t:: evicted modules:\n",
      "\tcommons-logging#commons-logging;1.2 by [commons-logging#commons-logging;1.1.3] in [default]\n",
      "\tcom.amazonaws#aws-java-sdk-simpleworkflow;1.11.22 by [com.amazonaws#aws-java-sdk-simpleworkflow;1.11.375] in [default]\n",
      "\t---------------------------------------------------------------------\n",
      "\t|                  |            modules            ||   artifacts   |\n",
      "\t|       conf       | number| search|dwnlded|evicted|| number|dwnlded|\n",
      "\t---------------------------------------------------------------------\n",
      "\t|      default     |  160  |   0   |   0   |   2   ||  158  |   0   |\n",
      "\t---------------------------------------------------------------------\n",
      ":: retrieving :: org.apache.spark#spark-submit-parent-0a8eb2e6-bd8d-4cef-9c53-f786b6288c96\n",
      "\tconfs: [default]\n",
      "\t0 artifacts copied, 158 already retrieved (0kB/25ms)\n"
     ]
    },
    {
     "name": "stderr",
     "output_type": "stream",
     "text": [
      "22/07/13 15:01:33 WARN NativeCodeLoader: Unable to load native-hadoop library for your platform... using builtin-java classes where applicable\n",
      "Using Spark's default log4j profile: org/apache/spark/log4j-defaults.properties\n",
      "Setting default log level to \"WARN\".\n",
      "To adjust logging level use sc.setLogLevel(newLevel). For SparkR, use setLogLevel(newLevel).\n"
     ]
    }
   ],
   "source": [
    "spark = SparkSession.builder \\\n",
    "            .master(\"spark://10.67.22.4:7077\") \\\n",
    "            .appName(\"Project\") \\\n",
    "            .config('spark.jars.packages', 'org.apache.hadoop:hadoop-common:3.2.0')\\\n",
    "            .config('spark.jars.packages', 'org.apache.hadoop:hadoop-aws:3.2.0')\\\n",
    "            .config('spark.jars.packages', 'com.amazonaws:aws-java-sdk:1.11.375')\\\n",
    "            .config(\"spark.executor.cores\", 4)\\\n",
    "            .config(\"spark.executor.memory\", \"3g\")\\\n",
    "            .config(\"spark.sql.execution.arrow.pyspark.enabled\", \"true\")\\\n",
    "            .config(\"spark.sql.execution.arrow.pyspark.fallback.enabled\", \"false\")\\\n",
    "            .config('spark.hadoop.fs.s3a.aws.credentials.provider', 'org.apache.hadoop.fs.s3a.SimpleAWSCredentialsProvider')\\\n",
    "            .config('spark.hadoop.fs.s3a.access.key', '2186eedc366545058b0896dadf79d288')\\\n",
    "            .config('spark.hadoop.fs.s3a.secret.key', 'de147ce2e90741cdb9bae8f53ee5466e')\\\n",
    "            .config('spark.hadoop.fs.s3a.endpoint', 'https://cloud-areapd.pd.infn.it:5210')\\\n",
    "            .config(\"spark.hadoop.fs.s3a.impl\", \"org.apache.hadoop.fs.s3a.S3AFileSystem\") \\\n",
    "            .config(\"spark.hadoop.fs.s3a.metadatastore.impl\", \"org.apache.hadoop.fs.s3a.s3guard.NullMetadataStore\") \\\n",
    "            .config(\"spark.hadoop.fs.s3a.path.style.access\", \"true\") \\\n",
    "            .config(\"spark.hadoop.fs.s3a.connection.ssl.enabled\",\"false\") \\\n",
    "            .config(\"com.amazonaws.sdk.disableCertChecking\",\"true\") \\\n",
    "            .getOrCreate()"
   ]
  },
  {
   "cell_type": "code",
   "execution_count": 3,
   "id": "0a95186b",
   "metadata": {},
   "outputs": [
    {
     "data": {
      "text/html": [
       "\n",
       "            <div>\n",
       "                <p><b>SparkSession - in-memory</b></p>\n",
       "                \n",
       "        <div>\n",
       "            <p><b>SparkContext</b></p>\n",
       "\n",
       "            <p><a href=\"http://master:4040\">Spark UI</a></p>\n",
       "\n",
       "            <dl>\n",
       "              <dt>Version</dt>\n",
       "                <dd><code>v3.2.1</code></dd>\n",
       "              <dt>Master</dt>\n",
       "                <dd><code>spark://10.67.22.4:7077</code></dd>\n",
       "              <dt>AppName</dt>\n",
       "                <dd><code>Project</code></dd>\n",
       "            </dl>\n",
       "        </div>\n",
       "        \n",
       "            </div>\n",
       "        "
      ],
      "text/plain": [
       "<pyspark.sql.session.SparkSession at 0x7fae38fe8fd0>"
      ]
     },
     "execution_count": 3,
     "metadata": {},
     "output_type": "execute_result"
    }
   ],
   "source": [
    "spark"
   ]
  },
  {
   "cell_type": "code",
   "execution_count": 4,
   "id": "e4201404",
   "metadata": {},
   "outputs": [
    {
     "data": {
      "text/html": [
       "\n",
       "        <div>\n",
       "            <p><b>SparkContext</b></p>\n",
       "\n",
       "            <p><a href=\"http://master:4040\">Spark UI</a></p>\n",
       "\n",
       "            <dl>\n",
       "              <dt>Version</dt>\n",
       "                <dd><code>v3.2.1</code></dd>\n",
       "              <dt>Master</dt>\n",
       "                <dd><code>spark://10.67.22.4:7077</code></dd>\n",
       "              <dt>AppName</dt>\n",
       "                <dd><code>Project</code></dd>\n",
       "            </dl>\n",
       "        </div>\n",
       "        "
      ],
      "text/plain": [
       "<SparkContext master=spark://10.67.22.4:7077 appName=Project>"
      ]
     },
     "execution_count": 4,
     "metadata": {},
     "output_type": "execute_result"
    }
   ],
   "source": [
    "sc = spark.sparkContext\n",
    "sc"
   ]
  },
  {
   "cell_type": "markdown",
   "id": "c0047420",
   "metadata": {},
   "source": [
    "# Preprocessing data"
   ]
  },
  {
   "cell_type": "markdown",
   "id": "2dac5617",
   "metadata": {},
   "source": [
    "### Load data"
   ]
  },
  {
   "cell_type": "code",
   "execution_count": 5,
   "id": "59ec0265",
   "metadata": {},
   "outputs": [
    {
     "name": "stderr",
     "output_type": "stream",
     "text": [
      "22/07/13 15:01:37 WARN MetricsConfig: Cannot locate configuration: tried hadoop-metrics2-s3a-file-system.properties,hadoop-metrics2.properties\n",
      "                                                                                \r"
     ]
    }
   ],
   "source": [
    "raw = spark.read.format(\"binaryFile\").load('s3a://mapd-minidt-batch/data_*.dat')\n",
    "raw = raw.select(\"content\").rdd.flatMap(lambda el: el)"
   ]
  },
  {
   "cell_type": "markdown",
   "id": "bf6070fc",
   "metadata": {},
   "source": [
    "### Unpack data"
   ]
  },
  {
   "cell_type": "code",
   "execution_count": 6,
   "id": "7dd8e546",
   "metadata": {},
   "outputs": [],
   "source": [
    "def unpack(file_content):\n",
    "    ppd = []\n",
    "    word_counter=0\n",
    "    word_size = 8                                             # size of the word in bytes\n",
    "    for i in range(0, len(file_content), word_size):\n",
    "        word_counter+=1\n",
    "        thisInt = struct.unpack('<q', file_content[i:i+word_size])[0]\n",
    "        head = (thisInt >> 61) & 0x7\n",
    "        \n",
    "        if head == 2:\n",
    "            fpga = (thisInt >> 58) & 0x7\n",
    "            chan = (thisInt >> 49) & 0x1FF\n",
    "            orbit = (thisInt >> 17) & 0xFFFFFFFF\n",
    "            bx = (thisInt >> 5 ) & 0xFFF\n",
    "            tdc = (thisInt >> 0 ) & 0x1F\n",
    "            ppd.append([fpga, chan, orbit, bx, tdc])\n",
    "    return ppd"
   ]
  },
  {
   "cell_type": "code",
   "execution_count": 7,
   "id": "bd0ac389",
   "metadata": {},
   "outputs": [
    {
     "name": "stderr",
     "output_type": "stream",
     "text": [
      "                                                                                \r"
     ]
    }
   ],
   "source": [
    "# Unpacking data and converting into a DataFrame\n",
    "data = raw.flatMap(lambda file_content: unpack(file_content)).toDF(('FPGA','CHAN','ORBIT','BX','TDC'))"
   ]
  },
  {
   "cell_type": "markdown",
   "id": "fdc209af",
   "metadata": {},
   "source": [
    "### Detector mapping"
   ]
  },
  {
   "cell_type": "markdown",
   "id": "020fc70e",
   "metadata": {},
   "source": [
    "Mapping between the data-format and the chamber and cell geometry.\n",
    "\n",
    "- CHAMBER 0 $\\quad\\Rightarrow\\quad$  (FPGA = 0) &emsp; AND &emsp; (CHANNEL in [0-63]) \n",
    "- CHAMBER 1 $\\quad\\Rightarrow\\quad$  (FPGA = 0) &emsp; AND &emsp; (CHANNEL in [64-127])\n",
    "- CHAMBER 2 $\\quad\\Rightarrow\\quad$  (FPGA = 1) &emsp; AND &emsp; (CHANNEL in [0-63])\n",
    "- CHAMBER 3 $\\quad\\Rightarrow\\quad$  (FPGA = 1) &emsp; AND &emsp; (CHANNEL in [64-127])\n",
    "- CHAMBER 4 $\\quad\\Rightarrow\\quad$  (FPGA = 1) &emsp; AND &emsp; (CHANNEL = 128) $\\quad\\Rightarrow\\quad$ external scintillator signal"
   ]
  },
  {
   "cell_type": "code",
   "execution_count": 8,
   "id": "410826ab",
   "metadata": {},
   "outputs": [],
   "source": [
    "data = data.withColumn(\"CHAMBER\", when((data.FPGA==0) & (data.CHAN < 63), 0)\\\n",
    "                                    .when((data.FPGA==0) & (data.CHAN > 63) & (data.CHAN < 128), 1)\\\n",
    "                                    .when((data.FPGA==1) & (data.CHAN < 63), 2)\\\n",
    "                                    .when((data.FPGA==1) & (data.CHAN > 63) & (data.CHAN < 128), 3)\\\n",
    "                                    .when((data.FPGA==1) & (data.CHAN == 128), 4)).na.drop()"
   ]
  },
  {
   "cell_type": "markdown",
   "id": "86cdd910",
   "metadata": {},
   "source": [
    "### Time information"
   ]
  },
  {
   "cell_type": "markdown",
   "id": "b2df2500",
   "metadata": {},
   "source": [
    "An absolute time (in ns) for each hit is calculated as:\n",
    "\n",
    "$$\n",
    "t_{\\mathrm{TDC} \\text { hit }}=25 *(\\mathrm{ORBIT} * 3564+\\mathrm{BX}+\\mathrm{TDC} / 30)\n",
    "$$"
   ]
  },
  {
   "cell_type": "code",
   "execution_count": 9,
   "id": "61047de6",
   "metadata": {},
   "outputs": [],
   "source": [
    "data = data.withColumn('T_HIT_ns', (25 * (col('ORBIT') * 3564 + col('BX') + col('TDC')/30)))"
   ]
  },
  {
   "cell_type": "markdown",
   "id": "ccde282f",
   "metadata": {},
   "source": [
    "### Time corrections"
   ]
  },
  {
   "cell_type": "markdown",
   "id": "780f231b",
   "metadata": {},
   "source": [
    "Time corrections due to the delay induced by the signal transmission."
   ]
  },
  {
   "cell_type": "code",
   "execution_count": 10,
   "id": "70a2b7cc",
   "metadata": {},
   "outputs": [],
   "source": [
    "data = data.withColumn(\"T_HIT_ns\", when(data['CHAMBER']==0, data[\"T_HIT_ns\"]+93.9)\\\n",
    "                                        .when(data['CHAMBER']==1, data[\"T_HIT_ns\"]+101.4)\\\n",
    "                                        .when(data['CHAMBER']==2, data[\"T_HIT_ns\"]+95.5)\\\n",
    "                                        .when(data['CHAMBER']==3, data[\"T_HIT_ns\"]+92.4)\\\n",
    "                                        .when(data['CHAMBER']==4, data[\"T_HIT_ns\"]))"
   ]
  },
  {
   "cell_type": "markdown",
   "id": "19bc2c44",
   "metadata": {},
   "source": [
    "# Evaluating the probability distribution of the muon's arrival time"
   ]
  },
  {
   "cell_type": "code",
   "execution_count": 11,
   "id": "4db5cd45",
   "metadata": {
    "scrolled": true
   },
   "outputs": [
    {
     "name": "stderr",
     "output_type": "stream",
     "text": [
      "                                                                                \r"
     ]
    },
    {
     "data": {
      "text/plain": [
       "52946"
      ]
     },
     "execution_count": 11,
     "metadata": {},
     "output_type": "execute_result"
    }
   ],
   "source": [
    "# save data to run cells in appendix section\n",
    "data_appendix = data\n",
    "\n",
    "# select only t0 arrival times\n",
    "times_dist = data.filter(data.CHAMBER==4).select(col(\"T_HIT_ns\"))\n",
    "times_dist.count()"
   ]
  },
  {
   "cell_type": "markdown",
   "id": "5d811f43",
   "metadata": {},
   "source": [
    "Since the dataset containing all the muons' arrival times contains \"only\" about 53 thousands records, we can import it locally on the master node. Others consideration about this choice can be found in the Appendix section."
   ]
  },
  {
   "cell_type": "code",
   "execution_count": 12,
   "id": "7123be82",
   "metadata": {},
   "outputs": [
    {
     "name": "stderr",
     "output_type": "stream",
     "text": [
      "                                                                                \r"
     ]
    },
    {
     "data": {
      "text/html": [
       "<div>\n",
       "<style scoped>\n",
       "    .dataframe tbody tr th:only-of-type {\n",
       "        vertical-align: middle;\n",
       "    }\n",
       "\n",
       "    .dataframe tbody tr th {\n",
       "        vertical-align: top;\n",
       "    }\n",
       "\n",
       "    .dataframe thead th {\n",
       "        text-align: right;\n",
       "    }\n",
       "</style>\n",
       "<table border=\"1\" class=\"dataframe\">\n",
       "  <thead>\n",
       "    <tr style=\"text-align: right;\">\n",
       "      <th></th>\n",
       "      <th>T_HIT_ns</th>\n",
       "      <th>diff_time</th>\n",
       "    </tr>\n",
       "  </thead>\n",
       "  <tbody>\n",
       "    <tr>\n",
       "      <th>51642</th>\n",
       "      <td>1.000643e+11</td>\n",
       "      <td>3.660550e+08</td>\n",
       "    </tr>\n",
       "    <tr>\n",
       "      <th>51643</th>\n",
       "      <td>1.001737e+11</td>\n",
       "      <td>1.094043e+08</td>\n",
       "    </tr>\n",
       "    <tr>\n",
       "      <th>51644</th>\n",
       "      <td>1.004110e+11</td>\n",
       "      <td>2.372851e+08</td>\n",
       "    </tr>\n",
       "    <tr>\n",
       "      <th>51645</th>\n",
       "      <td>1.007348e+11</td>\n",
       "      <td>3.237768e+08</td>\n",
       "    </tr>\n",
       "    <tr>\n",
       "      <th>51646</th>\n",
       "      <td>1.011551e+11</td>\n",
       "      <td>4.203154e+08</td>\n",
       "    </tr>\n",
       "  </tbody>\n",
       "</table>\n",
       "</div>"
      ],
      "text/plain": [
       "           T_HIT_ns     diff_time\n",
       "51642  1.000643e+11  3.660550e+08\n",
       "51643  1.001737e+11  1.094043e+08\n",
       "51644  1.004110e+11  2.372851e+08\n",
       "51645  1.007348e+11  3.237768e+08\n",
       "51646  1.011551e+11  4.203154e+08"
      ]
     },
     "execution_count": 12,
     "metadata": {},
     "output_type": "execute_result"
    }
   ],
   "source": [
    "# using toPandas method to convert data to a Pandas DataFrame\n",
    "times_data = times_dist.toPandas()\n",
    "\n",
    "# sort dataframe\n",
    "times_data = times_data.sort_values('T_HIT_ns')\n",
    "\n",
    "# compute the time difference between the arrival time of two different muons\n",
    "times_data['diff_time'] = times_data.diff()\n",
    "\n",
    "# filter the dataframe in order to delete one NaN and one outlier value\n",
    "times_data = times_data[times_data.diff_time < 1e10]\n",
    "\n",
    "times_data.head()"
   ]
  },
  {
   "cell_type": "markdown",
   "id": "59eeb0ed",
   "metadata": {},
   "source": [
    "We know that the time between the arrival of two different muons follows an exponential distribution, here we fit the density distribution of t0 variable with an exponential function."
   ]
  },
  {
   "cell_type": "code",
   "execution_count": 13,
   "id": "77edf0aa",
   "metadata": {},
   "outputs": [],
   "source": [
    "# convert from ns to s\n",
    "times_data.diff_time = times_data.diff_time.apply(lambda t: 1e-9*t)"
   ]
  },
  {
   "cell_type": "code",
   "execution_count": 14,
   "id": "ae768832",
   "metadata": {},
   "outputs": [
    {
     "name": "stdout",
     "output_type": "stream",
     "text": [
      "Fit function :\n"
     ]
    },
    {
     "data": {
      "text/latex": [
       "$\\displaystyle f(t) = A e^{-\\lambda t}$"
      ],
      "text/plain": [
       "<IPython.core.display.Math object>"
      ]
     },
     "metadata": {},
     "output_type": "display_data"
    },
    {
     "data": {
      "text/latex": [
       "$\\displaystyle $"
      ],
      "text/plain": [
       "<IPython.core.display.Math object>"
      ]
     },
     "metadata": {},
     "output_type": "display_data"
    },
    {
     "name": "stdout",
     "output_type": "stream",
     "text": [
      "Fit parameters :\n"
     ]
    },
    {
     "data": {
      "text/latex": [
       "$\\displaystyle A = (25.0 \\pm 0.1) \\cdot 10^3 $"
      ],
      "text/plain": [
       "<IPython.core.display.Math object>"
      ]
     },
     "metadata": {},
     "output_type": "display_data"
    },
    {
     "data": {
      "text/latex": [
       "$\\displaystyle \\gamma = (1.546 \\pm 0.006 ) \\quad Hz$"
      ],
      "text/plain": [
       "<IPython.core.display.Math object>"
      ]
     },
     "metadata": {},
     "output_type": "display_data"
    },
    {
     "name": "stdout",
     "output_type": "stream",
     "text": [
      "Mean time between two muons :\n"
     ]
    },
    {
     "data": {
      "text/latex": [
       "$\\displaystyle \\Delta T = (0.647 \\pm 0.004 ) \\quad s$"
      ],
      "text/plain": [
       "<IPython.core.display.Math object>"
      ]
     },
     "metadata": {},
     "output_type": "display_data"
    },
    {
     "data": {
      "image/png": "[encoded data removed]",
      "text/plain": [
       "<Figure size 1008x504 with 1 Axes>"
      ]
     },
     "metadata": {
      "needs_background": "light"
     },
     "output_type": "display_data"
    }
   ],
   "source": [
    "# fit\n",
    "def exponential(x,A,gamma):\n",
    "    return A*np.exp(-gamma*x)\n",
    "\n",
    "hist_val, bin_edges = np.histogram(times_data.diff_time.dropna(), bins=25)\n",
    "middle_edges = [(bin_edges[i]+bin_edges[i+1])/2 for i in range(len(bin_edges)-1)]\n",
    "\n",
    "par, cov = curve_fit(exponential, middle_edges, hist_val, p0=(1000,1e-9))\n",
    "\n",
    "# print results\n",
    "print('Fit function :')\n",
    "display(Math(r'f(t) = A e^{-\\lambda t}'))\n",
    "display(Math(fr''))\n",
    "print('Fit parameters :')\n",
    "display(Math(fr'A = ({par[0]*1e-3:.1f} \\pm {np.sqrt(cov[0,0])*1e-3:.1f}) \\cdot 10^3 '))\n",
    "display(Math(fr'\\gamma = ({par[1]:.3f} \\pm {np.sqrt(cov[1,1]):.3f} ) \\quad Hz'))\n",
    "print('Mean time between two muons :')\n",
    "display(Math(fr'\\Delta T = ({1/(par[1]):.3f} \\pm {np.sqrt(cov[1,1])/(par[1]):.3f} ) \\quad s'))\n",
    "\n",
    "# plot results\n",
    "x_plot = np.linspace(0.13,15,500)\n",
    "y_plot = exponential(x_plot,*par)\n",
    "\n",
    "plt.figure(figsize=(14,7))\n",
    "plt.hist(times_data.diff_time, bins=25, color='darkslategray', label='Experimental data')\n",
    "plt.plot(x_plot, y_plot, 'brown', label='Fit function')\n",
    "plt.title(\"Muon's arrival time distribution\")\n",
    "plt.xlabel('Time  [s]')\n",
    "plt.ylabel('Counts')\n",
    "plt.xticks(ticks=bin_edges)\n",
    "plt.xlim(-0.1,5)\n",
    "plt.legend()\n",
    "plt.show()"
   ]
  },
  {
   "cell_type": "markdown",
   "id": "6b140583",
   "metadata": {},
   "source": [
    "### Filter by hits per orbit"
   ]
  },
  {
   "cell_type": "markdown",
   "id": "ead69fd1",
   "metadata": {},
   "source": [
    "Dropping the entire orbit if the number of hits exceeds 15"
   ]
  },
  {
   "cell_type": "code",
   "execution_count": 15,
   "id": "900316c1",
   "metadata": {},
   "outputs": [],
   "source": [
    "data.createOrReplaceTempView(\"data_table\")\n",
    "data = spark.sql(\"SELECT * \\\n",
    "                    FROM (SELECT * FROM data_table WHERE ORBIT IN (SELECT DISTINCT ORBIT FROM data_table WHERE CHAMBER==4)) \\\n",
    "                    WHERE ORBIT IN (SELECT DISTINCT ORBIT \\\n",
    "                                    FROM (SELECT ORBIT, COUNT(*) AS COUNT \\\n",
    "                                           FROM data_table \\\n",
    "                                           GROUP BY (ORBIT) \\\n",
    "                                           HAVING count < 15))\")\n",
    "spark.catalog.dropTempView(\"data_table\")"
   ]
  },
  {
   "cell_type": "markdown",
   "id": "ed336eb5",
   "metadata": {},
   "source": [
    "### Filter orbits with only one scintillator signal per orbit"
   ]
  },
  {
   "cell_type": "code",
   "execution_count": 16,
   "id": "a6f4a455",
   "metadata": {},
   "outputs": [],
   "source": [
    "data.createOrReplaceTempView(\"data_table\")\n",
    "data = spark.sql(\"SELECT * \\\n",
    "                  FROM data_table \\\n",
    "                  WHERE ORBIT IN (SELECT DISTINCT ORBIT \\\n",
    "                                  FROM (SELECT ORBIT, SUM(CASE WHEN CHAMBER = 4 THEN 1 ELSE 0 END) AS COUNT \\\n",
    "                                        FROM data_table \\\n",
    "                                        GROUP BY ORBIT \\\n",
    "                                        HAVING COUNT = 1))\")\n",
    "spark.catalog.dropTempView(\"data_table\")"
   ]
  },
  {
   "cell_type": "markdown",
   "id": "8d850879",
   "metadata": {},
   "source": [
    "### Add $x_{hit}$ feature"
   ]
  },
  {
   "cell_type": "code",
   "execution_count": 17,
   "id": "254e42a7",
   "metadata": {},
   "outputs": [],
   "source": [
    "data.createOrReplaceTempView(\"data_table\")\n",
    "\n",
    "# data2 contains only t0 information\n",
    "data2 = spark.sql(\"SELECT * \\\n",
    "                   FROM data_table \\\n",
    "                   WHERE CHAMBER = 4\")\n",
    "\n",
    "data2.createOrReplaceTempView(\"data_table2\")"
   ]
  },
  {
   "cell_type": "markdown",
   "id": "367e4d19",
   "metadata": {},
   "source": [
    "Calculate the position inside the cell:\n",
    "\n",
    "$$\n",
    "x_{\\text {hit }}=\\left(t_{\\text {hit }}-t_{0}\\right) v_{\\text {drift}} \\quad with \\quad v_{\\text {drift }}=53.8 \\frac{\\mu m}{n s} \n",
    "$$"
   ]
  },
  {
   "cell_type": "code",
   "execution_count": 18,
   "id": "0424ef34",
   "metadata": {},
   "outputs": [],
   "source": [
    "data = spark.sql(\"SELECT data_table.CHAMBER, data_table.CHAN, data_table.ORBIT, \\\n",
    "                  53.8*(data_table.T_HIT_ns - data_table2.T_HIT_ns) AS x_hit \\\n",
    "                  FROM data_table \\\n",
    "                  INNER JOIN data_table2 ON data_table.ORBIT = data_table2.ORBIT \\\n",
    "                  WHERE data_table.CHAMBER != 4\")"
   ]
  },
  {
   "cell_type": "code",
   "execution_count": 19,
   "id": "ddc4ef32",
   "metadata": {},
   "outputs": [],
   "source": [
    "spark.catalog.dropTempView(\"data_table\")\n",
    "spark.catalog.dropTempView(\"data_table2\")"
   ]
  },
  {
   "cell_type": "markdown",
   "id": "5f3b135c",
   "metadata": {},
   "source": [
    "### Compute left-right position for each hit in the laboratory reference frame"
   ]
  },
  {
   "cell_type": "code",
   "execution_count": 20,
   "id": "c2081f3d",
   "metadata": {},
   "outputs": [],
   "source": [
    "data.createOrReplaceTempView(\"data_table\")\n",
    "data = spark.sql(\"SELECT CHAMBER, CHAN, ORBIT, \\\n",
    "              CASE \\\n",
    "                  WHEN (((CHAMBER = 0) OR (CHAMBER = 2)) AND ((CHAN%4 = 0) OR (CHAN%4 = 1))) THEN 42000*(CHAN DIV 4) + 21000 - x_hit \\\n",
    "                  WHEN (((CHAMBER = 0) OR (CHAMBER = 2)) AND ((CHAN%4 = 2) OR (CHAN%4 = 3))) THEN 42000*(CHAN DIV 4) + 42000 - x_hit \\\n",
    "                  WHEN (((CHAMBER = 1) OR (CHAMBER = 3)) AND ((CHAN%4 = 0) OR (CHAN%4 = 1))) THEN 42000*((CHAN-64) DIV 4) + 21000 - x_hit \\\n",
    "                  WHEN (((CHAMBER = 1) OR (CHAMBER = 3)) AND ((CHAN%4 = 2) OR (CHAN%4 = 3))) THEN 42000*((CHAN-64) DIV 4) + 42000 - x_hit \\\n",
    "              END AS x_L, \\\n",
    "              CASE \\\n",
    "                  WHEN (((CHAMBER = 0) OR (CHAMBER = 2)) AND ((CHAN%4 = 0) OR (CHAN%4 = 1))) THEN 42000*(CHAN DIV 4) + 21000 + x_hit \\\n",
    "                  WHEN (((CHAMBER = 0) OR (CHAMBER = 2)) AND ((CHAN%4 = 2) OR (CHAN%4 = 3))) THEN 42000*(CHAN DIV 4) + 42000 + x_hit \\\n",
    "                  WHEN (((CHAMBER = 1) OR (CHAMBER = 3)) AND ((CHAN%4 = 0) OR (CHAN%4 = 1))) THEN 42000*((CHAN-64) DIV 4) + 21000 + x_hit \\\n",
    "                  WHEN (((CHAMBER = 1) OR (CHAMBER = 3)) AND ((CHAN%4 = 2) OR (CHAN%4 = 3))) THEN 42000*((CHAN-64) DIV 4) + 42000 + x_hit \\\n",
    "              END AS x_R \\\n",
    "          FROM data_table\")"
   ]
  },
  {
   "cell_type": "code",
   "execution_count": 21,
   "id": "461962b4",
   "metadata": {},
   "outputs": [],
   "source": [
    "spark.catalog.dropTempView(\"data_table\")\n",
    "data.createOrReplaceTempView(\"data_table\")\n",
    "\n",
    "data = spark.sql(\"SELECT CHAMBER, CHAN, ORBIT, x_L, x_R, \\\n",
    "                  CASE \\\n",
    "                      WHEN ((CHAMBER==0) AND (CHAN % 4 = 0)) THEN (219.8 + 19.5)* 1000 \\\n",
    "                      WHEN ((CHAMBER==0) AND (CHAN % 4 = 1)) THEN (219.8 - 6.5)* 1000 \\\n",
    "                      WHEN ((CHAMBER==0) AND (CHAN % 4 = 2)) THEN (219.8 + 6.5)* 1000 \\\n",
    "                      WHEN ((CHAMBER==0) AND (CHAN % 4 = 3)) THEN (219.8 - 19.5)* 1000 \\\n",
    "                      WHEN ((CHAMBER==1) AND (CHAN % 4 = 0)) THEN (977.3 + 19.5)* 1000 \\\n",
    "                      WHEN ((CHAMBER==1) AND (CHAN % 4 = 1)) THEN (977.3 - 6.5)* 1000 \\\n",
    "                      WHEN ((CHAMBER==1) AND (CHAN % 4 = 2)) THEN (977.3 + 6.5)* 1000 \\\n",
    "                      WHEN ((CHAMBER==1) AND (CHAN % 4 = 3)) THEN (977.3 - 19.5)* 1000 \\\n",
    "                      WHEN ((CHAMBER==2) AND (CHAN % 4 = 0)) THEN (1035.6 + 19.5)* 1000 \\\n",
    "                      WHEN ((CHAMBER==2) AND (CHAN % 4 = 1)) THEN (1035.6 - 6.5)* 1000 \\\n",
    "                      WHEN ((CHAMBER==2) AND (CHAN % 4 = 2)) THEN (1035.6 + 6.5)* 1000 \\\n",
    "                      WHEN ((CHAMBER==2) AND (CHAN % 4 = 3)) THEN (1035.6 - 19.5)* 1000 \\\n",
    "                      WHEN ((CHAMBER==3) AND (CHAN % 4 = 0)) THEN (1819.8 + 19.5)* 1000 \\\n",
    "                      WHEN ((CHAMBER==3) AND (CHAN % 4 = 1)) THEN (1819.8 - 6.5)* 1000 \\\n",
    "                      WHEN ((CHAMBER==3) AND (CHAN % 4 = 2)) THEN (1819.8 + 6.5)* 1000 \\\n",
    "                      WHEN ((CHAMBER==3) AND (CHAN % 4 = 3)) THEN (1819.8 - 19.5)* 1000 \\\n",
    "                  END AS z \\\n",
    "              FROM data_table\")"
   ]
  },
  {
   "cell_type": "markdown",
   "id": "48b152e6",
   "metadata": {},
   "source": [
    "# Track reconstruction"
   ]
  },
  {
   "cell_type": "markdown",
   "id": "703f8469",
   "metadata": {},
   "source": [
    "### Local track"
   ]
  },
  {
   "cell_type": "code",
   "execution_count": 22,
   "id": "1f086fb1",
   "metadata": {},
   "outputs": [],
   "source": [
    "def best_fit(x):\n",
    "    comb_RL = list(itertools.product(*[[a,b] for a,b in zip(x[0],x[1])]))  # computing all left-right combinations\n",
    "\n",
    "    comb_fit = []\n",
    "    for i in range(len(comb_RL)):                                          # performing the fit over the combinations\n",
    "        p, res, _,_,_ = np.polyfit(comb_RL[i], x[2], 1, full=True)\n",
    "        comb_fit.append([list(res)+list(p), list(comb_RL[i])])    \n",
    "    \n",
    "    idxmin = np.argmin(np.array([el[0][0] for el in comb_fit]))            # save the best fit using residuals\n",
    "    return [comb_fit[idxmin][0][1:], comb_fit[idxmin][1], x[2]]"
   ]
  },
  {
   "cell_type": "markdown",
   "id": "f64e9c87",
   "metadata": {},
   "source": [
    "After reshaping the data to a Spark paired RDD, we decided to use a combineByKey instead a reduceByKey to efficiently redefine the schema again. In this way we properly prepare each record in order to perform the calculation of all possible combinations of hits, and therefore all the local linear regressions for fixed chamber and orbit.\n",
    "\n",
    "The filter is used to eliminate orbits with less than two hits in order to be able to perform a meaningful linear fit. In fact when we have only two points we are not able to figure out which linear regression line is best (both will be perfect), and therefore resolve the left and right ambiguity."
   ]
  },
  {
   "cell_type": "code",
   "execution_count": 23,
   "id": "84320985",
   "metadata": {
    "scrolled": true
   },
   "outputs": [
    {
     "name": "stderr",
     "output_type": "stream",
     "text": [
      "                                                                                \r"
     ]
    }
   ],
   "source": [
    "rdd = data.rdd.map(lambda x: ((x[0], x[2]), [x[3], x[4], float(x[5])])) \\\n",
    "              .combineByKey((lambda x: [[x[0]], [x[1]], [x[2]]]), \\\n",
    "                         (lambda x,y: [x[0]+[y[0]], x[1]+[y[1]], x[2]+[y[2]]]), \\\n",
    "                         (lambda x,y: [x[0]+y[0], x[1]+y[1], x[2]+y[2]])) \\\n",
    "              .filter(lambda x: len(x[1][0]) > 2) \\\n",
    "              .mapValues(lambda x: best_fit(x))"
   ]
  },
  {
   "cell_type": "markdown",
   "id": "b56cb9a5",
   "metadata": {},
   "source": [
    "The RDD created is structured as a list of items (key, value), where: \n",
    "- key = (CHAMBER, ORBIT)\n",
    "- value = [[angular coefficient, intercept], [combination of x], [z corresponding to the x combination]] "
   ]
  },
  {
   "cell_type": "code",
   "execution_count": 24,
   "id": "82d118f8",
   "metadata": {
    "scrolled": true
   },
   "outputs": [
    {
     "name": "stderr",
     "output_type": "stream",
     "text": [
      "                                                                                \r"
     ]
    },
    {
     "data": {
      "text/plain": [
       "[((1, 40159482),\n",
       "  [[3.7727509886870667, -1008088.1172158099],\n",
       "   [524028.02734375, 531934.841015625, 521829.341015625, 527184.3694335937],\n",
       "   [970800.0, 996800.0, 957800.0, 983800.0]])]"
      ]
     },
     "execution_count": 24,
     "metadata": {},
     "output_type": "execute_result"
    }
   ],
   "source": [
    "rdd.take(1)"
   ]
  },
  {
   "cell_type": "markdown",
   "id": "e8980696",
   "metadata": {},
   "source": [
    "### Global track"
   ]
  },
  {
   "cell_type": "markdown",
   "id": "2741045d",
   "metadata": {},
   "source": [
    "Using the results from the local-track reconstruction we can eliminate the left and right ambiguity by taking only the combination of hits corrisponding to the best fit for each orbit and chamber. \n",
    "So then using this set of data the global-track reconstruction is performed using a least-squares fit only of chambers zero, two and three (the ones measuring the same view), all the records about the chamber one are initially dropped.\n",
    "\n",
    "Each record contained in the resulting paired RDD, that is rdd_global, is structured as following:\n",
    "- a key containing the orbit information: (ORBIT)\n",
    "- a nested list value made of the regression coefficients [angular coefficient, intercept] and all the x and z hit combinations from all the chamber at fixed orbit: [[angular coefficient, intercept], [all x combinations],[all z corresponding to the x combinations]]"
   ]
  },
  {
   "cell_type": "code",
   "execution_count": 25,
   "id": "9774cc78",
   "metadata": {},
   "outputs": [],
   "source": [
    "# function to reshape data format\n",
    "def recast(x):\n",
    "    X, Z = [], []\n",
    "    for i in x:\n",
    "        X+=i[0]\n",
    "        Z+=i[1]\n",
    "    return [X,Z]"
   ]
  },
  {
   "cell_type": "code",
   "execution_count": 26,
   "id": "6096151d",
   "metadata": {},
   "outputs": [],
   "source": [
    "rdd_global = data.rdd \\\n",
    "                 .filter(lambda x: x[0]!=1) \\\n",
    "                 .map(lambda x: ((x[0], x[2]), [x[3], x[4], float(x[5])])) \\\n",
    "                 .combineByKey((lambda x: [[x[0]], [x[1]], [x[2]]]), \\\n",
    "                               (lambda x,y: [x[0]+[y[0]], x[1]+[y[1]], x[2]+[y[2]]]), \\\n",
    "                               (lambda x,y: [x[0]+y[0], x[1]+y[1], x[2]+y[2]])) \\\n",
    "                 .mapValues(lambda x: best_fit(x)) \\\n",
    "                 .map(lambda x: (x[0][1], [x[1][1], x[1][2]])) \\\n",
    "                 .reduceByKey(lambda x, y: recast([x,y])) \\\n",
    "                 .filter(lambda x: len(x[1][0]) > 2) \\\n",
    "                 .mapValues(lambda x: [list(np.polyfit(x[0], x[1], 1)), x[0], x[1]])"
   ]
  },
  {
   "cell_type": "markdown",
   "id": "bd2fba4b",
   "metadata": {},
   "source": [
    "# PLOT"
   ]
  },
  {
   "cell_type": "markdown",
   "id": "7ee3fa83",
   "metadata": {},
   "source": [
    "### Local track"
   ]
  },
  {
   "cell_type": "code",
   "execution_count": 27,
   "id": "d7aa14a4",
   "metadata": {},
   "outputs": [],
   "source": [
    "# custom plot function\n",
    "def plot_local(x, m, b):\n",
    "    plt.figure(figsize=(15, 10))\n",
    "    plt.scatter(x[0], x[2])                 \n",
    "    plt.scatter(x[1], x[2]) \n",
    "    \n",
    "    Xmin = int(min(x[0]+x[1]))\n",
    "    Xmax = int(max(x[0]+x[1]))\n",
    "    X = np.arange(Xmin, Xmax)\n",
    "    plt.plot(X, m*X+b, '-')\n",
    "    plt.title('Local linear regression')\n",
    "    plt.xlabel('X  [µm]')\n",
    "    plt.ylabel('Z  [µm]')\n",
    "    plt.grid()\n",
    "    plt.show()"
   ]
  },
  {
   "cell_type": "code",
   "execution_count": 28,
   "id": "29bcbd4f",
   "metadata": {
    "scrolled": true
   },
   "outputs": [
    {
     "name": "stderr",
     "output_type": "stream",
     "text": [
      "                                                                                \r"
     ]
    }
   ],
   "source": [
    "Orb = 5315874\n",
    "Ch = 2\n",
    "\n",
    "# this rdd contains the hits position for a specific Orbit and Chamber\n",
    "x_local = data.rdd \\\n",
    "          .filter(lambda x: (x[0]==Ch)&(x[2]==Orb)) \\\n",
    "          .map(lambda x: ((x[0], x[2]), [x[3], x[4], float(x[5])])) \\\n",
    "          .combineByKey((lambda x: [[x[0]], [x[1]], [x[2]]]), \\\n",
    "                     (lambda x,y: [x[0]+[y[0]], x[1]+[y[1]], x[2]+[y[2]]]), \\\n",
    "                     (lambda x,y: [x[0]+y[0], x[1]+y[1], x[2]+y[2]])) \\\n",
    "          .collect()[0][1]"
   ]
  },
  {
   "cell_type": "code",
   "execution_count": 29,
   "id": "1b9adc1d",
   "metadata": {
    "scrolled": true
   },
   "outputs": [
    {
     "name": "stderr",
     "output_type": "stream",
     "text": [
      "                                                                                \r"
     ]
    }
   ],
   "source": [
    "# this rdd contains the parameters of the fit obtained for a specific Orbit and Chamber\n",
    "coeff_local = data.rdd \\\n",
    "            .filter(lambda x: (x[0]==Ch)&(x[2]==Orb)) \\\n",
    "            .map(lambda x: ((x[0], x[2]), [x[3], x[4], float(x[5])])) \\\n",
    "            .combineByKey((lambda x: [[x[0]], [x[1]], [x[2]]]), \\\n",
    "                     (lambda x,y: [x[0]+[y[0]], x[1]+[y[1]], x[2]+[y[2]]]), \\\n",
    "                     (lambda x,y: [x[0]+y[0], x[1]+y[1], x[2]+y[2]])) \\\n",
    "            .mapValues(lambda x: best_fit(x)) \\\n",
    "            .collect()[0][1][0]"
   ]
  },
  {
   "cell_type": "code",
   "execution_count": 30,
   "id": "0d80931f",
   "metadata": {
    "scrolled": false
   },
   "outputs": [
    {
     "data": {
      "image/png": "[encoded data removed]",
      "text/plain": [
       "<Figure size 1080x720 with 1 Axes>"
      ]
     },
     "metadata": {
      "needs_background": "light"
     },
     "output_type": "display_data"
    }
   ],
   "source": [
    "plot_local(x_local, coeff_local[0], coeff_local[1])"
   ]
  },
  {
   "cell_type": "markdown",
   "id": "39d56bac",
   "metadata": {},
   "source": [
    "### Global track"
   ]
  },
  {
   "cell_type": "code",
   "execution_count": 31,
   "id": "4cd88c9b",
   "metadata": {},
   "outputs": [],
   "source": [
    "def plot_global(x, m, b):\n",
    "    plt.figure(figsize=(15, 10))\n",
    "    plt.scatter(x[0], x[1])                 \n",
    "    \n",
    "    Xmin = int(min(x[0]))\n",
    "    Xmax = int(max(x[0]))\n",
    "    X = range(Xmin, Xmax)\n",
    "    plt.plot(X, m*X+b, '-')\n",
    "    plt.title('Global linear regression')\n",
    "    plt.xlabel('X  [µm]')\n",
    "    plt.ylabel('Z  [µm]')\n",
    "    plt.axhline(245800, linestyle='--', label='Chamber borders')\n",
    "    plt.axhline(193800, linestyle='--')\n",
    "    #plt.axhline(1003.3, linestyle='--')\n",
    "    #plt.axhline(951.3, linestyle='--')\n",
    "    plt.axhline(1061600, linestyle='--')\n",
    "    plt.axhline(1009600, linestyle='--')\n",
    "    plt.axhline(1845600, linestyle='--')\n",
    "    plt.axhline(1793600, linestyle='--')\n",
    "    plt.legend(prop={'size': 12})\n",
    "    plt.grid()\n",
    "    plt.show()"
   ]
  },
  {
   "cell_type": "code",
   "execution_count": 32,
   "id": "951ffe90",
   "metadata": {
    "scrolled": true
   },
   "outputs": [
    {
     "name": "stderr",
     "output_type": "stream",
     "text": [
      "                                                                                \r"
     ]
    }
   ],
   "source": [
    "# this rdd is structures as :  [ [fit coefficients], [x], [z] ] for a specific Orbit and Chamber\n",
    "global_plot_data = data.rdd \\\n",
    "        .filter(lambda x: ((x[2]==Orb)&(x[0]!=1))) \\\n",
    "        .map(lambda x: ((x[0], x[2]), [x[3], x[4], float(x[5])])) \\\n",
    "        .combineByKey((lambda x: [[x[0]], [x[1]], [x[2]]]), \\\n",
    "                     (lambda x,y: [x[0]+[y[0]], x[1]+[y[1]], x[2]+[y[2]]]), \\\n",
    "                     (lambda x,y: [x[0]+y[0], x[1]+y[1], x[2]+y[2]])) \\\n",
    "        .mapValues(lambda x: best_fit(x)) \\\n",
    "        .map(lambda x: (x[0][1], [x[1][1], x[1][2]])) \\\n",
    "        .reduceByKey(lambda x, y: recast([x,y])) \\\n",
    "        .mapValues(lambda x: [list(np.polyfit(x[0], x[1], 1)), x[0], x[1]]) \\\n",
    "        .collect()[0][1]\n",
    "\n",
    "x_global = [global_plot_data[1], global_plot_data[2]]\n",
    "coeff_global = [global_plot_data[0][0], global_plot_data[0][1]]"
   ]
  },
  {
   "cell_type": "code",
   "execution_count": 33,
   "id": "5e394fd8",
   "metadata": {
    "scrolled": false
   },
   "outputs": [
    {
     "data": {
      "image/png": "[encoded data removed]",
      "text/plain": [
       "<Figure size 1080x720 with 1 Axes>"
      ]
     },
     "metadata": {
      "needs_background": "light"
     },
     "output_type": "display_data"
    }
   ],
   "source": [
    "plot_global(x_global, coeff_global[0], coeff_global[1])"
   ]
  },
  {
   "cell_type": "markdown",
   "id": "d2c9a2e8",
   "metadata": {},
   "source": [
    "# Angular resolution"
   ]
  },
  {
   "cell_type": "markdown",
   "id": "12b95669",
   "metadata": {},
   "source": [
    "For the estimation of the detector angular resolution the angle between the global track and the local track\n",
    "measured from Chamber 2 is calculated."
   ]
  },
  {
   "cell_type": "code",
   "execution_count": 34,
   "id": "64fb3188",
   "metadata": {},
   "outputs": [],
   "source": [
    "schema_global = StructType(\n",
    "    [\n",
    "        StructField('ORBIT', IntegerType(), False),\n",
    "        StructField('m_g', DoubleType(), True),\n",
    "    ]\n",
    ")\n",
    "data_global = rdd_global.map(lambda x: [x[0]]+[float(x[1][0][0])]).toDF(schema_global)\n",
    "\n",
    "schema_local = StructType(\n",
    "    [\n",
    "        StructField('CHAMBER', IntegerType(), True),\n",
    "        StructField('ORBIT', IntegerType(), False),\n",
    "        StructField('m_l', DoubleType(), True),\n",
    "    ]\n",
    ")\n",
    "data_local = rdd.map(lambda x: [x[0][0],x[0][1]]+[float(x[1][0][0])]).toDF(schema_local)"
   ]
  },
  {
   "cell_type": "code",
   "execution_count": 35,
   "id": "75f2e35f",
   "metadata": {
    "scrolled": true
   },
   "outputs": [
    {
     "name": "stderr",
     "output_type": "stream",
     "text": [
      "[Stage 45:=============================================>          (54 + 8) / 67]\r"
     ]
    },
    {
     "name": "stdout",
     "output_type": "stream",
     "text": [
      "+---------+-------+--------------------+--------------------+--------------------+\n",
      "|    ORBIT|CHAMBER|                 m_l|                 m_g|               theta|\n",
      "+---------+-------+--------------------+--------------------+--------------------+\n",
      "|277147041|      2|   2.389896046996535|  2.4079759928655693|0.002676595865648...|\n",
      "| 59639782|      2| -11.145448292833795|  -11.53043661780416|-0.00297260124547...|\n",
      "|306185377|      2|  3.3141165768822147|  3.1755905064653254|-0.01201979069765...|\n",
      "| 84911847|      2| -0.5195868129567242|   5.751334896079253| -1.2637539652393888|\n",
      "|367839514|      2|   4.489467777419491|  3.5477692818473052|-0.05557368246776899|\n",
      "|300103653|      2|0.005060852206941...|-0.03080280016708...|-0.03585387268312...|\n",
      "|356488776|      2| -0.5804321434688327| -0.5804321434688327|                 0.0|\n",
      "|166104390|      2|  3.1109873307407567|   5.029124187730483|  0.1147282339122782|\n",
      "|162988622|      2|  -0.790215041241543|  11.633277705092125| -0.9877998713468277|\n",
      "|378893777|      2| -3.5649143913121994| -0.6313492927320209|   0.734161163044945|\n",
      "|218116557|      2| -0.5484624776606571| -0.5484624776606571|                 0.0|\n",
      "|170039166|      2| -0.7372683929310836|   4.252717521874666| -1.1664415592478186|\n",
      "|252297545|      2|   9.199578645151513|   9.324604295441187|0.001440678291641916|\n",
      "|323410608|      2|   6.717615118667205|  12.789547955167489| 0.06974705760427355|\n",
      "| 32216213|      2|   8.281482707990094|   9.547306850851115|0.015808470033919362|\n",
      "| 12517677|      2|  1.6455945401858996|  1.6455945401858996|                 0.0|\n",
      "|333673132|      2| -1.0026803005375917|   6.056132449027659| -0.9477050777208281|\n",
      "|139470684|      2|   1.546454620372641|  5.9392829940322915| 0.40720382667094274|\n",
      "| 46188862|      2|  0.9160441496561779|  12.663862641716145|  0.7503861039268577|\n",
      "|276833883|      2|  1.9564573444782118|  1.9564573444782118|                 0.0|\n",
      "+---------+-------+--------------------+--------------------+--------------------+\n",
      "only showing top 20 rows\n",
      "\n"
     ]
    },
    {
     "name": "stderr",
     "output_type": "stream",
     "text": [
      "\r",
      "                                                                                \r"
     ]
    }
   ],
   "source": [
    "ang_res = data_local[data_local['CHAMBER']==2]  \\\n",
    "                    .join(data_global, \"ORBIT\") \\\n",
    "                    .withColumn(\"theta\", atan((col('m_g') - col('m_l'))/(1 + col('m_g')*col('m_l'))))\n",
    "ang_res.show()"
   ]
  },
  {
   "cell_type": "code",
   "execution_count": 36,
   "id": "5551434b",
   "metadata": {},
   "outputs": [
    {
     "name": "stderr",
     "output_type": "stream",
     "text": [
      "                                                                                \r"
     ]
    }
   ],
   "source": [
    "theta = ang_res.select('theta').rdd.flatMap(lambda x: x).collect()  "
   ]
  },
  {
   "cell_type": "code",
   "execution_count": 37,
   "id": "fa1c7885",
   "metadata": {},
   "outputs": [
    {
     "data": {
      "image/png": "[encoded data removed]",
      "text/plain": [
       "<Figure size 720x576 with 1 Axes>"
      ]
     },
     "metadata": {
      "needs_background": "light"
     },
     "output_type": "display_data"
    }
   ],
   "source": [
    "plt.figure(figsize=(10, 8))\n",
    "plt.hist(theta, bins=100, edgecolor='k') \n",
    "plt.grid(axis = 'y', linestyle = '--', linewidth = 1.5, alpha = 0.5)\n",
    "plt.title('Distribution of the Reciprocal Angles between the Global and Local Fit of Chamber 2', fontsize = 14)\n",
    "plt.xlabel('$\\\\theta$ [rad]', fontsize = 12)\n",
    "plt.ylabel('Counts', fontsize = 12)\n",
    "plt.show()"
   ]
  },
  {
   "cell_type": "markdown",
   "id": "802f544b",
   "metadata": {},
   "source": [
    "# Comparing the local and global track reconstruction"
   ]
  },
  {
   "cell_type": "code",
   "execution_count": 38,
   "id": "285655a8",
   "metadata": {},
   "outputs": [
    {
     "data": {
      "image/png": "[encoded data removed]",
      "text/plain": [
       "<Figure size 1080x720 with 1 Axes>"
      ]
     },
     "metadata": {
      "needs_background": "light"
     },
     "output_type": "display_data"
    }
   ],
   "source": [
    "def total_plot(Glob, m_loc, b_loc, m_glob, b_glob):\n",
    "    plt.figure(figsize=(15, 10))\n",
    "    plt.scatter(Glob[0], Glob[1])                 \n",
    "    \n",
    "    Gmin = int(min(Glob[0]))\n",
    "    Gmax = int(max(Glob[0]))\n",
    "    X = np.arange(Gmin, Gmax)\n",
    "    plt.plot(X, m_loc*X+b_loc, '-', label='Regression Chamber 2')\n",
    "    plt.plot(X, m_glob*X+b_glob, '-', label='Global Regression')\n",
    "    plt.legend(prop={'size': 12})\n",
    "    plt.title('Compare local and global fit')\n",
    "    plt.xlabel('X  [µm]')\n",
    "    plt.ylabel('Z  [µm]')\n",
    "    plt.grid()\n",
    "    plt.show()\n",
    "    \n",
    "total_plot(x_global, coeff_local[0], coeff_local[1], coeff_global[0], coeff_global[1])"
   ]
  },
  {
   "cell_type": "markdown",
   "id": "ccc41c8b",
   "metadata": {},
   "source": [
    "# Appendix"
   ]
  },
  {
   "cell_type": "markdown",
   "id": "0416763f",
   "metadata": {},
   "source": [
    "### Computing the distribution of the muons' arrival time in parallel"
   ]
  },
  {
   "cell_type": "markdown",
   "id": "40a48779",
   "metadata": {},
   "source": [
    "In the next cell it is reported the code which aim to obtain the results found in Chapter ."
   ]
  },
  {
   "cell_type": "code",
   "execution_count": 39,
   "id": "7543a55c",
   "metadata": {
    "scrolled": true
   },
   "outputs": [
    {
     "name": "stderr",
     "output_type": "stream",
     "text": [
      "[Stage 74:===================================================>    (11 + 1) / 12]\r"
     ]
    },
    {
     "name": "stdout",
     "output_type": "stream",
     "text": [
      "Fit parameters :\n"
     ]
    },
    {
     "name": "stderr",
     "output_type": "stream",
     "text": [
      "\r",
      "                                                                                \r"
     ]
    },
    {
     "data": {
      "text/latex": [
       "$\\displaystyle A = (22.8 \\pm 0.1) \\cdot 10^3 $"
      ],
      "text/plain": [
       "<IPython.core.display.Math object>"
      ]
     },
     "metadata": {},
     "output_type": "display_data"
    },
    {
     "data": {
      "text/latex": [
       "$\\displaystyle \\gamma = (0.0503 \\pm 0.0002 ) \\quad Hz$"
      ],
      "text/plain": [
       "<IPython.core.display.Math object>"
      ]
     },
     "metadata": {},
     "output_type": "display_data"
    },
    {
     "name": "stdout",
     "output_type": "stream",
     "text": [
      "Mean time between two muons :\n"
     ]
    },
    {
     "data": {
      "text/latex": [
       "$\\displaystyle \\Delta T = (19.869 \\pm 0.004 ) \\quad s$"
      ],
      "text/plain": [
       "<IPython.core.display.Math object>"
      ]
     },
     "metadata": {},
     "output_type": "display_data"
    },
    {
     "data": {
      "image/png": "[encoded data removed]",
      "text/plain": [
       "<Figure size 1008x504 with 1 Axes>"
      ]
     },
     "metadata": {
      "needs_background": "light"
     },
     "output_type": "display_data"
    }
   ],
   "source": [
    "# manipulate the dataframe\n",
    "b = data_appendix\n",
    "b = b.filter(b.CHAMBER==4).select(col(\"T_HIT_ns\"), col('TDC'))\n",
    "w = Window.partitionBy('TDC').orderBy('T_HIT_ns')\n",
    "# create a column with shifted data\n",
    "c = b.withColumn('lead', f.lag('T_HIT_ns', 1).over(w)) \\\n",
    "     .withColumn('t0_diff', f.when(f.col('lead').isNotNull(), f.col('T_HIT_ns') - f.col('lead')).otherwise(f.lit(None))) \\\n",
    "     .withColumn('t0_diff', col('t0_diff')*1e-9)              # compute the between-muons' time and convert in seconds\n",
    "d = c.select(\"t0_diff\").toPandas()                            # move datat to a Pandas dataframe\n",
    "\n",
    "# executing the fit\n",
    "hist_val, bin_edges = np.histogram(d.t0_diff.dropna(), bins=25)#, density=True)\n",
    "middle_edges = [(bin_edges[i]+bin_edges[i+1])/2 for i in range(len(bin_edges)-1)]\n",
    "def exponential(x,A,gamma):\n",
    "    return A*np.exp(-gamma*x)\n",
    "par, cov = curve_fit(exponential, middle_edges, hist_val, p0=(25000,1.5e-9), method='lm')\n",
    "\n",
    "# print results\n",
    "print('Fit parameters :')\n",
    "display(Math(fr'A = ({par[0]*1e-3:.1f} \\pm {np.sqrt(cov[0,0])*1e-3:.1f}) \\cdot 10^3 '))\n",
    "display(Math(fr'\\gamma = ({par[1]:.4f} \\pm {np.sqrt(cov[1,1]):.4f} ) \\quad Hz'))\n",
    "print('Mean time between two muons :')\n",
    "display(Math(fr'\\Delta T = ({1/(par[1]):.3f} \\pm {np.sqrt(cov[1,1])/(par[1]):.3f} ) \\quad s'))\n",
    "\n",
    "# plot results\n",
    "plt.figure(figsize=(14,7))\n",
    "x_plot = np.linspace(3,200,500)\n",
    "y_plot = exponential(x_plot,*par)\n",
    "plt.hist(d.t0_diff, bins=25, color='darkslategray', label='Experimental data')\n",
    "plt.plot(x_plot, y_plot, 'brown', label='Fit function')\n",
    "plt.title(\"Muon's arrival time distribution exploiting parallel computing\")\n",
    "plt.xlabel('Time  [s]')\n",
    "plt.ylabel('Counts')\n",
    "plt.xticks(ticks=bin_edges)\n",
    "plt.xlim(-1,160)\n",
    "plt.legend()\n",
    "plt.show()"
   ]
  },
  {
   "cell_type": "markdown",
   "id": "08d3ff6d",
   "metadata": {},
   "source": [
    "We can note that the histogram and the $\\gamma$ parameter obtained are sensibly different from the ones obtained executing the computation only on the master resources. This is caused by the line \"w = Window.partitionBy('TDC').orderBy('T_HIT_ns')\", where we impose a data partiton based on the TDC channel. Consequently, when sorting arrival times and computing the difference between them, the difference are not computed between consequent muons (because their information stands in different partitions) and this results in greater between-muons arrival time, which causes the histogram to be scaled in the x-axis.\n",
    "\n",
    "Note that executing the partition on a different column, like FPGA, CHAN or CHAMBER will results in allocate all data informations on a single partition. Providing no column to the partitionBy() function also causes Spark to save every record in a single virtual machine, thus losing all the advantages of exploiting a computing cluster."
   ]
  },
  {
   "cell_type": "markdown",
   "id": "4f0e2487",
   "metadata": {},
   "source": [
    "# STOP"
   ]
  },
  {
   "cell_type": "code",
   "execution_count": 41,
   "id": "2e4a1e4f",
   "metadata": {},
   "outputs": [],
   "source": [
    "sc.stop()\n",
    "spark.stop()"
   ]
  },
  {
   "cell_type": "markdown",
   "id": "ba9897f0",
   "metadata": {},
   "source": [
    "# Comment on the usage of persist"
   ]
  },
  {
   "cell_type": "markdown",
   "id": "0f7c697f",
   "metadata": {},
   "source": [
    "We try to use a persist in different points of the code in order to speed up the execution. In perticular, we place it:\n",
    "- after the unpacking of data\n",
    "- after time corrections\n",
    "- before track reconstruction\n",
    "\n",
    "We note that in the first two cases the job fails. This could be due to the fact that at the beginning\n",
    "data size is very large, while in the third circumstance, and so after the initial processing, it is smaller. We try setting different pyspark.StorageLevel configurations: memory only, disk only, memory and disk all leading to the same result. \n",
    "In the third case, the job is completed succesfully even though some executors die and some tasks fail. \n",
    "Without using persist, all executors work properly during the whole run and we achive a slight improvement in the execution time."
   ]
  },
  {
   "cell_type": "code",
   "execution_count": null,
   "id": "8ff608f4",
   "metadata": {},
   "outputs": [],
   "source": []
  }
 ],
 "metadata": {
  "kernelspec": {
   "display_name": "Python 3 (ipykernel)",
   "language": "python",
   "name": "python3"
  },
  "language_info": {
   "codemirror_mode": {
    "name": "ipython",
    "version": 3
   },
   "file_extension": ".py",
   "mimetype": "text/x-python",
   "name": "python",
   "nbconvert_exporter": "python",
   "pygments_lexer": "ipython3",
   "version": "3.8.10"
  }
 },
 "nbformat": 4,
 "nbformat_minor": 5
}

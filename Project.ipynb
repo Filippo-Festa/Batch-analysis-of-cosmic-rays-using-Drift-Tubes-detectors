{
 "cells": [
  {
   "cell_type": "markdown",
   "id": "30110614",
   "metadata": {},
   "source": [
    "# Setting"
   ]
  },
  {
   "cell_type": "code",
   "execution_count": 37,
   "id": "21105637",
   "metadata": {},
   "outputs": [],
   "source": [
    "from pyspark.sql import SparkSession\n",
    "\n",
    "spark = SparkSession.builder \\\n",
    "            .master(\"spark://10.67.22.4:7077\") \\\n",
    "            .appName(\"Project\") \\\n",
    "            .config('spark.jars.packages', 'org.apache.hadoop:hadoop-common:3.2.0')\\\n",
    "            .config('spark.jars.packages', 'org.apache.hadoop:hadoop-aws:3.2.0')\\\n",
    "            .config('spark.jars.packages', 'com.amazonaws:aws-java-sdk:1.11.375')\\\n",
    "            .config(\"spark.executor.memory\", \"2g\")\\\n",
    "            .config(\"spark.sql.execution.arrow.pyspark.enabled\", \"true\")\\\n",
    "            .config(\"spark.sql.execution.arrow.pyspark.fallback.enabled\", \"false\")\\\n",
    "            .config('spark.hadoop.fs.s3a.aws.credentials.provider', 'org.apache.hadoop.fs.s3a.SimpleAWSCredentialsProvider')\\\n",
    "            .config('spark.hadoop.fs.s3a.access.key', '2186eedc366545058b0896dadf79d288')\\\n",
    "            .config('spark.hadoop.fs.s3a.secret.key', 'de147ce2e90741cdb9bae8f53ee5466e')\\\n",
    "            .config('spark.hadoop.fs.s3a.endpoint', 'https://cloud-areapd.pd.infn.it:5210')\\\n",
    "            .config(\"spark.hadoop.fs.s3a.impl\", \"org.apache.hadoop.fs.s3a.S3AFileSystem\") \\\n",
    "            .config(\"spark.hadoop.fs.s3a.metadatastore.impl\", \"org.apache.hadoop.fs.s3a.s3guard.NullMetadataStore\") \\\n",
    "            .config(\"spark.hadoop.fs.s3a.path.style.access\", \"true\") \\\n",
    "            .config(\"spark.hadoop.fs.s3a.connection.ssl.enabled\",\"false\") \\\n",
    "            .config(\"com.amazonaws.sdk.disableCertChecking\",\"true\") \\\n",
    "            .getOrCreate()"
   ]
  },
  {
   "cell_type": "code",
   "execution_count": 38,
   "id": "0a95186b",
   "metadata": {},
   "outputs": [
    {
     "data": {
      "text/html": [
       "\n",
       "            <div>\n",
       "                <p><b>SparkSession - in-memory</b></p>\n",
       "                \n",
       "        <div>\n",
       "            <p><b>SparkContext</b></p>\n",
       "\n",
       "            <p><a href=\"http://master:4040\">Spark UI</a></p>\n",
       "\n",
       "            <dl>\n",
       "              <dt>Version</dt>\n",
       "                <dd><code>v3.2.1</code></dd>\n",
       "              <dt>Master</dt>\n",
       "                <dd><code>spark://10.67.22.4:7077</code></dd>\n",
       "              <dt>AppName</dt>\n",
       "                <dd><code>Project</code></dd>\n",
       "            </dl>\n",
       "        </div>\n",
       "        \n",
       "            </div>\n",
       "        "
      ],
      "text/plain": [
       "<pyspark.sql.session.SparkSession at 0x7f7456948850>"
      ]
     },
     "execution_count": 38,
     "metadata": {},
     "output_type": "execute_result"
    }
   ],
   "source": [
    "spark"
   ]
  },
  {
   "cell_type": "code",
   "execution_count": 39,
   "id": "e4201404",
   "metadata": {},
   "outputs": [
    {
     "data": {
      "text/html": [
       "\n",
       "        <div>\n",
       "            <p><b>SparkContext</b></p>\n",
       "\n",
       "            <p><a href=\"http://master:4040\">Spark UI</a></p>\n",
       "\n",
       "            <dl>\n",
       "              <dt>Version</dt>\n",
       "                <dd><code>v3.2.1</code></dd>\n",
       "              <dt>Master</dt>\n",
       "                <dd><code>spark://10.67.22.4:7077</code></dd>\n",
       "              <dt>AppName</dt>\n",
       "                <dd><code>Project</code></dd>\n",
       "            </dl>\n",
       "        </div>\n",
       "        "
      ],
      "text/plain": [
       "<SparkContext master=spark://10.67.22.4:7077 appName=Project>"
      ]
     },
     "execution_count": 39,
     "metadata": {},
     "output_type": "execute_result"
    }
   ],
   "source": [
    "sc = spark.sparkContext\n",
    "sc"
   ]
  },
  {
   "cell_type": "code",
   "execution_count": 40,
   "id": "bd0ac389",
   "metadata": {},
   "outputs": [
    {
     "name": "stderr",
     "output_type": "stream",
     "text": [
      "                                                                                \r"
     ]
    }
   ],
   "source": [
    "raw = spark.read.format(\"binaryFile\").load('s3a://mapd-minidt-batch/data_*.dat')\n",
    "raw = raw.select(\"content\").rdd.flatMap(lambda el: el)"
   ]
  },
  {
   "cell_type": "code",
   "execution_count": 41,
   "id": "410826ab",
   "metadata": {},
   "outputs": [],
   "source": [
    "import struct\n",
    "def unpack(file_content):\n",
    "    ppd = []\n",
    "    word_counter=0\n",
    "    word_size = 8                                             # size of the word in bytes\n",
    "    for i in range(0, len(file_content), word_size):\n",
    "        word_counter+=1\n",
    "        if word_counter>100: break\n",
    "        #time.sleep(0.1)\n",
    "        thisInt = struct.unpack('<q', file_content[i:i+word_size])[0]\n",
    "        head = (thisInt >> 61) & 0x7\n",
    "        \n",
    "        #if head == 2:\n",
    "        fpga     = (thisInt >> 58) & 0x7\n",
    "        chan = (thisInt >> 49) & 0x1FF\n",
    "        orbit  = (thisInt >> 17) & 0xFFFFFFFF\n",
    "        bx       = (thisInt >> 5 ) & 0xFFF\n",
    "        tdc = (thisInt >> 0 ) & 0x1F\n",
    "        ppd.append([head, fpga, chan, orbit, bx, tdc])\n",
    "    return ppd"
   ]
  },
  {
   "cell_type": "code",
   "execution_count": 42,
   "id": "5b461ecc",
   "metadata": {},
   "outputs": [
    {
     "name": "stderr",
     "output_type": "stream",
     "text": [
      "                                                                                \r"
     ]
    }
   ],
   "source": [
    "data = raw.flatMap(lambda file_content: unpack(file_content)).toDF(('HEAD','FPGA','CHAN','ORBIT','BX','TDC'))"
   ]
  },
  {
   "cell_type": "code",
   "execution_count": 43,
   "id": "f383d8a1",
   "metadata": {},
   "outputs": [
    {
     "name": "stderr",
     "output_type": "stream",
     "text": [
      "\r",
      "[Stage 14:>                                                         (0 + 1) / 1]\r"
     ]
    },
    {
     "name": "stdout",
     "output_type": "stream",
     "text": [
      "+----+----+----+---------+----+---+\n",
      "|HEAD|FPGA|CHAN|    ORBIT|  BX|TDC|\n",
      "+----+----+----+---------+----+---+\n",
      "|   1|   0|   0|742070193|   0|  0|\n",
      "|   0|   0|   0|742070157| 260|  1|\n",
      "|   4|   0|   0|742070144|1436| 28|\n",
      "|   5|   0|   0|742070144| 675|  3|\n",
      "|   2|   1|  11|  5797423| 432|  8|\n",
      "|   2|   1|  12|  5797423| 431|  9|\n",
      "|   2|   1|  81|  5797433|1889| 30|\n",
      "|   2|   1|  98|  5797443| 494| 18|\n",
      "|   2|   0|  34|  5797432|2379|  2|\n",
      "|   2|   0|  74|  5797442| 132|  4|\n",
      "|   2|   0|  75|  5797446|2547| 26|\n",
      "|   2|   0|  91|  5797454|1509|  2|\n",
      "|   2|   1|  99|  5797443| 493| 10|\n",
      "|   2|   1| 100|  5797443| 501| 25|\n",
      "|   2|   1| 101|  5797443| 503| 14|\n",
      "|   2|   1|  28|  5797480|2873| 10|\n",
      "|   2|   1|  14|  5797487| 238| 19|\n",
      "|   2|   1|  77|  5797506| 142|  5|\n",
      "|   2|   1| 100|  5797515|3148|  2|\n",
      "|   2|   1|  51|  5797519|2036|  6|\n",
      "+----+----+----+---------+----+---+\n",
      "only showing top 20 rows\n",
      "\n"
     ]
    },
    {
     "name": "stderr",
     "output_type": "stream",
     "text": [
      "\r",
      "                                                                                \r"
     ]
    }
   ],
   "source": [
    "data.show(20)"
   ]
  },
  {
   "cell_type": "code",
   "execution_count": 44,
   "id": "a806087c",
   "metadata": {},
   "outputs": [
    {
     "data": {
      "text/plain": [
       "DataFrame[HEAD: bigint, FPGA: bigint, CHAN: bigint, ORBIT: bigint, BX: bigint, TDC: bigint]"
      ]
     },
     "execution_count": 44,
     "metadata": {},
     "output_type": "execute_result"
    }
   ],
   "source": [
    "data = data.filter(data['HEAD']==2)\n",
    "data.persist()"
   ]
  },
  {
   "cell_type": "code",
   "execution_count": 45,
   "id": "b83c4a6c",
   "metadata": {},
   "outputs": [
    {
     "name": "stderr",
     "output_type": "stream",
     "text": [
      "22/07/02 09:54:39 ERROR TaskSchedulerImpl: Lost executor 19 on 10.67.22.161: Remote RPC client disassociated. Likely due to containers exceeding thresholds, or network issues. Check driver logs for WARN messages.\n",
      "22/07/02 09:54:39 WARN TaskSetManager: Lost task 8.0 in stage 15.0 (TID 294) (10.67.22.161 executor 19): ExecutorLostFailure (executor 19 exited caused by one of the running tasks) Reason: Remote RPC client disassociated. Likely due to containers exceeding thresholds, or network issues. Check driver logs for WARN messages.\n",
      "22/07/02 09:54:39 WARN TaskSetManager: Lost task 11.0 in stage 15.0 (TID 297) (10.67.22.161 executor 19): ExecutorLostFailure (executor 19 exited caused by one of the running tasks) Reason: Remote RPC client disassociated. Likely due to containers exceeding thresholds, or network issues. Check driver logs for WARN messages.\n",
      "22/07/02 09:54:39 WARN TaskSetManager: Lost task 2.0 in stage 15.0 (TID 288) (10.67.22.161 executor 19): ExecutorLostFailure (executor 19 exited caused by one of the running tasks) Reason: Remote RPC client disassociated. Likely due to containers exceeding thresholds, or network issues. Check driver logs for WARN messages.\n",
      "22/07/02 09:54:39 WARN TaskSetManager: Lost task 5.0 in stage 15.0 (TID 291) (10.67.22.161 executor 19): ExecutorLostFailure (executor 19 exited caused by one of the running tasks) Reason: Remote RPC client disassociated. Likely due to containers exceeding thresholds, or network issues. Check driver logs for WARN messages.\n",
      "22/07/02 09:54:39 WARN BlockManagerMasterEndpoint: No more replicas available for rdd_58_0 !\n",
      "22/07/02 09:54:39 WARN BlockManagerMasterEndpoint: No more replicas available for rdd_80_5 !\n",
      "22/07/02 09:54:39 WARN BlockManagerMasterEndpoint: No more replicas available for rdd_80_0 !\n",
      "22/07/02 09:54:39 WARN BlockManagerMasterEndpoint: No more replicas available for rdd_58_5 !\n",
      "22/07/02 09:54:39 WARN BlockManagerMasterEndpoint: No more replicas available for rdd_58_4 !\n",
      "22/07/02 09:54:39 WARN BlockManagerMasterEndpoint: No more replicas available for rdd_58_6 !\n",
      "22/07/02 09:54:39 WARN BlockManagerMasterEndpoint: No more replicas available for rdd_80_6 !\n",
      "22/07/02 09:54:39 WARN BlockManagerMasterEndpoint: No more replicas available for rdd_80_3 !\n",
      "22/07/02 09:54:39 WARN BlockManagerMasterEndpoint: No more replicas available for rdd_80_4 !\n",
      "22/07/02 09:54:39 WARN BlockManagerMasterEndpoint: No more replicas available for rdd_80_2 !\n",
      "22/07/02 09:54:40 ERROR TaskSchedulerImpl: Lost executor 21 on 10.67.22.4: Remote RPC client disassociated. Likely due to containers exceeding thresholds, or network issues. Check driver logs for WARN messages.\n",
      "22/07/02 09:54:40 WARN TaskSetManager: Lost task 9.0 in stage 15.0 (TID 295) (10.67.22.4 executor 21): ExecutorLostFailure (executor 21 exited caused by one of the running tasks) Reason: Remote RPC client disassociated. Likely due to containers exceeding thresholds, or network issues. Check driver logs for WARN messages.\n",
      "22/07/02 09:54:40 WARN TaskSetManager: Lost task 0.0 in stage 15.0 (TID 286) (10.67.22.4 executor 21): ExecutorLostFailure (executor 21 exited caused by one of the running tasks) Reason: Remote RPC client disassociated. Likely due to containers exceeding thresholds, or network issues. Check driver logs for WARN messages.\n",
      "22/07/02 09:54:40 WARN TaskSetManager: Lost task 3.0 in stage 15.0 (TID 289) (10.67.22.4 executor 21): ExecutorLostFailure (executor 21 exited caused by one of the running tasks) Reason: Remote RPC client disassociated. Likely due to containers exceeding thresholds, or network issues. Check driver logs for WARN messages.\n",
      "22/07/02 09:54:40 WARN TaskSetManager: Lost task 6.0 in stage 15.0 (TID 292) (10.67.22.4 executor 21): ExecutorLostFailure (executor 21 exited caused by one of the running tasks) Reason: Remote RPC client disassociated. Likely due to containers exceeding thresholds, or network issues. Check driver logs for WARN messages.\n",
      "22/07/02 09:54:45 ERROR TaskSchedulerImpl: Lost executor 16 on 10.67.22.24: Remote RPC client disassociated. Likely due to containers exceeding thresholds, or network issues. Check driver logs for WARN messages.\n",
      "22/07/02 09:54:45 WARN TaskSetManager: Lost task 6.1 in stage 15.0 (TID 298) (10.67.22.24 executor 16): ExecutorLostFailure (executor 16 exited caused by one of the running tasks) Reason: Remote RPC client disassociated. Likely due to containers exceeding thresholds, or network issues. Check driver logs for WARN messages.\n",
      "22/07/02 09:54:45 WARN TaskSetManager: Lost task 9.1 in stage 15.0 (TID 301) (10.67.22.24 executor 16): ExecutorLostFailure (executor 16 exited caused by one of the running tasks) Reason: Remote RPC client disassociated. Likely due to containers exceeding thresholds, or network issues. Check driver logs for WARN messages.\n",
      "22/07/02 09:54:45 WARN TaskSetManager: Lost task 0.1 in stage 15.0 (TID 300) (10.67.22.24 executor 16): ExecutorLostFailure (executor 16 exited caused by one of the running tasks) Reason: Remote RPC client disassociated. Likely due to containers exceeding thresholds, or network issues. Check driver logs for WARN messages.\n",
      "22/07/02 09:54:45 WARN TaskSetManager: Lost task 3.1 in stage 15.0 (TID 299) (10.67.22.24 executor 16): ExecutorLostFailure (executor 16 exited caused by one of the running tasks) Reason: Remote RPC client disassociated. Likely due to containers exceeding thresholds, or network issues. Check driver logs for WARN messages.\n",
      "22/07/02 09:54:45 WARN BlockManagerMasterEndpoint: No more replicas available for rdd_114_7 !\n",
      "22/07/02 09:54:45 WARN BlockManagerMasterEndpoint: No more replicas available for rdd_58_11 !\n",
      "22/07/02 09:54:45 WARN BlockManagerMasterEndpoint: No more replicas available for rdd_58_2 !\n",
      "22/07/02 09:54:45 WARN BlockManagerMasterEndpoint: No more replicas available for rdd_114_10 !\n",
      "22/07/02 09:54:45 WARN BlockManagerMasterEndpoint: No more replicas available for rdd_114_1 !\n",
      "22/07/02 09:54:45 WARN BlockManagerMasterEndpoint: No more replicas available for rdd_58_7 !\n",
      "22/07/02 09:54:45 WARN BlockManagerMasterEndpoint: No more replicas available for rdd_80_11 !\n",
      "22/07/02 09:54:45 WARN BlockManagerMasterEndpoint: No more replicas available for rdd_58_8 !\n",
      "22/07/02 09:54:45 WARN BlockManagerMasterEndpoint: No more replicas available for rdd_80_7 !\n",
      "22/07/02 09:54:45 WARN BlockManagerMasterEndpoint: No more replicas available for rdd_58_1 !\n",
      "22/07/02 09:54:45 WARN BlockManagerMasterEndpoint: No more replicas available for rdd_80_1 !\n",
      "22/07/02 09:54:45 WARN BlockManagerMasterEndpoint: No more replicas available for rdd_58_3 !\n",
      "22/07/02 09:54:45 WARN BlockManagerMasterEndpoint: No more replicas available for rdd_58_9 !\n",
      "22/07/02 09:54:45 WARN BlockManagerMasterEndpoint: No more replicas available for rdd_80_10 !\n",
      "22/07/02 09:54:45 WARN BlockManagerMasterEndpoint: No more replicas available for rdd_80_9 !\n",
      "22/07/02 09:54:45 WARN BlockManagerMasterEndpoint: No more replicas available for rdd_114_4 !\n",
      "22/07/02 09:54:45 WARN BlockManagerMasterEndpoint: No more replicas available for rdd_58_10 !\n",
      "22/07/02 09:54:45 WARN BlockManagerMasterEndpoint: No more replicas available for rdd_80_8 !\n",
      "22/07/02 09:54:52 ERROR TaskSchedulerImpl: Lost executor 23 on 10.67.22.4: Remote RPC client disassociated. Likely due to containers exceeding thresholds, or network issues. Check driver logs for WARN messages.\n",
      "22/07/02 09:54:52 WARN TaskSetManager: Lost task 0.2 in stage 15.0 (TID 307) (10.67.22.4 executor 23): ExecutorLostFailure (executor 23 exited caused by one of the running tasks) Reason: Remote RPC client disassociated. Likely due to containers exceeding thresholds, or network issues. Check driver logs for WARN messages.\n",
      "22/07/02 09:54:52 WARN TaskSetManager: Lost task 6.2 in stage 15.0 (TID 309) (10.67.22.4 executor 23): ExecutorLostFailure (executor 23 exited caused by one of the running tasks) Reason: Remote RPC client disassociated. Likely due to containers exceeding thresholds, or network issues. Check driver logs for WARN messages.\n",
      "22/07/02 09:54:52 WARN TaskSetManager: Lost task 3.2 in stage 15.0 (TID 306) (10.67.22.4 executor 23): ExecutorLostFailure (executor 23 exited caused by one of the running tasks) Reason: Remote RPC client disassociated. Likely due to containers exceeding thresholds, or network issues. Check driver logs for WARN messages.\n",
      "22/07/02 09:54:52 WARN TaskSetManager: Lost task 9.2 in stage 15.0 (TID 308) (10.67.22.4 executor 23): ExecutorLostFailure (executor 23 exited caused by one of the running tasks) Reason: Remote RPC client disassociated. Likely due to containers exceeding thresholds, or network issues. Check driver logs for WARN messages.\n"
     ]
    },
    {
     "name": "stderr",
     "output_type": "stream",
     "text": [
      "                                                                                \r"
     ]
    },
    {
     "data": {
      "text/plain": [
       "138"
      ]
     },
     "execution_count": 45,
     "metadata": {},
     "output_type": "execute_result"
    }
   ],
   "source": [
    "data.select(\"CHAN\").rdd.max()[0]"
   ]
  },
  {
   "cell_type": "code",
   "execution_count": 35,
   "id": "5583f0d6",
   "metadata": {},
   "outputs": [
    {
     "data": {
      "text/plain": [
       "DataFrame[HEAD: bigint, FPGA: bigint, CHAN: bigint, ORBIT: bigint, BX: bigint, TDC: bigint]"
      ]
     },
     "execution_count": 35,
     "metadata": {},
     "output_type": "execute_result"
    },
    {
     "name": "stderr",
     "output_type": "stream",
     "text": [
      "\r",
      "[Stage 10:====>                                                    (1 + 8) / 12]\r",
      "\r",
      "[Stage 10:====>                                                   (1 + 11) / 12]\r"
     ]
    }
   ],
   "source": []
  },
  {
   "cell_type": "code",
   "execution_count": null,
   "id": "86fec20e",
   "metadata": {},
   "outputs": [],
   "source": []
  },
  {
   "cell_type": "code",
   "execution_count": null,
   "id": "f9875fb4",
   "metadata": {},
   "outputs": [],
   "source": []
  },
  {
   "cell_type": "code",
   "execution_count": null,
   "id": "ac507c03",
   "metadata": {},
   "outputs": [],
   "source": []
  },
  {
   "cell_type": "code",
   "execution_count": null,
   "id": "4cead0e9",
   "metadata": {},
   "outputs": [],
   "source": []
  },
  {
   "cell_type": "code",
   "execution_count": null,
   "id": "f335b09a",
   "metadata": {},
   "outputs": [],
   "source": []
  },
  {
   "cell_type": "code",
   "execution_count": null,
   "id": "5efbbf8b",
   "metadata": {},
   "outputs": [],
   "source": []
  },
  {
   "cell_type": "code",
   "execution_count": null,
   "id": "241756a9",
   "metadata": {},
   "outputs": [],
   "source": []
  },
  {
   "cell_type": "code",
   "execution_count": 53,
   "id": "12e74e6d",
   "metadata": {},
   "outputs": [],
   "source": [
    "raw = spark.read.format(\"binaryFile\").option('encoding','uint64').load('s3a://mapd-minidt-batch/data_000000.dat')"
   ]
  },
  {
   "cell_type": "code",
   "execution_count": 55,
   "id": "ef482163",
   "metadata": {},
   "outputs": [
    {
     "name": "stderr",
     "output_type": "stream",
     "text": [
      "                                                                                \r"
     ]
    },
    {
     "name": "stdout",
     "output_type": "stream",
     "text": [
      "+--------------------+-------------------+--------+--------------------+\n",
      "|                path|   modificationTime|  length|             content|\n",
      "+--------------------+-------------------+--------+--------------------+\n",
      "|s3a://mapd-minidt...|2022-05-30 08:56:11|10484736|[00 00 82 E7 54 E...|\n",
      "+--------------------+-------------------+--------+--------------------+\n",
      "\n"
     ]
    }
   ],
   "source": [
    "raw.show(5)"
   ]
  },
  {
   "cell_type": "code",
   "execution_count": 54,
   "id": "0f8bac47",
   "metadata": {},
   "outputs": [],
   "source": [
    "prova = raw.select(\"content\").rdd.flatMap(lambda el: el)#.map(lambda num: '{:064b}'.format(struct.unpack(\"h\", num)[0]))"
   ]
  },
  {
   "cell_type": "code",
   "execution_count": 43,
   "id": "cb52387a",
   "metadata": {},
   "outputs": [
    {
     "name": "stderr",
     "output_type": "stream",
     "text": [
      "                                                                                \r"
     ]
    }
   ],
   "source": [
    "#prova.take(10)\n",
    "a = prova.take(20)"
   ]
  },
  {
   "cell_type": "code",
   "execution_count": 69,
   "id": "f270b7c4",
   "metadata": {},
   "outputs": [
    {
     "data": {
      "text/plain": [
       "bytearray"
      ]
     },
     "execution_count": 69,
     "metadata": {},
     "output_type": "execute_result"
    }
   ],
   "source": [
    "type(a[0])"
   ]
  },
  {
   "cell_type": "code",
   "execution_count": 44,
   "id": "d0642746",
   "metadata": {},
   "outputs": [
    {
     "data": {
      "text/plain": [
       "bytearray(b'\\x00\\x00\\x82\\xe7')"
      ]
     },
     "execution_count": 44,
     "metadata": {},
     "output_type": "execute_result"
    }
   ],
   "source": [
    "a[0][0:4]"
   ]
  },
  {
   "cell_type": "code",
   "execution_count": 45,
   "id": "3a095ac4",
   "metadata": {},
   "outputs": [
    {
     "data": {
      "text/plain": [
       "130"
      ]
     },
     "execution_count": 45,
     "metadata": {},
     "output_type": "execute_result"
    }
   ],
   "source": [
    "a[0][2]"
   ]
  },
  {
   "cell_type": "code",
   "execution_count": 39,
   "id": "a51c8472",
   "metadata": {},
   "outputs": [],
   "source": [
    "def custom_unpack(num):\n",
    "    counter = 0\n",
    "    list_num1, list_num2 = [], []\n",
    "    while(counter != len(num)):\n",
    "        num_ex = num[counter:counter+1]\n",
    "        print('Flag ',counter)\n",
    "        integer = int(''.join([str(el) for el in num_ex]),16)\n",
    "        print(integer)\n",
    "        length = 8\n",
    "        num_bin = f'{integer:0>8b}'\n",
    "        list_num1.append(num_bin)\n",
    "        counter += 1\n",
    "    counter = 0\n",
    "    while(counter < len(list_num1)):\n",
    "        list_num2.append(''.join(list_num1[counter:counter+8]))\n",
    "        counter += 8\n",
    "    return list_num2\n",
    "\n",
    "#custom_unpack([0]*128)\n",
    "#custom_unpack(['B','C','3','8','6','5','0','2','F','E','B','C','A','5','6','3','3','4','6','3','4','5','7','5','9','7','8','A','E','A','5','0'])\n",
    "#print(custom_unpack(a[0][0:16]))\n",
    "#print(a[0][0:16])"
   ]
  },
  {
   "cell_type": "code",
   "execution_count": 56,
   "id": "2f7b4e0f",
   "metadata": {},
   "outputs": [],
   "source": [
    "prova2 = prova.flatMap(lambda x: custom_unpack(x))"
   ]
  },
  {
   "cell_type": "code",
   "execution_count": 66,
   "id": "de97a3fa",
   "metadata": {
    "scrolled": true
   },
   "outputs": [
    {
     "name": "stderr",
     "output_type": "stream",
     "text": [
      "                                                                                \r"
     ]
    },
    {
     "data": {
      "text/plain": [
       "['1110000110000111110011111111100101001101001001001001111001000000',\n",
       " '0000100110110110111011011111100101001101001001001110100001000000',\n",
       " '0101001001011100111111111111100101001101001001001101110001000000',\n",
       " '0101100000011110000000001111101001001101001001000010100001000000',\n",
       " '1001110010001011001011011111101001001101001001001110011001000000',\n",
       " '1111111001011010001110001111101001001101001001001000111001000000',\n",
       " '0101111001001111001111111111101001001101001001001111100001000000',\n",
       " '1011010010011110010001101111101001001101001001001110010001000000',\n",
       " '0100101010000000111110101111100101001101001001000011011001000100',\n",
       " '0000010100110100001000111111101001001101001001001001001001000100']"
      ]
     },
     "execution_count": 66,
     "metadata": {},
     "output_type": "execute_result"
    }
   ],
   "source": [
    "prova2.take(10)"
   ]
  },
  {
   "cell_type": "code",
   "execution_count": 41,
   "id": "721fefdc",
   "metadata": {},
   "outputs": [],
   "source": [
    "prova2 = prova2.persist()"
   ]
  },
  {
   "cell_type": "code",
   "execution_count": 68,
   "id": "4e935591",
   "metadata": {},
   "outputs": [],
   "source": [
    "prova3 = prova2.map(lambda x: (x[0:5],x[5:17],x[17:49],x[49:58],x[58:61],x[61:]))#.toDF(('TDC','BX','ORBIT','CHAN','FPGA','HEAD'))"
   ]
  },
  {
   "cell_type": "code",
   "execution_count": null,
   "id": "7a6cb131",
   "metadata": {},
   "outputs": [],
   "source": []
  },
  {
   "cell_type": "code",
   "execution_count": 70,
   "id": "26f1f5eb",
   "metadata": {},
   "outputs": [
    {
     "name": "stderr",
     "output_type": "stream",
     "text": [
      "                                                                                \r"
     ]
    },
    {
     "data": {
      "text/plain": [
       "[('11100',\n",
       "  '001100001111',\n",
       "  '10011111111100101001101001001001',\n",
       "  '001111001',\n",
       "  '000',\n",
       "  '000'),\n",
       " ('00001',\n",
       "  '001101101101',\n",
       "  '11011011111100101001101001001001',\n",
       "  '110100001',\n",
       "  '000',\n",
       "  '000')]"
      ]
     },
     "execution_count": 70,
     "metadata": {},
     "output_type": "execute_result"
    }
   ],
   "source": [
    "prova3.take(2)"
   ]
  },
  {
   "cell_type": "code",
   "execution_count": null,
   "id": "f6e2cce4",
   "metadata": {},
   "outputs": [],
   "source": []
  },
  {
   "cell_type": "code",
   "execution_count": 57,
   "id": "3c960c72",
   "metadata": {},
   "outputs": [
    {
     "name": "stderr",
     "output_type": "stream",
     "text": [
      "                                                                                \r"
     ]
    }
   ],
   "source": [
    "#prova4 = prova2.map(lambda x: (int(x[0:5],2),int(x[5:17],2),int(x[17:49],2),int(x[49:58],2),int(x[58:61],2),int(x[61:],2))).toDF(('TDC','BX','ORBIT','CHAN','FPGA','HEAD'))\n",
    "prova4 = prova2.map(lambda x: (int(x[59:],2),int(x[47:59],2),int(x[15:47],2),int(x[6:15],2),int(x[3:6],2),int(x[:3],2))).toDF(('TDC','BX','ORBIT','CHAN','FPGA','HEAD'))"
   ]
  },
  {
   "cell_type": "code",
   "execution_count": 59,
   "id": "6f01368a",
   "metadata": {},
   "outputs": [
    {
     "name": "stderr",
     "output_type": "stream",
     "text": [
      "[Stage 28:>                                                         (0 + 1) / 1]\r"
     ]
    },
    {
     "name": "stdout",
     "output_type": "stream",
     "text": [
      "+----+----+----------+----+----+----+\n",
      "| TDC|  BX|     ORBIT|CHAN|FPGA|HEAD|\n",
      "+----+----+----------+----+----+----+\n",
      "| 310|3104|1277368392|   0|   0|   0|\n",
      "| 260|1552|1295092772| 330|   0|   0|\n",
      "| 818|1552|2148633636| 112|   2|   5|\n",
      "| 868|3104|1076041800| 416|   6|   5|\n",
      "| 356| 490|1617457165| 322|   1|   3|\n",
      "| 356| 481|2737336333| 328|   4|   4|\n",
      "|1380| 962|3327189018| 145|   4|   3|\n",
      "| 868| 485|1787326477| 470|   2|   5|\n",
      "|4456|1144|1220680707| 162|   6|   5|\n",
      "| 872| 476| 606629901|   5|   1|   6|\n",
      "| 872| 960|3524321306| 280|   1|   2|\n",
      "| 360| 496|1787326477| 278|   4|   4|\n",
      "| 808|2112|   1666833| 353|   5|   3|\n",
      "| 864|3104| 537704328| 193|   2|   2|\n",
      "| 406|2112|2152476433| 139|   0|   0|\n",
      "| 306|2112|  38547217|   0|   0|   0|\n",
      "| 768|2112|   4853937| 308|   5|   1|\n",
      "| 310|2112| 541724849|   0|   0|   0|\n",
      "| 260| 776|1493778966|  72|   1|   0|\n",
      "| 818| 776|    606742| 184|   5|   4|\n",
      "|2404| 484| 713584653| 408|   6|   5|\n",
      "|1380| 970|1427169306| 176|   1|   0|\n",
      "| 356| 970|1435557914|  44|   1|   0|\n",
      "|1380| 966|3775979546| 420|   4|   4|\n",
      "| 360| 962|1427169306|  48|   4|   2|\n",
      "| 872| 992|1427169306| 304|   1|   0|\n",
      "| 360| 968|1427169306|  48|   1|   4|\n",
      "| 872| 989|3574652954| 432|   4|   2|\n",
      "| 256| 776|1377404386| 104|   3|   5|\n",
      "| 808|1552|2148731844|  48|   5|   4|\n",
      "+----+----+----------+----+----+----+\n",
      "only showing top 30 rows\n",
      "\n"
     ]
    },
    {
     "name": "stderr",
     "output_type": "stream",
     "text": [
      "\r",
      "                                                                                \r"
     ]
    }
   ],
   "source": [
    "prova4.show(30)"
   ]
  },
  {
   "cell_type": "code",
   "execution_count": 58,
   "id": "5dcc927a",
   "metadata": {},
   "outputs": [],
   "source": [
    "prova4 = prova4.persist()"
   ]
  },
  {
   "cell_type": "code",
   "execution_count": 46,
   "id": "1c798538",
   "metadata": {},
   "outputs": [],
   "source": [
    "prova5 = prova4.filter(prova4['HEAD']==2)\n",
    "prova5 = prova5.persist()"
   ]
  },
  {
   "cell_type": "code",
   "execution_count": 61,
   "id": "7b3387f3",
   "metadata": {},
   "outputs": [
    {
     "name": "stdout",
     "output_type": "stream",
     "text": [
      "+---+---+-----+----+----+----+\n",
      "|TDC| BX|ORBIT|CHAN|FPGA|HEAD|\n",
      "+---+---+-----+----+----+----+\n",
      "+---+---+-----+----+----+----+\n",
      "\n"
     ]
    }
   ],
   "source": [
    "prova5.show(300)\n",
    "#prova5.count()"
   ]
  },
  {
   "cell_type": "code",
   "execution_count": 60,
   "id": "fe396619",
   "metadata": {},
   "outputs": [],
   "source": [
    "prova5 = prova4.filter(prova4['HEAD']==1)\n",
    "prova5 = prova5.filter(prova5['FPGA']==1)\n",
    "prova5 = prova5.filter(prova5['TDC']==0)\n",
    "prova5 = prova5.filter(prova5['CHAN']==100)\n",
    "prova5 = prova5.filter(prova5['BX']==0)\n",
    "#prova5 = prova5.filter(prova5['ORBIT']==4083301778)\n",
    "#prova5 = prova5.filter()\n",
    "prova5 = prova5.persist()"
   ]
  },
  {
   "cell_type": "code",
   "execution_count": null,
   "id": "b5443970",
   "metadata": {
    "scrolled": true
   },
   "outputs": [],
   "source": [
    "raw2 = sc.binaryFiles('s3a://mapd-minidt-batch/data_*.dat')"
   ]
  },
  {
   "cell_type": "code",
   "execution_count": null,
   "id": "b0737a87",
   "metadata": {},
   "outputs": [],
   "source": [
    "raw2.take(3)"
   ]
  },
  {
   "cell_type": "code",
   "execution_count": null,
   "id": "c8d486ad",
   "metadata": {},
   "outputs": [],
   "source": []
  },
  {
   "cell_type": "code",
   "execution_count": null,
   "id": "8f8f6212",
   "metadata": {},
   "outputs": [],
   "source": []
  },
  {
   "cell_type": "code",
   "execution_count": null,
   "id": "42396e8b",
   "metadata": {},
   "outputs": [],
   "source": [
    "prova_df = prova.toDF(\"content\")\n",
    "prova_df.printSchema()"
   ]
  },
  {
   "cell_type": "code",
   "execution_count": null,
   "id": "89b53be6",
   "metadata": {},
   "outputs": [],
   "source": [
    "from pyspark.sql import functions as F\n",
    "\n",
    "prova_df.withColumn(\"content_s\", F.unbase64(F.col(\"content\"))).show(2)"
   ]
  },
  {
   "cell_type": "code",
   "execution_count": null,
   "id": "3159fbfa",
   "metadata": {},
   "outputs": [],
   "source": [
    "prova_df.withColumn(\"content_s\", F.decode(F.col(\"content\"),'UTF-8')).show(2)"
   ]
  },
  {
   "cell_type": "code",
   "execution_count": 51,
   "id": "5c9e9c37",
   "metadata": {},
   "outputs": [
    {
     "data": {
      "text/plain": [
       "['1011110000111000011001010000001011111110101111001010010101100011',\n",
       " '0011010001100011010001010111010110010111100010101110101001010000']"
      ]
     },
     "execution_count": 51,
     "metadata": {},
     "output_type": "execute_result"
    }
   ],
   "source": []
  },
  {
   "cell_type": "code",
   "execution_count": 39,
   "id": "123d8583",
   "metadata": {},
   "outputs": [
    {
     "data": {
      "text/plain": [
       "'111000AAA'"
      ]
     },
     "execution_count": 39,
     "metadata": {},
     "output_type": "execute_result"
    }
   ],
   "source": [
    "list_num = ['111','000','AAA']\n",
    "''.join(list_num[0:4])"
   ]
  },
  {
   "cell_type": "code",
   "execution_count": 44,
   "id": "864c91cb",
   "metadata": {},
   "outputs": [
    {
     "data": {
      "text/plain": [
       "str"
      ]
     },
     "execution_count": 44,
     "metadata": {},
     "output_type": "execute_result"
    }
   ],
   "source": [
    "inte = int('32',16)\n",
    "type(f'{inte:0>8b}')"
   ]
  },
  {
   "cell_type": "code",
   "execution_count": 20,
   "id": "fa2db6d1",
   "metadata": {},
   "outputs": [
    {
     "data": {
      "text/plain": [
       "[2]"
      ]
     },
     "execution_count": 20,
     "metadata": {},
     "output_type": "execute_result"
    }
   ],
   "source": [
    "x=[1,2,3,4,5,6]\n",
    "x[1:2]"
   ]
  },
  {
   "cell_type": "code",
   "execution_count": 45,
   "id": "5e328175",
   "metadata": {},
   "outputs": [
    {
     "name": "stdout",
     "output_type": "stream",
     "text": [
      "<class 'int'>\n"
     ]
    }
   ],
   "source": [
    "integer = 0xABC123EFFF\n",
    "print(type(integer))"
   ]
  },
  {
   "cell_type": "code",
   "execution_count": null,
   "id": "a3924389",
   "metadata": {},
   "outputs": [],
   "source": [
    "raw = sc.binaryFiles('s3a://mapd-minidt-batch/data_*.dat')\n",
    "raw"
   ]
  },
  {
   "cell_type": "code",
   "execution_count": null,
   "id": "41e911b0",
   "metadata": {},
   "outputs": [],
   "source": [
    "df = spark.read.option(\"header\", False).csv('s3a://mapd-minidt-batch/data_*.dat')"
   ]
  },
  {
   "cell_type": "code",
   "execution_count": null,
   "id": "8eb1b7d3",
   "metadata": {},
   "outputs": [],
   "source": [
    "df = spark.read.format(\"text\").load('s3a://mapd-minidt-batch/data_*.dat')"
   ]
  },
  {
   "cell_type": "code",
   "execution_count": null,
   "id": "3894a0b9",
   "metadata": {},
   "outputs": [],
   "source": [
    "df"
   ]
  },
  {
   "cell_type": "code",
   "execution_count": null,
   "id": "4445b864",
   "metadata": {},
   "outputs": [],
   "source": [
    "df.show(2)"
   ]
  },
  {
   "cell_type": "code",
   "execution_count": null,
   "id": "0c985fcf",
   "metadata": {},
   "outputs": [],
   "source": []
  },
  {
   "cell_type": "code",
   "execution_count": null,
   "id": "7c50cf52",
   "metadata": {},
   "outputs": [],
   "source": [
    "from pyspark.sql import functions as F\n",
    "\n",
    "gianni = df.withColumn(\"_c0s\", F.hex(F.col(\"_c0\")))#.show(10)"
   ]
  },
  {
   "cell_type": "code",
   "execution_count": null,
   "id": "8d9bac55",
   "metadata": {},
   "outputs": [],
   "source": [
    "from pyspark.sql import functions as f\n",
    "gianni.select(\"*\", \n",
    "          f.substring(\"_c0s\", 0, 1), \n",
    "          f.substring(\"_c0s\", 0, 1).cast(\"int\")).show()"
   ]
  },
  {
   "cell_type": "code",
   "execution_count": null,
   "id": "269fbe31",
   "metadata": {},
   "outputs": [],
   "source": []
  },
  {
   "cell_type": "code",
   "execution_count": null,
   "id": "fe9f1b49",
   "metadata": {},
   "outputs": [],
   "source": [
    "prova = raw.select(\"content\")"
   ]
  },
  {
   "cell_type": "code",
   "execution_count": null,
   "id": "3981231e",
   "metadata": {},
   "outputs": [],
   "source": [
    "prova.show(1)"
   ]
  },
  {
   "cell_type": "code",
   "execution_count": null,
   "id": "63c39bfb",
   "metadata": {},
   "outputs": [],
   "source": [
    "prova_df = prova.toDF(\"content\")\n",
    "prova_df.printSchema()"
   ]
  },
  {
   "cell_type": "code",
   "execution_count": null,
   "id": "76ed60f6",
   "metadata": {},
   "outputs": [],
   "source": []
  },
  {
   "cell_type": "code",
   "execution_count": null,
   "id": "786e2018",
   "metadata": {},
   "outputs": [],
   "source": []
  },
  {
   "cell_type": "code",
   "execution_count": null,
   "id": "7c727a76",
   "metadata": {},
   "outputs": [],
   "source": []
  },
  {
   "cell_type": "code",
   "execution_count": null,
   "id": "cd49da2c",
   "metadata": {},
   "outputs": [],
   "source": []
  }
 ],
 "metadata": {
  "kernelspec": {
   "display_name": "Python 3 (ipykernel)",
   "language": "python",
   "name": "python3"
  },
  "language_info": {
   "codemirror_mode": {
    "name": "ipython",
    "version": 3
   },
   "file_extension": ".py",
   "mimetype": "text/x-python",
   "name": "python",
   "nbconvert_exporter": "python",
   "pygments_lexer": "ipython3",
   "version": "3.8.10"
  }
 },
 "nbformat": 4,
 "nbformat_minor": 5
}
